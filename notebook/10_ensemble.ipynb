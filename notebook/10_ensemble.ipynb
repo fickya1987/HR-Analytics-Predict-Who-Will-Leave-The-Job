{
 "cells": [
  {
   "cell_type": "code",
   "execution_count": null,
   "metadata": {},
   "outputs": [],
   "source": [
    "\"\"\"\n",
    "Ensemble methods (with notes below!):\n",
    "\n",
    "1. Voting Classifier (Hard, Soft)\n",
    "2. Bagging Classifier\n",
    "3. Boosting (AdaBoost, Gradient Boost)\n",
    "4. Stacking\n",
    "\n",
    "\n",
    "Learners:\n",
    "\n",
    "1. Logistic Regression\n",
    "2. kNN\n",
    "3. Naive Bayes\n",
    "4. Decition Tree\n",
    "5. Random Forests\n",
    "6. Extra Trees\n",
    "7. AdaBoost\n",
    "8. Gradient Boost\n",
    "\n",
    "\n",
    "\n",
    "\"\"\""
   ]
  },
  {
   "cell_type": "code",
   "execution_count": 100,
   "metadata": {},
   "outputs": [],
   "source": [
    "import pandas as pd\n",
    "import numpy as np\n",
    "import matplotlib.pyplot as plt\n",
    "import seaborn as sns\n",
    "import pickle\n",
    "\n",
    "from sklearn.model_selection import train_test_split\n",
    "from sklearn.linear_model import LogisticRegression\n",
    "from sklearn.preprocessing import StandardScaler, OneHotEncoder\n",
    "from sklearn.metrics import confusion_matrix, accuracy_score, classification_report\n",
    "from sklearn.metrics import roc_curve, auc, roc_auc_score\n",
    "from sklearn.metrics import precision_score, recall_score, precision_recall_curve,f1_score, fbeta_score, log_loss\n",
    "\n",
    "from sklearn.neighbors import KNeighborsClassifier\n",
    "from sklearn.naive_bayes import GaussianNB, BernoulliNB\n",
    "\n",
    "from sklearn.tree import DecisionTreeClassifier\n",
    "from sklearn.svm import LinearSVC\n",
    "from sklearn.svm import SVC\n",
    "from sklearn.ensemble import RandomForestClassifier, BaggingClassifier, GradientBoostingClassifier\n",
    "from sklearn.linear_model import LogisticRegression\n",
    "\n",
    "from sklearn.model_selection import GridSearchCV\n",
    "from sklearn.model_selection import RepeatedStratifiedKFold\n",
    "\n",
    "import xgboost as xgb\n",
    "from xgboost import XGBClassifier\n",
    "\n",
    "from sklearn.ensemble import (RandomForestClassifier, ExtraTreesClassifier, VotingClassifier, \n",
    "                              AdaBoostClassifier, BaggingRegressor, StackingClassifier)"
   ]
  },
  {
   "cell_type": "code",
   "execution_count": 51,
   "metadata": {},
   "outputs": [],
   "source": [
    "# Load data\n",
    "df_train = pd.read_pickle('../dump/df_train.csv')\n",
    "df_test = pd.read_pickle('../dump/df_test.csv')\n",
    "\n",
    "\n",
    "X_train = pd.read_pickle('../dump/X_adasyn')\n",
    "y_train = pd.read_pickle('../dump/y_adasyn')\n",
    "X_test = pd.read_pickle('../dump/X_test_processed')\n",
    "y_test = df_test['target']"
   ]
  },
  {
   "cell_type": "code",
   "execution_count": null,
   "metadata": {},
   "outputs": [],
   "source": []
  },
  {
   "cell_type": "markdown",
   "metadata": {},
   "source": [
    "## Prepare models"
   ]
  },
  {
   "cell_type": "code",
   "execution_count": 15,
   "metadata": {},
   "outputs": [],
   "source": [
    "# Define models (default)\n",
    "lr_model = LogisticRegression(solver='lbfgs', C=10000, penalty='l2')\n",
    "nb_model = GaussianNB()\n",
    "knn_model = KNeighborsClassifier(n_neighbors=5)\n",
    "# svc_model = SVC(probability=True, gamma=\"scale\")\n",
    "rf_model = RandomForestClassifier(max_depth=4, max_features=sqrt, min_samples_leaf=0.1, n_estimators=300)\n",
    "et_model = ExtraTreesClassifier(n_estimators=100)\n",
    "ada_model = AdaBoostClassifier()\n",
    "\n",
    "# Notice that these model names (strings) match the models themselves (variables, above)\n",
    "# models = [\"lr_model\", \"nb_model\", \"knn_model\", \"svc_model\", \"rf_model\", \"et_model\", \"ada_model\"]\n",
    "models = [\"lr_model\", \"nb_model\", \"knn_model\",\"rf_model\", \"et_model\", \"ada_model\"]"
   ]
  },
  {
   "cell_type": "code",
   "execution_count": 132,
   "metadata": {},
   "outputs": [],
   "source": [
    "# Define models (refined)\n",
    "lr_model = LogisticRegression()\n",
    "nb_model = GaussianNB()\n",
    "knn_model = KNeighborsClassifier()\n",
    "svc_model = SVC(probability=True, gamma=\"scale\")\n",
    "rf_model = RandomForestClassifier(n_estimators=100)\n",
    "et_model = ExtraTreesClassifier(n_estimators=100)\n",
    "ada_model = AdaBoostClassifier(DecisionTreeClassifier(max_depth=1),\n",
    "                        n_estimators=2500,algorithm=\"SAMME.R\",learning_rate=0.001)\n",
    "\n",
    "# Notice that these model names (strings) match the models themselves (variables, above)\n",
    "# models = [\"lr_model\", \"nb_model\", \"knn_model\", \"svc_model\", \"rf_model\", \"et_model\", \"ada_model\"]\n",
    "models2 = [\"lr_model\", \"nb_model\", \"knn_model\",\"rf_model\", \"et_model\", \"ada_model\"]"
   ]
  },
  {
   "cell_type": "code",
   "execution_count": 133,
   "metadata": {},
   "outputs": [],
   "source": [
    "import os\n",
    "\n",
    "if not os.path.exists('models2'):\n",
    "    os.makedirs('models2')"
   ]
  },
  {
   "cell_type": "code",
   "execution_count": 134,
   "metadata": {},
   "outputs": [
    {
     "name": "stderr",
     "output_type": "stream",
     "text": [
      "/opt/anaconda3/lib/python3.8/site-packages/sklearn/linear_model/_logistic.py:762: ConvergenceWarning: lbfgs failed to converge (status=1):\n",
      "STOP: TOTAL NO. of ITERATIONS REACHED LIMIT.\n",
      "\n",
      "Increase the number of iterations (max_iter) or scale the data as shown in:\n",
      "    https://scikit-learn.org/stable/modules/preprocessing.html\n",
      "Please also refer to the documentation for alternative solver options:\n",
      "    https://scikit-learn.org/stable/modules/linear_model.html#logistic-regression\n",
      "  n_iter_i = _check_optimize_result(\n"
     ]
    }
   ],
   "source": [
    "for model_name in models:\n",
    "    curr_model = eval(model_name)  # The string refers us to the variable\n",
    "    \n",
    "    curr_model.fit(X_train, y_train)\n",
    "    \n",
    "    # Notice the syntax here.\n",
    "    with open(f\"models2/{model_name}.pickle\", \"wb\") as pfile:\n",
    "        pickle.dump(curr_model, pfile)"
   ]
  },
  {
   "cell_type": "code",
   "execution_count": 135,
   "metadata": {},
   "outputs": [],
   "source": [
    "# Load pre-trained/tuned models\n",
    "\n",
    "# model_names = [\"lr_model\", \"nb_model\", \"knn_model\", \"svc_model\", \"rf_model\", \"et_model\", \"ada_model\"]\n",
    "model_names = [\"lr_model\", \"nb_model\", \"knn_model\",\"rf_model\", \"et_model\", \"ada_model\"]\n",
    "\n",
    "for model_name in model_names:\n",
    "    with open(f\"models2/{model_name}.pickle\", \"rb\") as pfile:\n",
    "        exec(f\"{model_name} = pickle.load(pfile)\")\n",
    "        \n",
    "\n",
    "model_vars = [eval(n) for n in model_names]\n",
    "model_list = list(zip(model_names, model_vars))"
   ]
  },
  {
   "cell_type": "code",
   "execution_count": 19,
   "metadata": {},
   "outputs": [
    {
     "name": "stdout",
     "output_type": "stream",
     "text": [
      "lr_model ROC AUC score: 0.7653097499463404\n",
      "nb_model ROC AUC score: 0.6866291496744652\n",
      "knn_model ROC AUC score: 0.6898381045646419\n",
      "rf_model ROC AUC score: 0.7492023726479216\n",
      "et_model ROC AUC score: 0.7383692852543464\n",
      "ada_model ROC AUC score: 0.733859644415826\n"
     ]
    }
   ],
   "source": [
    "for model_name in model_names:\n",
    "    curr_model = eval(model_name)\n",
    "    print(f'{model_name} ROC AUC score: {roc_auc_score(y_test,curr_model.predict_proba(X_test)[:, 1])}')"
   ]
  },
  {
   "cell_type": "code",
   "execution_count": 136,
   "metadata": {},
   "outputs": [
    {
     "name": "stdout",
     "output_type": "stream",
     "text": [
      "lr_model ROC AUC score: 0.7644098340130213\n",
      "nb_model ROC AUC score: 0.6842032893324748\n",
      "knn_model ROC AUC score: 0.6929464477355656\n",
      "rf_model ROC AUC score: 0.7528467527008658\n",
      "et_model ROC AUC score: 0.7412931736066396\n",
      "ada_model ROC AUC score: 0.7816815124847964\n"
     ]
    }
   ],
   "source": [
    "# From models2\n",
    "for model_name in model_names:\n",
    "    curr_model = eval(model_name)\n",
    "    print(f'{model_name} ROC AUC score: {roc_auc_score(y_test,curr_model.predict_proba(X_test)[:, 1])}')"
   ]
  },
  {
   "cell_type": "code",
   "execution_count": null,
   "metadata": {},
   "outputs": [],
   "source": []
  },
  {
   "cell_type": "markdown",
   "metadata": {},
   "source": [
    "## 1. Voting Classifier\n",
    "\n",
    "Use a diverse set of classifiers by using different training algorithms but the same train data."
   ]
  },
  {
   "cell_type": "markdown",
   "metadata": {},
   "source": [
    "### Majority vote (hard)"
   ]
  },
  {
   "cell_type": "code",
   "execution_count": 20,
   "metadata": {},
   "outputs": [
    {
     "name": "stdout",
     "output_type": "stream",
     "text": [
      "Accuracy score: 0.7341474870831376 \n",
      "\n",
      "Classification report (Naive Bayes):\n",
      "\n",
      "               precision    recall  f1-score   support\n",
      "\n",
      "           0       0.87      0.75      0.81      1553\n",
      "           1       0.51      0.68      0.58       576\n",
      "\n",
      "    accuracy                           0.73      2129\n",
      "   macro avg       0.69      0.72      0.69      2129\n",
      "weighted avg       0.77      0.73      0.74      2129\n",
      "\n"
     ]
    }
   ],
   "source": [
    "# create voting classifier\n",
    "voting_classifer = VotingClassifier(estimators=model_list,\n",
    "                                    voting='hard', # <-- sklearn calls this hard voting\n",
    "                                    n_jobs=-1)\n",
    "voting_classifer.fit(X_train, y_train)\n",
    "pred = voting_classifer.predict(X_test)\n",
    "print('Accuracy score:',accuracy_score(y_test,pred),'\\n')\n",
    "print('Classification report (Majority vote):\\n\\n',classification_report(y_test,pred))"
   ]
  },
  {
   "cell_type": "code",
   "execution_count": null,
   "metadata": {},
   "outputs": [],
   "source": []
  },
  {
   "cell_type": "markdown",
   "metadata": {},
   "source": [
    "### Average vote (soft)"
   ]
  },
  {
   "cell_type": "code",
   "execution_count": 21,
   "metadata": {},
   "outputs": [
    {
     "name": "stdout",
     "output_type": "stream",
     "text": [
      "Accuracy score: 0.7111319868482856 \n",
      "\n",
      "Classification report (Naive Bayes):\n",
      "\n",
      "               precision    recall  f1-score   support\n",
      "\n",
      "           0       0.87      0.71      0.78      1553\n",
      "           1       0.48      0.72      0.57       576\n",
      "\n",
      "    accuracy                           0.71      2129\n",
      "   macro avg       0.67      0.71      0.68      2129\n",
      "weighted avg       0.76      0.71      0.73      2129\n",
      "\n"
     ]
    }
   ],
   "source": [
    "# create voting classifier\n",
    "voting_classifer = VotingClassifier(estimators=model_list,\n",
    "                                    voting='soft', # <-- sklearn calls this soft voting\n",
    "                                    n_jobs=-1)\n",
    "voting_classifer.fit(X_train, y_train)\n",
    "pred = voting_classifer.predict(X_test)\n",
    "print('Accuracy score:',accuracy_score(y_test,pred),'\\n')\n",
    "print('Classification report (Average vote):\\n\\n',classification_report(y_test,pred))"
   ]
  },
  {
   "cell_type": "code",
   "execution_count": null,
   "metadata": {},
   "outputs": [],
   "source": []
  },
  {
   "cell_type": "markdown",
   "metadata": {},
   "source": [
    "### Weighted vote (soft)"
   ]
  },
  {
   "cell_type": "code",
   "execution_count": 41,
   "metadata": {},
   "outputs": [
    {
     "name": "stdout",
     "output_type": "stream",
     "text": [
      "Accuracy score: 0.7186472522310944 \n",
      "\n",
      "Classification report (Weighted vote):\n",
      "\n",
      "               precision    recall  f1-score   support\n",
      "\n",
      "           0       0.87      0.72      0.79      1553\n",
      "           1       0.49      0.71      0.58       576\n",
      "\n",
      "    accuracy                           0.72      2129\n",
      "   macro avg       0.68      0.72      0.68      2129\n",
      "weighted avg       0.77      0.72      0.73      2129\n",
      "\n"
     ]
    }
   ],
   "source": [
    "# create voting classifier\n",
    "weights = [1.1,2.2,3.3,3.3,2.2,1.1]\n",
    "voting_model = VotingClassifier(estimators=model_list,\n",
    "                                    voting='soft', \n",
    "                                    weights = weights,\n",
    "                                    n_jobs=-1)\n",
    "voting_model.fit(X_train, y_train)\n",
    "pred = voting_model.predict(X_test)\n",
    "print('Accuracy score:',accuracy_score(y_test,pred),'\\n')\n",
    "print('Classification report (Weighted vote):\\n\\n',classification_report(y_test,pred))"
   ]
  },
  {
   "cell_type": "markdown",
   "metadata": {},
   "source": [
    "#### Visualization of weighted votes"
   ]
  },
  {
   "cell_type": "code",
   "execution_count": 31,
   "metadata": {},
   "outputs": [
    {
     "data": {
      "image/png": "[encoded data removed]",
      "text/plain": [
       "<Figure size 864x576 with 1 Axes>"
      ]
     },
     "metadata": {
      "needs_background": "light"
     },
     "output_type": "display_data"
    }
   ],
   "source": [
    "# predict class probabilities for all classifiers\n",
    "probas = [c.predict_proba(X_train) for n,c in model_list]\n",
    "probas += [voting_model.predict_proba(X_train)]\n",
    "# get class probabilities for the first sample in the dataset\n",
    "class1_1 = [pr[0, 0] for pr in probas]\n",
    "class2_1 = [pr[0, 1] for pr in probas]\n",
    "# plotting\n",
    "\n",
    "N = 7  # number of groups\n",
    "ind = np.arange(N)  # group positions\n",
    "width = 0.35  # bar width\n",
    "\n",
    "fig, ax = plt.subplots()\n",
    "\n",
    "# bars for classifier 1-7\n",
    "p1 = ax.bar(ind, np.hstack(([class1_1[:-1], [0]])), \n",
    "            width,\n",
    "            color='green', \n",
    "            edgecolor='k')\n",
    "p2 = ax.bar(ind + width, np.hstack(([class2_1[:-1], [0]])), \n",
    "            width,\n",
    "            color='lightgreen', \n",
    "            edgecolor='k')\n",
    "\n",
    "# bars for VotingClassifier\n",
    "p3 = ax.bar(ind, [0,0,0,0,0,0, class1_1[-1]], \n",
    "            width,\n",
    "            color='blue', \n",
    "            edgecolor='k')\n",
    "p4 = ax.bar(ind + width, [0,0,0,0,0,0, class2_1[-1]], \n",
    "            width,\n",
    "            color='dodgerblue', \n",
    "            edgecolor='k')\n",
    "\n",
    "# plot annotations\n",
    "plt.axvline(N - 1.3, color='k', linestyle='dashed')\n",
    "ax.set_xticks(ind + width)\n",
    "x_labels = [f\"{n}\\nweight {weights[i]}\" for i, n in enumerate(model_names)]\n",
    "ax.set_xticklabels(\n",
    "    x_labels + ['VotingClassifier\\n(weighted probabilities)'],\n",
    "    rotation=40,\n",
    "    ha='right')\n",
    "\n",
    "plt.ylim([0, 1])\n",
    "plt.title('Class probabilities for sample 1 by different classifiers')\n",
    "plt.legend([p1[0], p2[0]], ['Looking', 'Not Looking'], loc='upper left')\n",
    "plt.tight_layout()\n",
    "plt.gcf().set_size_inches(12, 8)\n",
    "plt.show()"
   ]
  },
  {
   "cell_type": "code",
   "execution_count": null,
   "metadata": {},
   "outputs": [],
   "source": []
  },
  {
   "cell_type": "markdown",
   "metadata": {},
   "source": [
    "## 2. Bagging Classifier\n",
    "\n",
    "Use the same training algorithm for every predictor, but train them on different random subsets of the training data. Bagging is short for *bootstrap aggregating*.\n",
    "\n",
    "* Bagging: sampling is performed with replacement\n",
    "* Pasting: sampling is performed without replacememt\n",
    "\n",
    "Generally, the ensemble has a similar bias but a lower variance than a single predictor trained on the original training data. Note that bootstrapping introduces a bit more diversity in the subsets, so **bagging** ends up with a slightly **higher bias** than pasting. But this also means that the predictors end up being **less correlated** (so the ensemble's **variance is reduced**)."
   ]
  },
  {
   "cell_type": "markdown",
   "metadata": {},
   "source": [
    "### A. Random Forest\n",
    "\n",
    "`RandomForestClassifier`\n",
    "\n",
    "Random Forest is an ensemble of Decision Trees, trained via bagging method. RF introduces extra randomness when growing trees; instead of searching for the very best feature when splitting s node, it searches for the best feature among a random subset of features.\n",
    "\n",
    "**Greater tree diversity --> higher bias lower variance --> overall a better model**\n",
    "\n",
    "This BaggingClassifier is roughly equivalent to the RandomForestClassifier:\n",
    "```\n",
    "BaggingClassifier(\n",
    "                  DecisionTreeClassifier(splitter='random', max_leaf_nodes=16),\n",
    "                  n_estimators=500, max_samples=1.0, bootstrrap=True, n_jobs=-1)\n",
    "                  \n",
    "                  \n",
    "RandomForestClassifier(n_estimators=500, max_leaf_nodes=16, n_jobs=-1)\n",
    "```\n",
    "\n",
    "Note that `n_jobs` tells Scikit-Learn the number of CPU cores to use for training and predictions; `-1` means to use all available cores.\n",
    "\n",
    "\n",
    "\n",
    "### B. Extra-Trees\n",
    "\n",
    "`ExtraTreeClassifier`\n",
    "\n",
    "Compared to Random Forest, you can make the trees even more random by using random thresholds for each feature rather than searching for the best possible thresholds. This makes Extra-trees much faster to train! Extra-Trees is short for *Extremely Randomized Trees*."
   ]
  },
  {
   "cell_type": "code",
   "execution_count": 70,
   "metadata": {},
   "outputs": [
    {
     "name": "stdout",
     "output_type": "stream",
     "text": [
      "Accuracy score: 0.7374354156881164 \n",
      "\n",
      "Classification report (Extra-Trees):\n",
      "\n",
      "               precision    recall  f1-score   support\n",
      "\n",
      "           0       0.82      0.82      0.82      1553\n",
      "           1       0.51      0.52      0.52       576\n",
      "\n",
      "    accuracy                           0.74      2129\n",
      "   macro avg       0.67      0.67      0.67      2129\n",
      "weighted avg       0.74      0.74      0.74      2129\n",
      "\n"
     ]
    }
   ],
   "source": [
    "et = ExtraTreesClassifier(n_estimators=100)\n",
    "et.fit(X_train,y_train)\n",
    "pred = et.predict(X_test)\n",
    "print('Accuracy score:',accuracy_score(y_test,pred),'\\n')\n",
    "print('Classification report (Extra-Trees):\\n\\n',classification_report(y_test,pred))"
   ]
  },
  {
   "cell_type": "code",
   "execution_count": 71,
   "metadata": {},
   "outputs": [
    {
     "data": {
      "image/png": "[encoded data removed]",
      "text/plain": [
       "<Figure size 432x288 with 1 Axes>"
      ]
     },
     "metadata": {
      "needs_background": "light"
     },
     "output_type": "display_data"
    }
   ],
   "source": [
    "# Extra-Tree ROC\n",
    "y_scores = et.predict_proba(X_test)\n",
    "fpr, tpr, threshold = roc_curve(y_test, y_scores[:, 1])\n",
    "roc_auc = auc(fpr, tpr)\n",
    "plt.plot(fpr, tpr, 'b', label = 'AUC_et = %0.3f' % roc_auc)\n",
    "\n",
    "plt.legend(loc = 'lower right')\n",
    "plt.plot([0, 1], [0, 1],'r--')\n",
    "plt.xlim([0, 1])\n",
    "plt.ylim([0, 1])\n",
    "plt.ylabel('True Positive Rate')\n",
    "plt.xlabel('False Positive Rate')\n",
    "plt.title('ROC Curve of Extra-Trees')\n",
    "plt.show()"
   ]
  },
  {
   "cell_type": "code",
   "execution_count": null,
   "metadata": {},
   "outputs": [],
   "source": []
  },
  {
   "cell_type": "markdown",
   "metadata": {},
   "source": [
    "### C. Test on Bagging Logistic Regression"
   ]
  },
  {
   "cell_type": "code",
   "execution_count": 68,
   "metadata": {},
   "outputs": [
    {
     "name": "stdout",
     "output_type": "stream",
     "text": [
      "Out-of-bag evaluation: 0.6859134415314191 \n",
      "\n",
      "Accuracy score: 0.7177078440582433 \n",
      "\n",
      "Classification report (Weighted vote):\n",
      "\n",
      "               precision    recall  f1-score   support\n",
      "\n",
      "           0       0.88      0.71      0.79      1553\n",
      "           1       0.49      0.74      0.59       576\n",
      "\n",
      "    accuracy                           0.72      2129\n",
      "   macro avg       0.68      0.72      0.69      2129\n",
      "weighted avg       0.77      0.72      0.73      2129\n",
      "\n"
     ]
    }
   ],
   "source": [
    "# Test using Logistic Regression model as base learner forr bagging methods\n",
    "\n",
    "bag = BaggingClassifier(\n",
    "        LogisticRegression(solver='lbfgs', C=10000, penalty='l2'),\n",
    "        n_estimators = 1000, max_samples = 500, bootstrap=True, n_jobs = -1, oob_score=True)\n",
    "bag.fit(X_train,y_train)\n",
    "pred = bag.predict(X_test)\n",
    "print('Out-of-bag evaluation:',bag.oob_score_,'\\n')\n",
    "print('Accuracy score:',accuracy_score(y_test,pred),'\\n')\n",
    "print('Classification report (Bagging Logistic Regression):\\n\\n',classification_report(y_test,pred))"
   ]
  },
  {
   "cell_type": "code",
   "execution_count": 69,
   "metadata": {},
   "outputs": [],
   "source": [
    "# Actually quite similar to the results of grid search cv"
   ]
  },
  {
   "cell_type": "code",
   "execution_count": 61,
   "metadata": {},
   "outputs": [
    {
     "data": {
      "image/png": "[encoded data removed]",
      "text/plain": [
       "<Figure size 432x288 with 1 Axes>"
      ]
     },
     "metadata": {
      "needs_background": "light"
     },
     "output_type": "display_data"
    }
   ],
   "source": [
    "# Bagging Logistic Regression ROC\n",
    "y_scores = bag.predict_proba(X_test)\n",
    "fpr, tpr, threshold = roc_curve(y_test, y_scores[:, 1])\n",
    "roc_auc = auc(fpr, tpr)\n",
    "plt.plot(fpr, tpr, 'b', label = 'AUC_forests = %0.3f' % roc_auc)\n",
    "\n",
    "plt.legend(loc = 'lower right')\n",
    "plt.plot([0, 1], [0, 1],'r--')\n",
    "plt.xlim([0, 1])\n",
    "plt.ylim([0, 1])\n",
    "plt.ylabel('True Positive Rate')\n",
    "plt.xlabel('False Positive Rate')\n",
    "plt.title('ROC Curve of Bagging Logistic Regression')\n",
    "plt.show()"
   ]
  },
  {
   "cell_type": "code",
   "execution_count": null,
   "metadata": {},
   "outputs": [],
   "source": []
  },
  {
   "cell_type": "markdown",
   "metadata": {},
   "source": [
    "## 3. Boosting Classifier\n",
    "\n",
    "Combine several weak learners into a strong learner. Most boosting methods train predictors sequentially, each trying to correct its predecessor. There are many boosting methods. Here only ___ most popular ones are tested out."
   ]
  },
  {
   "cell_type": "markdown",
   "metadata": {},
   "source": [
    "### A. AdaBoost\n",
    "\n",
    "Short for *Adaptive Boosting*. Pays more attention to the training instances that the predecessor **underfitted**. (Relative weight of misclassified training instances is increased). Once all predictors are trained, the ensemble makes predictions like bagging, except that the predictors have very different weights depending on their overrall accuracy on the weighted training set. Drawback: cannot be parrallelized; does not scale as well as bagging.\n",
    "\n",
    "Algorithm:\n",
    "\n",
    "1. Each instance weight $w^{(i)}$ is initially set to $\\frac{1}{m}$\n",
    "2. The first predictor is trained and its weighted error rate $r_1$ is computed on the training set:\n",
    "\n",
    "    $r_j = \\frac{\\displaystyle\\sum^m_{i=1, \\hat{y}_j^{(i)}\\neq y^{(i)}} w^{(i)}}{\\displaystyle\\sum_{i=1}^m w^{(i)}}$,\n",
    "    where $\\hat{y}_j^{(i)}$ is the $j^{th}$ predictor's prediction for the $i^{th}$ instance.\n",
    "    \n",
    "3. The predictor's weight $\\alpha_j$ is then computed using (**the more accurate the predictor is, the higher its weight will be**):\n",
    "\n",
    "    $\\alpha_j = \\eta$ $log \\frac{1-r_j}{r_j}$, where $\\eta$ is the learning rate (hyperparameter, deaults to 1). \n",
    "    \n",
    "    \n",
    "4. Nex the instance weights are updated (**the misclassified instances are boosted**):\n",
    "\n",
    "    $w^{(i)}$               if $\\hat{y}_j^{(i)} = y^{(i)}$\n",
    "    \n",
    "    ${w^{(i)}e^{\\alpha_j}}$ if $\\hat{y}_j^{(i)} \\neq y^{(i)}$\n",
    "    \n",
    "    \n",
    "   (All the instance weights are normalized: diveded by $\\displaystyle \\sum_{i=1}^m w^{(i)}$).\n",
    "   \n",
    "   \n",
    "5. Finally, a new predictor is trained using the updated weights, and the whole process is repeated. The algorithm stops when the desired number of predictors is reacehd, or when a perfect predictor is found.\n",
    "\n",
    "6. To make predictions, AdaBoost simply computes the predictions of all the predictors and weighs them using the predictor weights $\\alpha_j$. The predicted class is the one that receives the majority of weighted votes."
   ]
  },
  {
   "cell_type": "code",
   "execution_count": 102,
   "metadata": {},
   "outputs": [
    {
     "name": "stdout",
     "output_type": "stream",
     "text": [
      "Accuracy score: 0.7261625176139033 \n",
      "\n",
      "Classification report (Extra-Trees):\n",
      "\n",
      "               precision    recall  f1-score   support\n",
      "\n",
      "           0       0.88      0.72      0.79      1553\n",
      "           1       0.50      0.74      0.59       576\n",
      "\n",
      "    accuracy                           0.73      2129\n",
      "   macro avg       0.69      0.73      0.69      2129\n",
      "weighted avg       0.78      0.73      0.74      2129\n",
      "\n"
     ]
    }
   ],
   "source": [
    "ada = AdaBoostClassifier(\n",
    "                        DecisionTreeClassifier(max_depth=1),\n",
    "                        n_estimators=2500,algorithm=\"SAMME.R\",learning_rate=0.001)\n",
    "ada.fit(X_train,y_train)\n",
    "pred = ada.predict(X_test)\n",
    "print('Accuracy score:',accuracy_score(y_test,pred),'\\n')\n",
    "print('Classification report (Extra-Trees):\\n\\n',classification_report(y_test,pred))"
   ]
  },
  {
   "cell_type": "code",
   "execution_count": 75,
   "metadata": {},
   "outputs": [
    {
     "data": {
      "image/png": "[encoded data removed]",
      "text/plain": [
       "<Figure size 432x288 with 1 Axes>"
      ]
     },
     "metadata": {
      "needs_background": "light"
     },
     "output_type": "display_data"
    }
   ],
   "source": [
    "# AdaBoost ROC\n",
    "y_scores = et.predict_proba(X_test)\n",
    "fpr, tpr, threshold = roc_curve(y_test, y_scores[:, 1])\n",
    "roc_auc = auc(fpr, tpr)\n",
    "plt.plot(fpr, tpr, 'b', label = 'AUC_ada = %0.3f' % roc_auc)\n",
    "\n",
    "plt.legend(loc = 'lower right')\n",
    "plt.plot([0, 1], [0, 1],'r--')\n",
    "plt.xlim([0, 1])\n",
    "plt.ylim([0, 1])\n",
    "plt.ylabel('True Positive Rate')\n",
    "plt.xlabel('False Positive Rate')\n",
    "plt.title('ROC Curve of AdaBoost')\n",
    "plt.show()"
   ]
  },
  {
   "cell_type": "code",
   "execution_count": null,
   "metadata": {},
   "outputs": [],
   "source": []
  },
  {
   "cell_type": "code",
   "execution_count": 84,
   "metadata": {},
   "outputs": [],
   "source": [
    "from sklearn.model_selection import GridSearchCV\n",
    "from sklearn.model_selection import RepeatedStratifiedKFold\n",
    "\n",
    "ada_2 = AdaBoostClassifier()\n",
    "n_estimators = [50,500,1000]\n",
    "learning_rate = [0.02,0.05,0.1]"
   ]
  },
  {
   "cell_type": "code",
   "execution_count": 83,
   "metadata": {},
   "outputs": [
    {
     "data": {
      "text/plain": [
       "{'algorithm': 'SAMME.R',\n",
       " 'base_estimator': None,\n",
       " 'learning_rate': 1.0,\n",
       " 'n_estimators': 50,\n",
       " 'random_state': None}"
      ]
     },
     "execution_count": 83,
     "metadata": {},
     "output_type": "execute_result"
    }
   ],
   "source": [
    "ada_2.get_params()"
   ]
  },
  {
   "cell_type": "code",
   "execution_count": null,
   "metadata": {},
   "outputs": [],
   "source": [
    "# Define grid search\n",
    "grid = dict(n_estimators = n_estimators, learning_rate = learning_rate)\n",
    "cv = RepeatedStratifiedKFold(n_splits=10, n_repeats=3, random_state=1)\n",
    "grid_search = GridSearchCV(estimator=ada_2, param_grid=grid, n_jobs=-1, cv=5, scoring='recall',error_score=0)\n",
    "grid_result = grid_search.fit(X_train, y_train)\n",
    "# summarize results\n",
    "print(\"Best: %f using %s\" % (grid_result.best_score_, grid_result.best_params_))\n",
    "means = grid_result.cv_results_['mean_test_score']\n",
    "stds = grid_result.cv_results_['std_test_score']\n",
    "params = grid_result.cv_results_['params']"
   ]
  },
  {
   "cell_type": "code",
   "execution_count": null,
   "metadata": {},
   "outputs": [],
   "source": []
  },
  {
   "cell_type": "markdown",
   "metadata": {},
   "source": [
    "### B. Gradient Boost\n",
    "\n",
    "Similar to AdaBoost, but instead of tweaking the instance weights at every iteration, Gradient Boost tries to fit the new predictor to the *residual errors* made by the previous predictor.\n",
    "\n",
    "Note that the `learning_rate` hyperparameter scales the contribution of each tree. If it's set to be low, more trees in the ensemble are needed to fit the training set. But the predictions will usually generalize betterr. This is a regularization technique called **shrinkage**.\n",
    "\n",
    "\n",
    "Find optimal number of trees: early stopping; use the `stage_predict()` method. At each stage of training, it returns an iterator over the predictions made by the ensemble."
   ]
  },
  {
   "cell_type": "code",
   "execution_count": 103,
   "metadata": {},
   "outputs": [
    {
     "data": {
      "text/plain": [
       "{'ccp_alpha': 0.0,\n",
       " 'criterion': 'friedman_mse',\n",
       " 'init': None,\n",
       " 'learning_rate': 0.1,\n",
       " 'loss': 'deviance',\n",
       " 'max_depth': 3,\n",
       " 'max_features': None,\n",
       " 'max_leaf_nodes': None,\n",
       " 'min_impurity_decrease': 0.0,\n",
       " 'min_impurity_split': None,\n",
       " 'min_samples_leaf': 1,\n",
       " 'min_samples_split': 2,\n",
       " 'min_weight_fraction_leaf': 0.0,\n",
       " 'n_estimators': 100,\n",
       " 'n_iter_no_change': None,\n",
       " 'presort': 'deprecated',\n",
       " 'random_state': None,\n",
       " 'subsample': 1.0,\n",
       " 'tol': 0.0001,\n",
       " 'validation_fraction': 0.1,\n",
       " 'verbose': 0,\n",
       " 'warm_start': False}"
      ]
     },
     "execution_count": 103,
     "metadata": {},
     "output_type": "execute_result"
    }
   ],
   "source": [
    "gbrt = GradientBoostingClassifier()\n",
    "gbrt.get_params()"
   ]
  },
  {
   "cell_type": "code",
   "execution_count": 104,
   "metadata": {},
   "outputs": [
    {
     "name": "stdout",
     "output_type": "stream",
     "text": [
      "Accuracy score: 0.443400657585721 \n",
      "\n",
      "Classification report (Extra-Trees):\n",
      "\n",
      "               precision    recall  f1-score   support\n",
      "\n",
      "           0       0.90      0.27      0.41      1553\n",
      "           1       0.32      0.92      0.47       576\n",
      "\n",
      "    accuracy                           0.44      2129\n",
      "   macro avg       0.61      0.59      0.44      2129\n",
      "weighted avg       0.74      0.44      0.43      2129\n",
      "\n"
     ]
    }
   ],
   "source": [
    "gbrt = GradientBoostingClassifier()\n",
    "gbrt.fit(X_train,y_train)\n",
    "pred = gbrt.predict(X_test)\n",
    "print('Accuracy score:',accuracy_score(y_test,pred),'\\n')\n",
    "print('Classification report (Extra-Trees):\\n\\n',classification_report(y_test,pred))"
   ]
  },
  {
   "cell_type": "code",
   "execution_count": 127,
   "metadata": {},
   "outputs": [
    {
     "name": "stdout",
     "output_type": "stream",
     "text": [
      "Accuracy score: 0.28276186002818227 \n",
      "\n",
      "Classification report (Extra-Trees):\n",
      "\n",
      "               precision    recall  f1-score   support\n",
      "\n",
      "           0       0.93      0.02      0.04      1553\n",
      "           1       0.27      1.00      0.43       576\n",
      "\n",
      "    accuracy                           0.28      2129\n",
      "   macro avg       0.60      0.51      0.23      2129\n",
      "weighted avg       0.75      0.28      0.14      2129\n",
      "\n"
     ]
    }
   ],
   "source": [
    "gbrt_2 = GradientBoostingClassifier(n_estimators=500,learning_rate=0.8,subsample=1)\n",
    "gbrt_2.fit(X_train,y_train)\n",
    "pred = gbrt_2.predict(X_test)\n",
    "print('Accuracy score:',accuracy_score(y_test,pred),'\\n')\n",
    "print('Classification report (Extra-Trees):\\n\\n',classification_report(y_test,pred))"
   ]
  },
  {
   "cell_type": "code",
   "execution_count": 116,
   "metadata": {},
   "outputs": [
    {
     "data": {
      "image/png": "[encoded data removed]",
      "text/plain": [
       "<Figure size 432x288 with 1 Axes>"
      ]
     },
     "metadata": {
      "needs_background": "light"
     },
     "output_type": "display_data"
    }
   ],
   "source": [
    "# AdaBoost ROC\n",
    "y_scores = gbrt_2.predict_proba(X_test)\n",
    "fpr, tpr, threshold = roc_curve(y_test, y_scores[:, 1])\n",
    "roc_auc = auc(fpr, tpr)\n",
    "plt.plot(fpr, tpr, 'b', label = 'AUC_gbrt = %0.3f' % roc_auc)\n",
    "\n",
    "plt.legend(loc = 'lower right')\n",
    "plt.plot([0, 1], [0, 1],'r--')\n",
    "plt.xlim([0, 1])\n",
    "plt.ylim([0, 1])\n",
    "plt.ylabel('True Positive Rate')\n",
    "plt.xlabel('False Positive Rate')\n",
    "plt.title('ROC Curve of Gradient Boost')\n",
    "plt.show()"
   ]
  },
  {
   "cell_type": "code",
   "execution_count": null,
   "metadata": {},
   "outputs": [],
   "source": []
  },
  {
   "cell_type": "code",
   "execution_count": null,
   "metadata": {},
   "outputs": [],
   "source": []
  },
  {
   "cell_type": "markdown",
   "metadata": {},
   "source": [
    "### C. XGBoost"
   ]
  },
  {
   "cell_type": "code",
   "execution_count": null,
   "metadata": {},
   "outputs": [],
   "source": []
  },
  {
   "cell_type": "code",
   "execution_count": null,
   "metadata": {},
   "outputs": [],
   "source": []
  },
  {
   "cell_type": "code",
   "execution_count": null,
   "metadata": {},
   "outputs": [],
   "source": []
  },
  {
   "cell_type": "markdown",
   "metadata": {},
   "source": [
    "## 4. Stacked Classifier\n",
    "\n",
    "Instead of using trivial functions such as hard voting to aggregate the predictions of all predictors in an ensemble, this method trains a model to *perform* the aggregation. The final predictor is called a *blender*, or a *meta-learner*.\n",
    "\n",
    "To train the blender, a common approach is to use a hold-out set. The training set is split into two subsets.\n",
    "\n",
    "1. The first subset is used to train the predictors in the first layer.\n",
    "2. Next, the first layer predictors (there are $n$ of them) are used to make predictions on the second (hold-out) set.\n",
    "3. Each instance in the hold-out set now has $n$ predicted values.\n",
    "4. Create a new training set using the predicted values as features.\n",
    "5. The blender is trained on this new training set and learns to predict the target values given the first layer's predictions.\n",
    "\n",
    "\n",
    "Note that it is possible to train several different blenders."
   ]
  },
  {
   "cell_type": "code",
   "execution_count": 42,
   "metadata": {
    "scrolled": true
   },
   "outputs": [
    {
     "name": "stderr",
     "output_type": "stream",
     "text": [
      "/opt/anaconda3/lib/python3.8/site-packages/sklearn/linear_model/_logistic.py:762: ConvergenceWarning: lbfgs failed to converge (status=1):\n",
      "STOP: TOTAL NO. of ITERATIONS REACHED LIMIT.\n",
      "\n",
      "Increase the number of iterations (max_iter) or scale the data as shown in:\n",
      "    https://scikit-learn.org/stable/modules/preprocessing.html\n",
      "Please also refer to the documentation for alternative solver options:\n",
      "    https://scikit-learn.org/stable/modules/linear_model.html#logistic-regression\n",
      "  n_iter_i = _check_optimize_result(\n",
      "/opt/anaconda3/lib/python3.8/site-packages/sklearn/linear_model/_logistic.py:762: ConvergenceWarning: lbfgs failed to converge (status=1):\n",
      "STOP: TOTAL NO. of ITERATIONS REACHED LIMIT.\n",
      "\n",
      "Increase the number of iterations (max_iter) or scale the data as shown in:\n",
      "    https://scikit-learn.org/stable/modules/preprocessing.html\n",
      "Please also refer to the documentation for alternative solver options:\n",
      "    https://scikit-learn.org/stable/modules/linear_model.html#logistic-regression\n",
      "  n_iter_i = _check_optimize_result(\n",
      "/opt/anaconda3/lib/python3.8/site-packages/sklearn/linear_model/_logistic.py:762: ConvergenceWarning: lbfgs failed to converge (status=1):\n",
      "STOP: TOTAL NO. of ITERATIONS REACHED LIMIT.\n",
      "\n",
      "Increase the number of iterations (max_iter) or scale the data as shown in:\n",
      "    https://scikit-learn.org/stable/modules/preprocessing.html\n",
      "Please also refer to the documentation for alternative solver options:\n",
      "    https://scikit-learn.org/stable/modules/linear_model.html#logistic-regression\n",
      "  n_iter_i = _check_optimize_result(\n",
      "/opt/anaconda3/lib/python3.8/site-packages/sklearn/linear_model/_logistic.py:762: ConvergenceWarning: lbfgs failed to converge (status=1):\n",
      "STOP: TOTAL NO. of ITERATIONS REACHED LIMIT.\n",
      "\n",
      "Increase the number of iterations (max_iter) or scale the data as shown in:\n",
      "    https://scikit-learn.org/stable/modules/preprocessing.html\n",
      "Please also refer to the documentation for alternative solver options:\n",
      "    https://scikit-learn.org/stable/modules/linear_model.html#logistic-regression\n",
      "  n_iter_i = _check_optimize_result(\n",
      "/opt/anaconda3/lib/python3.8/site-packages/sklearn/linear_model/_logistic.py:762: ConvergenceWarning: lbfgs failed to converge (status=1):\n",
      "STOP: TOTAL NO. of ITERATIONS REACHED LIMIT.\n",
      "\n",
      "Increase the number of iterations (max_iter) or scale the data as shown in:\n",
      "    https://scikit-learn.org/stable/modules/preprocessing.html\n",
      "Please also refer to the documentation for alternative solver options:\n",
      "    https://scikit-learn.org/stable/modules/linear_model.html#logistic-regression\n",
      "  n_iter_i = _check_optimize_result(\n",
      "/opt/anaconda3/lib/python3.8/site-packages/sklearn/linear_model/_logistic.py:762: ConvergenceWarning: lbfgs failed to converge (status=1):\n",
      "STOP: TOTAL NO. of ITERATIONS REACHED LIMIT.\n",
      "\n",
      "Increase the number of iterations (max_iter) or scale the data as shown in:\n",
      "    https://scikit-learn.org/stable/modules/preprocessing.html\n",
      "Please also refer to the documentation for alternative solver options:\n",
      "    https://scikit-learn.org/stable/modules/linear_model.html#logistic-regression\n",
      "  n_iter_i = _check_optimize_result(\n"
     ]
    },
    {
     "name": "stdout",
     "output_type": "stream",
     "text": [
      "Accuracy score: 0.5246594645373415 \n",
      "\n",
      "Classification report (Weighted vote):\n",
      "\n",
      "               precision    recall  f1-score   support\n",
      "\n",
      "           0       0.88      0.40      0.55      1553\n",
      "           1       0.35      0.86      0.49       576\n",
      "\n",
      "    accuracy                           0.52      2129\n",
      "   macro avg       0.61      0.63      0.52      2129\n",
      "weighted avg       0.74      0.52      0.54      2129\n",
      "\n"
     ]
    }
   ],
   "source": [
    "stacked = StackingClassifier(\n",
    "    estimators=model_list, \n",
    "    final_estimator=BernoulliNB())\n",
    "\n",
    "stacked.fit(X_train, y_train)\n",
    "pred = stacked.predict(X_test)\n",
    "print('Accuracy score:',accuracy_score(y_test,pred),'\\n')\n",
    "print('Classification report (Weighted vote):\\n\\n',classification_report(y_test,pred))"
   ]
  },
  {
   "cell_type": "code",
   "execution_count": 128,
   "metadata": {
    "scrolled": true
   },
   "outputs": [
    {
     "name": "stderr",
     "output_type": "stream",
     "text": [
      "/opt/anaconda3/lib/python3.8/site-packages/sklearn/linear_model/_logistic.py:762: ConvergenceWarning: lbfgs failed to converge (status=1):\n",
      "STOP: TOTAL NO. of ITERATIONS REACHED LIMIT.\n",
      "\n",
      "Increase the number of iterations (max_iter) or scale the data as shown in:\n",
      "    https://scikit-learn.org/stable/modules/preprocessing.html\n",
      "Please also refer to the documentation for alternative solver options:\n",
      "    https://scikit-learn.org/stable/modules/linear_model.html#logistic-regression\n",
      "  n_iter_i = _check_optimize_result(\n",
      "/opt/anaconda3/lib/python3.8/site-packages/sklearn/linear_model/_logistic.py:762: ConvergenceWarning: lbfgs failed to converge (status=1):\n",
      "STOP: TOTAL NO. of ITERATIONS REACHED LIMIT.\n",
      "\n",
      "Increase the number of iterations (max_iter) or scale the data as shown in:\n",
      "    https://scikit-learn.org/stable/modules/preprocessing.html\n",
      "Please also refer to the documentation for alternative solver options:\n",
      "    https://scikit-learn.org/stable/modules/linear_model.html#logistic-regression\n",
      "  n_iter_i = _check_optimize_result(\n",
      "/opt/anaconda3/lib/python3.8/site-packages/sklearn/linear_model/_logistic.py:762: ConvergenceWarning: lbfgs failed to converge (status=1):\n",
      "STOP: TOTAL NO. of ITERATIONS REACHED LIMIT.\n",
      "\n",
      "Increase the number of iterations (max_iter) or scale the data as shown in:\n",
      "    https://scikit-learn.org/stable/modules/preprocessing.html\n",
      "Please also refer to the documentation for alternative solver options:\n",
      "    https://scikit-learn.org/stable/modules/linear_model.html#logistic-regression\n",
      "  n_iter_i = _check_optimize_result(\n",
      "/opt/anaconda3/lib/python3.8/site-packages/sklearn/linear_model/_logistic.py:762: ConvergenceWarning: lbfgs failed to converge (status=1):\n",
      "STOP: TOTAL NO. of ITERATIONS REACHED LIMIT.\n",
      "\n",
      "Increase the number of iterations (max_iter) or scale the data as shown in:\n",
      "    https://scikit-learn.org/stable/modules/preprocessing.html\n",
      "Please also refer to the documentation for alternative solver options:\n",
      "    https://scikit-learn.org/stable/modules/linear_model.html#logistic-regression\n",
      "  n_iter_i = _check_optimize_result(\n",
      "/opt/anaconda3/lib/python3.8/site-packages/sklearn/linear_model/_logistic.py:762: ConvergenceWarning: lbfgs failed to converge (status=1):\n",
      "STOP: TOTAL NO. of ITERATIONS REACHED LIMIT.\n",
      "\n",
      "Increase the number of iterations (max_iter) or scale the data as shown in:\n",
      "    https://scikit-learn.org/stable/modules/preprocessing.html\n",
      "Please also refer to the documentation for alternative solver options:\n",
      "    https://scikit-learn.org/stable/modules/linear_model.html#logistic-regression\n",
      "  n_iter_i = _check_optimize_result(\n",
      "/opt/anaconda3/lib/python3.8/site-packages/sklearn/linear_model/_logistic.py:762: ConvergenceWarning: lbfgs failed to converge (status=1):\n",
      "STOP: TOTAL NO. of ITERATIONS REACHED LIMIT.\n",
      "\n",
      "Increase the number of iterations (max_iter) or scale the data as shown in:\n",
      "    https://scikit-learn.org/stable/modules/preprocessing.html\n",
      "Please also refer to the documentation for alternative solver options:\n",
      "    https://scikit-learn.org/stable/modules/linear_model.html#logistic-regression\n",
      "  n_iter_i = _check_optimize_result(\n"
     ]
    },
    {
     "name": "stdout",
     "output_type": "stream",
     "text": [
      "Accuracy score: 0.7322686707374354 \n",
      "\n",
      "Classification report (Weighted vote):\n",
      "\n",
      "               precision    recall  f1-score   support\n",
      "\n",
      "           0       0.84      0.78      0.81      1553\n",
      "           1       0.50      0.61      0.55       576\n",
      "\n",
      "    accuracy                           0.73      2129\n",
      "   macro avg       0.67      0.69      0.68      2129\n",
      "weighted avg       0.75      0.73      0.74      2129\n",
      "\n"
     ]
    }
   ],
   "source": [
    "stacked = StackingClassifier(\n",
    "    estimators=model_list, \n",
    "    final_estimator=LogisticRegression())\n",
    "\n",
    "stacked.fit(X_train, y_train)\n",
    "pred = stacked.predict(X_test)\n",
    "print('Accuracy score:',accuracy_score(y_test,pred),'\\n')\n",
    "print('Classification report (Stacking):\\n\\n',classification_report(y_test,pred))"
   ]
  },
  {
   "cell_type": "code",
   "execution_count": 138,
   "metadata": {
    "scrolled": true
   },
   "outputs": [
    {
     "name": "stderr",
     "output_type": "stream",
     "text": [
      "/opt/anaconda3/lib/python3.8/site-packages/sklearn/linear_model/_logistic.py:762: ConvergenceWarning: lbfgs failed to converge (status=1):\n",
      "STOP: TOTAL NO. of ITERATIONS REACHED LIMIT.\n",
      "\n",
      "Increase the number of iterations (max_iter) or scale the data as shown in:\n",
      "    https://scikit-learn.org/stable/modules/preprocessing.html\n",
      "Please also refer to the documentation for alternative solver options:\n",
      "    https://scikit-learn.org/stable/modules/linear_model.html#logistic-regression\n",
      "  n_iter_i = _check_optimize_result(\n",
      "/opt/anaconda3/lib/python3.8/site-packages/sklearn/linear_model/_logistic.py:762: ConvergenceWarning: lbfgs failed to converge (status=1):\n",
      "STOP: TOTAL NO. of ITERATIONS REACHED LIMIT.\n",
      "\n",
      "Increase the number of iterations (max_iter) or scale the data as shown in:\n",
      "    https://scikit-learn.org/stable/modules/preprocessing.html\n",
      "Please also refer to the documentation for alternative solver options:\n",
      "    https://scikit-learn.org/stable/modules/linear_model.html#logistic-regression\n",
      "  n_iter_i = _check_optimize_result(\n",
      "/opt/anaconda3/lib/python3.8/site-packages/sklearn/linear_model/_logistic.py:762: ConvergenceWarning: lbfgs failed to converge (status=1):\n",
      "STOP: TOTAL NO. of ITERATIONS REACHED LIMIT.\n",
      "\n",
      "Increase the number of iterations (max_iter) or scale the data as shown in:\n",
      "    https://scikit-learn.org/stable/modules/preprocessing.html\n",
      "Please also refer to the documentation for alternative solver options:\n",
      "    https://scikit-learn.org/stable/modules/linear_model.html#logistic-regression\n",
      "  n_iter_i = _check_optimize_result(\n",
      "/opt/anaconda3/lib/python3.8/site-packages/sklearn/linear_model/_logistic.py:762: ConvergenceWarning: lbfgs failed to converge (status=1):\n",
      "STOP: TOTAL NO. of ITERATIONS REACHED LIMIT.\n",
      "\n",
      "Increase the number of iterations (max_iter) or scale the data as shown in:\n",
      "    https://scikit-learn.org/stable/modules/preprocessing.html\n",
      "Please also refer to the documentation for alternative solver options:\n",
      "    https://scikit-learn.org/stable/modules/linear_model.html#logistic-regression\n",
      "  n_iter_i = _check_optimize_result(\n",
      "/opt/anaconda3/lib/python3.8/site-packages/sklearn/linear_model/_logistic.py:762: ConvergenceWarning: lbfgs failed to converge (status=1):\n",
      "STOP: TOTAL NO. of ITERATIONS REACHED LIMIT.\n",
      "\n",
      "Increase the number of iterations (max_iter) or scale the data as shown in:\n",
      "    https://scikit-learn.org/stable/modules/preprocessing.html\n",
      "Please also refer to the documentation for alternative solver options:\n",
      "    https://scikit-learn.org/stable/modules/linear_model.html#logistic-regression\n",
      "  n_iter_i = _check_optimize_result(\n",
      "/opt/anaconda3/lib/python3.8/site-packages/sklearn/linear_model/_logistic.py:762: ConvergenceWarning: lbfgs failed to converge (status=1):\n",
      "STOP: TOTAL NO. of ITERATIONS REACHED LIMIT.\n",
      "\n",
      "Increase the number of iterations (max_iter) or scale the data as shown in:\n",
      "    https://scikit-learn.org/stable/modules/preprocessing.html\n",
      "Please also refer to the documentation for alternative solver options:\n",
      "    https://scikit-learn.org/stable/modules/linear_model.html#logistic-regression\n",
      "  n_iter_i = _check_optimize_result(\n"
     ]
    },
    {
     "name": "stdout",
     "output_type": "stream",
     "text": [
      "Accuracy score: 0.7280413339596055 \n",
      "\n",
      "Classification report (Stacking):\n",
      "\n",
      "               precision    recall  f1-score   support\n",
      "\n",
      "           0       0.85      0.76      0.80      1553\n",
      "           1       0.50      0.63      0.56       576\n",
      "\n",
      "    accuracy                           0.73      2129\n",
      "   macro avg       0.67      0.70      0.68      2129\n",
      "weighted avg       0.75      0.73      0.74      2129\n",
      "\n"
     ]
    }
   ],
   "source": [
    "# From models2\n",
    "stacked = StackingClassifier(\n",
    "    estimators=model_list, \n",
    "    final_estimator=LogisticRegression())\n",
    "\n",
    "stacked.fit(X_train, y_train)\n",
    "pred = stacked.predict(X_test)\n",
    "print('Accuracy score:',accuracy_score(y_test,pred),'\\n')\n",
    "print('Classification report (Stacking):\\n\\n',classification_report(y_test,pred))"
   ]
  },
  {
   "cell_type": "code",
   "execution_count": null,
   "metadata": {},
   "outputs": [],
   "source": []
  }
 ],
 "metadata": {
  "kernelspec": {
   "display_name": "Python 3",
   "language": "python",
   "name": "python3"
  },
  "language_info": {
   "codemirror_mode": {
    "name": "ipython",
    "version": 3
   },
   "file_extension": ".py",
   "mimetype": "text/x-python",
   "name": "python",
   "nbconvert_exporter": "python",
   "pygments_lexer": "ipython3",
   "version": "3.8.5"
  }
 },
 "nbformat": 4,
 "nbformat_minor": 4
}
