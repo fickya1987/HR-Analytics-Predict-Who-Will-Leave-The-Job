{
 "cells": [
  {
   "cell_type": "code",
   "execution_count": null,
   "metadata": {},
   "outputs": [],
   "source": [
    "\"\"\"\n",
    "Use all variables (continuous, categorical) as features\n",
    "Use X_adasyn and y_adasyn as train data (imbalanced classes handled)\n",
    "\n",
    "Refine models:\n",
    "\n",
    "1. Logistic Regression\n",
    "    - Grid search CV: solver, penalty, C\n",
    "    - Adjust threshold: compared to baseline model with 0.41 precision, recall has improved from 61% to 82%!\n",
    "    \n",
    "2. kNN\n",
    "    - Feature engineering\n",
    "    - Tune hyperparameters (grid search)\n",
    "    \n",
    "3. Naive Bayes\n",
    "    - Higher recall but lower precision.\n",
    "\n",
    "\n",
    "Conclusion:\n",
    "ROC AUC highest - Logistic regression\n",
    "Recall highest - Naive Bayes (65%)\n",
    "\n",
    "\"\"\""
   ]
  },
  {
   "cell_type": "code",
   "execution_count": 1,
   "metadata": {},
   "outputs": [],
   "source": [
    "import pandas as pd\n",
    "import numpy as np\n",
    "import matplotlib.pyplot as plt\n",
    "import seaborn as sns\n",
    "import altair as alt\n",
    "\n",
    "from collections import Counter\n",
    "\n",
    "from sklearn.model_selection import train_test_split\n",
    "from sklearn.linear_model import LogisticRegression\n",
    "from sklearn.preprocessing import StandardScaler, PolynomialFeatures, OneHotEncoder\n",
    "from sklearn.metrics import confusion_matrix, accuracy_score, classification_report\n",
    "from sklearn.metrics import roc_curve, auc, roc_auc_score\n",
    "from sklearn.metrics import precision_score, recall_score, precision_recall_curve,f1_score, fbeta_score, log_loss\n",
    "\n",
    "from sklearn.neighbors import KNeighborsClassifier\n",
    "from sklearn.naive_bayes import GaussianNB"
   ]
  },
  {
   "cell_type": "code",
   "execution_count": 2,
   "metadata": {},
   "outputs": [],
   "source": [
    "# Load data\n",
    "# All variables (continuous + categorical)\n",
    "df_train = pd.read_pickle('../dump/df_train.csv')\n",
    "df_test = pd.read_pickle('../dump/df_test.csv')\n",
    "\n",
    "\n",
    "X_train = pd.read_pickle('../dump/X_adasyn')\n",
    "y_train = pd.read_pickle('../dump/y_adasyn')\n",
    "X_test = pd.read_pickle('../dump/X_test_processed')\n",
    "y_test = df_test['target']"
   ]
  },
  {
   "cell_type": "code",
   "execution_count": 3,
   "metadata": {},
   "outputs": [
    {
     "data": {
      "text/plain": [
       "((19158, 14), (28836, 32))"
      ]
     },
     "execution_count": 3,
     "metadata": {},
     "output_type": "execute_result"
    }
   ],
   "source": [
    "df_train.shape, X_train.shape"
   ]
  },
  {
   "cell_type": "code",
   "execution_count": 4,
   "metadata": {},
   "outputs": [
    {
     "data": {
      "text/plain": [
       "Counter({1: 14455, 0: 14381})"
      ]
     },
     "execution_count": 4,
     "metadata": {},
     "output_type": "execute_result"
    }
   ],
   "source": [
    "Counter(y_train)"
   ]
  },
  {
   "cell_type": "code",
   "execution_count": 5,
   "metadata": {},
   "outputs": [
    {
     "data": {
      "text/html": [
       "<div>\n",
       "<style scoped>\n",
       "    .dataframe tbody tr th:only-of-type {\n",
       "        vertical-align: middle;\n",
       "    }\n",
       "\n",
       "    .dataframe tbody tr th {\n",
       "        vertical-align: top;\n",
       "    }\n",
       "\n",
       "    .dataframe thead th {\n",
       "        text-align: right;\n",
       "    }\n",
       "</style>\n",
       "<table border=\"1\" class=\"dataframe\">\n",
       "  <thead>\n",
       "    <tr style=\"text-align: right;\">\n",
       "      <th></th>\n",
       "      <th>city_development_index</th>\n",
       "      <th>training_hours</th>\n",
       "      <th>experience</th>\n",
       "      <th>last_new_job</th>\n",
       "    </tr>\n",
       "  </thead>\n",
       "  <tbody>\n",
       "    <tr>\n",
       "      <th>0</th>\n",
       "      <td>0.738919</td>\n",
       "      <td>-0.488985</td>\n",
       "      <td>1.793483</td>\n",
       "      <td>-0.588135</td>\n",
       "    </tr>\n",
       "    <tr>\n",
       "      <th>1</th>\n",
       "      <td>-0.428410</td>\n",
       "      <td>-0.305825</td>\n",
       "      <td>0.530812</td>\n",
       "      <td>1.816493</td>\n",
       "    </tr>\n",
       "    <tr>\n",
       "      <th>2</th>\n",
       "      <td>-1.660590</td>\n",
       "      <td>0.293607</td>\n",
       "      <td>-0.731859</td>\n",
       "      <td>-1.189292</td>\n",
       "    </tr>\n",
       "    <tr>\n",
       "      <th>3</th>\n",
       "      <td>-0.323026</td>\n",
       "      <td>-0.222571</td>\n",
       "      <td>-1.300061</td>\n",
       "      <td>-1.189292</td>\n",
       "    </tr>\n",
       "    <tr>\n",
       "      <th>4</th>\n",
       "      <td>-0.501368</td>\n",
       "      <td>-0.955209</td>\n",
       "      <td>1.793483</td>\n",
       "      <td>1.215336</td>\n",
       "    </tr>\n",
       "    <tr>\n",
       "      <th>...</th>\n",
       "      <td>...</td>\n",
       "      <td>...</td>\n",
       "      <td>...</td>\n",
       "      <td>...</td>\n",
       "    </tr>\n",
       "    <tr>\n",
       "      <th>28831</th>\n",
       "      <td>0.316702</td>\n",
       "      <td>-0.564869</td>\n",
       "      <td>-0.473409</td>\n",
       "      <td>-0.588135</td>\n",
       "    </tr>\n",
       "    <tr>\n",
       "      <th>28832</th>\n",
       "      <td>0.472487</td>\n",
       "      <td>-0.425288</td>\n",
       "      <td>0.459461</td>\n",
       "      <td>-0.588135</td>\n",
       "    </tr>\n",
       "    <tr>\n",
       "      <th>28833</th>\n",
       "      <td>0.770312</td>\n",
       "      <td>-0.283658</td>\n",
       "      <td>0.430281</td>\n",
       "      <td>1.337864</td>\n",
       "    </tr>\n",
       "    <tr>\n",
       "      <th>28834</th>\n",
       "      <td>0.738919</td>\n",
       "      <td>-0.152315</td>\n",
       "      <td>0.445527</td>\n",
       "      <td>1.410450</td>\n",
       "    </tr>\n",
       "    <tr>\n",
       "      <th>28835</th>\n",
       "      <td>0.738919</td>\n",
       "      <td>-0.222689</td>\n",
       "      <td>0.400044</td>\n",
       "      <td>1.215336</td>\n",
       "    </tr>\n",
       "  </tbody>\n",
       "</table>\n",
       "<p>28836 rows × 4 columns</p>\n",
       "</div>"
      ],
      "text/plain": [
       "       city_development_index  training_hours  experience  last_new_job\n",
       "0                    0.738919       -0.488985    1.793483     -0.588135\n",
       "1                   -0.428410       -0.305825    0.530812      1.816493\n",
       "2                   -1.660590        0.293607   -0.731859     -1.189292\n",
       "3                   -0.323026       -0.222571   -1.300061     -1.189292\n",
       "4                   -0.501368       -0.955209    1.793483      1.215336\n",
       "...                       ...             ...         ...           ...\n",
       "28831                0.316702       -0.564869   -0.473409     -0.588135\n",
       "28832                0.472487       -0.425288    0.459461     -0.588135\n",
       "28833                0.770312       -0.283658    0.430281      1.337864\n",
       "28834                0.738919       -0.152315    0.445527      1.410450\n",
       "28835                0.738919       -0.222689    0.400044      1.215336\n",
       "\n",
       "[28836 rows x 4 columns]"
      ]
     },
     "execution_count": 5,
     "metadata": {},
     "output_type": "execute_result"
    }
   ],
   "source": [
    "X_train.iloc[:,:4]"
   ]
  },
  {
   "cell_type": "code",
   "execution_count": null,
   "metadata": {},
   "outputs": [],
   "source": []
  },
  {
   "cell_type": "markdown",
   "metadata": {},
   "source": [
    "### 1. Logistic Regression"
   ]
  },
  {
   "cell_type": "code",
   "execution_count": 6,
   "metadata": {},
   "outputs": [
    {
     "data": {
      "text/plain": [
       "LogisticRegression(C=100000, solver='newton-cg')"
      ]
     },
     "execution_count": 6,
     "metadata": {},
     "output_type": "execute_result"
    }
   ],
   "source": [
    "lm = LogisticRegression(solver='newton-cg',  # For comparison, use the same solver as statsmodels default\n",
    "                          C=100000)  # No regularization\n",
    "\n",
    "lm.fit(X_train, y_train)\n",
    "# print('intercept: ', round(lm.intercept_[0], 4))\n",
    "# pd.DataFrame(list(zip(cat_variables,np.transpose(lm.coef_))),columns=['Feature','Coef'])\\\n",
    "# .sort_values('Coef',ascending=False)"
   ]
  },
  {
   "cell_type": "code",
   "execution_count": 7,
   "metadata": {},
   "outputs": [
    {
     "data": {
      "text/html": [
       "<div>\n",
       "<style scoped>\n",
       "    .dataframe tbody tr th:only-of-type {\n",
       "        vertical-align: middle;\n",
       "    }\n",
       "\n",
       "    .dataframe tbody tr th {\n",
       "        vertical-align: top;\n",
       "    }\n",
       "\n",
       "    .dataframe thead th {\n",
       "        text-align: right;\n",
       "    }\n",
       "</style>\n",
       "<table border=\"1\" class=\"dataframe\">\n",
       "  <thead>\n",
       "    <tr style=\"text-align: right;\">\n",
       "      <th></th>\n",
       "      <th>Feature</th>\n",
       "      <th>Coefficient</th>\n",
       "    </tr>\n",
       "  </thead>\n",
       "  <tbody>\n",
       "    <tr>\n",
       "      <th>31</th>\n",
       "      <td>company_type_unknown</td>\n",
       "      <td>0.846069</td>\n",
       "    </tr>\n",
       "    <tr>\n",
       "      <th>29</th>\n",
       "      <td>company_type_Public Sector</td>\n",
       "      <td>0.370853</td>\n",
       "    </tr>\n",
       "    <tr>\n",
       "      <th>18</th>\n",
       "      <td>major_discipline_unknown</td>\n",
       "      <td>0.337272</td>\n",
       "    </tr>\n",
       "    <tr>\n",
       "      <th>28</th>\n",
       "      <td>company_type_Other</td>\n",
       "      <td>0.200578</td>\n",
       "    </tr>\n",
       "    <tr>\n",
       "      <th>4</th>\n",
       "      <td>relevent_experience_No relevent experience</td>\n",
       "      <td>0.163685</td>\n",
       "    </tr>\n",
       "    <tr>\n",
       "      <th>3</th>\n",
       "      <td>last_new_job</td>\n",
       "      <td>0.122986</td>\n",
       "    </tr>\n",
       "    <tr>\n",
       "      <th>30</th>\n",
       "      <td>company_type_Pvt Ltd</td>\n",
       "      <td>-0.014111</td>\n",
       "    </tr>\n",
       "    <tr>\n",
       "      <th>17</th>\n",
       "      <td>major_discipline_STEM</td>\n",
       "      <td>-0.037752</td>\n",
       "    </tr>\n",
       "    <tr>\n",
       "      <th>1</th>\n",
       "      <td>training_hours</td>\n",
       "      <td>-0.057605</td>\n",
       "    </tr>\n",
       "    <tr>\n",
       "      <th>22</th>\n",
       "      <td>company_size_50-99</td>\n",
       "      <td>-0.067487</td>\n",
       "    </tr>\n",
       "  </tbody>\n",
       "</table>\n",
       "</div>"
      ],
      "text/plain": [
       "                                       Feature  Coefficient\n",
       "31                        company_type_unknown     0.846069\n",
       "29                  company_type_Public Sector     0.370853\n",
       "18                    major_discipline_unknown     0.337272\n",
       "28                          company_type_Other     0.200578\n",
       "4   relevent_experience_No relevent experience     0.163685\n",
       "3                                 last_new_job     0.122986\n",
       "30                        company_type_Pvt Ltd    -0.014111\n",
       "17                       major_discipline_STEM    -0.037752\n",
       "1                               training_hours    -0.057605\n",
       "22                          company_size_50-99    -0.067487"
      ]
     },
     "execution_count": 7,
     "metadata": {},
     "output_type": "execute_result"
    }
   ],
   "source": [
    "# Coefficient for top features\n",
    "\n",
    "feature = X_train.columns\n",
    "coef = pd.DataFrame(list(zip((feature),lm.coef_[0])),columns = ['Feature','Coefficient']).\\\n",
    "sort_values(['Coefficient'],ascending=False)\n",
    "top_feature = coef.head(10)\n",
    "top_feature"
   ]
  },
  {
   "cell_type": "code",
   "execution_count": 8,
   "metadata": {},
   "outputs": [
    {
     "data": {
      "text/plain": [
       "['company_type_unknown',\n",
       " 'company_type_Public Sector',\n",
       " 'major_discipline_unknown',\n",
       " 'company_type_Other',\n",
       " 'relevent_experience_No relevent experience',\n",
       " 'last_new_job',\n",
       " 'company_type_Pvt Ltd',\n",
       " 'major_discipline_STEM',\n",
       " 'training_hours',\n",
       " 'company_size_50-99']"
      ]
     },
     "execution_count": 8,
     "metadata": {},
     "output_type": "execute_result"
    }
   ],
   "source": [
    "list(top_feature.Feature)\n",
    "# plt.scatter(x='Feature',y='Coefficient',data=top_feature)"
   ]
  },
  {
   "cell_type": "code",
   "execution_count": 9,
   "metadata": {},
   "outputs": [
    {
     "data": {
      "text/html": [
       "<div>\n",
       "<style scoped>\n",
       "    .dataframe tbody tr th:only-of-type {\n",
       "        vertical-align: middle;\n",
       "    }\n",
       "\n",
       "    .dataframe tbody tr th {\n",
       "        vertical-align: top;\n",
       "    }\n",
       "\n",
       "    .dataframe thead th {\n",
       "        text-align: right;\n",
       "    }\n",
       "</style>\n",
       "<table border=\"1\" class=\"dataframe\">\n",
       "  <thead>\n",
       "    <tr style=\"text-align: right;\">\n",
       "      <th></th>\n",
       "      <th>Feature</th>\n",
       "      <th>Coefficient</th>\n",
       "    </tr>\n",
       "  </thead>\n",
       "  <tbody>\n",
       "    <tr>\n",
       "      <th>24</th>\n",
       "      <td>company_size_5000-9999</td>\n",
       "      <td>-0.480315</td>\n",
       "    </tr>\n",
       "    <tr>\n",
       "      <th>25</th>\n",
       "      <td>company_size_&lt;10</td>\n",
       "      <td>-0.498822</td>\n",
       "    </tr>\n",
       "    <tr>\n",
       "      <th>15</th>\n",
       "      <td>major_discipline_No Major</td>\n",
       "      <td>-0.499350</td>\n",
       "    </tr>\n",
       "    <tr>\n",
       "      <th>16</th>\n",
       "      <td>major_discipline_Other</td>\n",
       "      <td>-0.506544</td>\n",
       "    </tr>\n",
       "    <tr>\n",
       "      <th>23</th>\n",
       "      <td>company_size_500-999</td>\n",
       "      <td>-0.535622</td>\n",
       "    </tr>\n",
       "    <tr>\n",
       "      <th>0</th>\n",
       "      <td>city_development_index</td>\n",
       "      <td>-0.559493</td>\n",
       "    </tr>\n",
       "    <tr>\n",
       "      <th>7</th>\n",
       "      <td>enrolled_university_unknown</td>\n",
       "      <td>-0.603623</td>\n",
       "    </tr>\n",
       "    <tr>\n",
       "      <th>8</th>\n",
       "      <td>education_level_High School</td>\n",
       "      <td>-1.181321</td>\n",
       "    </tr>\n",
       "    <tr>\n",
       "      <th>12</th>\n",
       "      <td>education_level_unknown</td>\n",
       "      <td>-1.191776</td>\n",
       "    </tr>\n",
       "    <tr>\n",
       "      <th>11</th>\n",
       "      <td>education_level_Primary School</td>\n",
       "      <td>-1.815606</td>\n",
       "    </tr>\n",
       "  </tbody>\n",
       "</table>\n",
       "</div>"
      ],
      "text/plain": [
       "                           Feature  Coefficient\n",
       "24          company_size_5000-9999    -0.480315\n",
       "25                company_size_<10    -0.498822\n",
       "15       major_discipline_No Major    -0.499350\n",
       "16          major_discipline_Other    -0.506544\n",
       "23            company_size_500-999    -0.535622\n",
       "0           city_development_index    -0.559493\n",
       "7      enrolled_university_unknown    -0.603623\n",
       "8      education_level_High School    -1.181321\n",
       "12         education_level_unknown    -1.191776\n",
       "11  education_level_Primary School    -1.815606"
      ]
     },
     "execution_count": 9,
     "metadata": {},
     "output_type": "execute_result"
    }
   ],
   "source": [
    "bottom_feature = coef.tail(10)\n",
    "bottom_feature"
   ]
  },
  {
   "cell_type": "code",
   "execution_count": 10,
   "metadata": {},
   "outputs": [
    {
     "data": {
      "text/html": [
       "<div>\n",
       "<style scoped>\n",
       "    .dataframe tbody tr th:only-of-type {\n",
       "        vertical-align: middle;\n",
       "    }\n",
       "\n",
       "    .dataframe tbody tr th {\n",
       "        vertical-align: top;\n",
       "    }\n",
       "\n",
       "    .dataframe thead th {\n",
       "        text-align: right;\n",
       "    }\n",
       "</style>\n",
       "<table border=\"1\" class=\"dataframe\">\n",
       "  <thead>\n",
       "    <tr style=\"text-align: right;\">\n",
       "      <th></th>\n",
       "      <th>Predict-not changing (0)</th>\n",
       "      <th>Predict-change (1)</th>\n",
       "    </tr>\n",
       "  </thead>\n",
       "  <tbody>\n",
       "    <tr>\n",
       "      <th>Not changing (0)</th>\n",
       "      <td>1098</td>\n",
       "      <td>455</td>\n",
       "    </tr>\n",
       "    <tr>\n",
       "      <th>Changing (1)</th>\n",
       "      <td>149</td>\n",
       "      <td>427</td>\n",
       "    </tr>\n",
       "  </tbody>\n",
       "</table>\n",
       "</div>"
      ],
      "text/plain": [
       "                  Predict-not changing (0)  Predict-change (1)\n",
       "Not changing (0)                      1098                 455\n",
       "Changing (1)                           149                 427"
      ]
     },
     "execution_count": 10,
     "metadata": {},
     "output_type": "execute_result"
    }
   ],
   "source": [
    "y_predict = lm.predict(X_test)\n",
    "pd.DataFrame(confusion_matrix(y_test, y_predict),\\\n",
    "             columns=['Predict-not changing (0)','Predict-change (1)'],\\\n",
    "            index=['Not changing (0)','Changing (1)'])"
   ]
  },
  {
   "cell_type": "code",
   "execution_count": 11,
   "metadata": {},
   "outputs": [
    {
     "name": "stdout",
     "output_type": "stream",
     "text": [
      "Accuracy score: 0.7162987317989666 \n",
      "\n",
      "Classification report (Logistic regression):\n",
      "\n",
      "               precision    recall  f1-score   support\n",
      "\n",
      "           0       0.88      0.71      0.78      1553\n",
      "           1       0.48      0.74      0.59       576\n",
      "\n",
      "    accuracy                           0.72      2129\n",
      "   macro avg       0.68      0.72      0.69      2129\n",
      "weighted avg       0.77      0.72      0.73      2129\n",
      "\n"
     ]
    }
   ],
   "source": [
    "print('Accuracy score:',accuracy_score(y_test,y_predict),'\\n')\n",
    "print('Classification report (Logistic regression):\\n\\n',classification_report(y_test,y_predict))"
   ]
  },
  {
   "cell_type": "code",
   "execution_count": 12,
   "metadata": {},
   "outputs": [
    {
     "data": {
      "image/png": "[encoded data removed]",
      "text/plain": [
       "<Figure size 432x288 with 1 Axes>"
      ]
     },
     "metadata": {
      "needs_background": "light"
     },
     "output_type": "display_data"
    }
   ],
   "source": [
    "# Logistic regression ROC curve\n",
    "y_scores = lm.predict_proba(X_test)\n",
    "fpr, tpr, threshold = roc_curve(y_test, y_scores[:, 1])\n",
    "roc_auc = auc(fpr, tpr)\n",
    "plt.plot(fpr, tpr, 'b', label = 'AUC_lr = %0.3f' % roc_auc)\n",
    "\n",
    "plt.legend(loc = 'lower right')\n",
    "plt.plot([0, 1], [0, 1],'r--')\n",
    "plt.xlim([0, 1])\n",
    "plt.ylim([0, 1])\n",
    "plt.ylabel('True Positive Rate')\n",
    "plt.xlabel('False Positive Rate')\n",
    "plt.title('ROC Curve of Logistic regression')\n",
    "plt.show()"
   ]
  },
  {
   "cell_type": "code",
   "execution_count": 13,
   "metadata": {},
   "outputs": [
    {
     "data": {
      "image/png": "[encoded data removed]",
      "text/plain": [
       "<Figure size 432x288 with 1 Axes>"
      ]
     },
     "metadata": {
      "needs_background": "light"
     },
     "output_type": "display_data"
    }
   ],
   "source": [
    "# Logistic regression ROC curve (different color)\n",
    "y_scores = lm.predict_proba(X_test)\n",
    "fpr, tpr, threshold = roc_curve(y_test, y_scores[:, 1])\n",
    "roc_auc = auc(fpr, tpr)\n",
    "\n",
    "\n",
    "fig, ax = plt.subplots()\n",
    "\n",
    "plt.plot(fpr, tpr, 'cadetblue', linewidth=3, label = 'AUC = %0.3f' % roc_auc)\n",
    "plt.legend(loc = 'lower right')\n",
    "plt.plot([0, 1], [0, 1],'k--')\n",
    "plt.xlim([0, 1])\n",
    "plt.ylim([0, 1])\n",
    "plt.ylabel('True Positive Rate',fontsize=14)\n",
    "plt.xlabel('False Positive Rate',fontsize=14)\n",
    "plt.title('ROC Curve of Logistic regression',fontsize=16)\n",
    "plt.xticks(fontsize=12)\n",
    "plt.yticks(fontsize=12);\n",
    "\n",
    "# fig.savefig('../plot/ROC_lr_1.pdf', bbox_inches='tight', transparent=True)"
   ]
  },
  {
   "cell_type": "code",
   "execution_count": 14,
   "metadata": {},
   "outputs": [],
   "source": [
    "roc_df = pd.DataFrame(roc_curve(y_test, y_scores[:, 1])).transpose()\n",
    "roc_df.columns=['fpr','tpr','threshold']\n",
    "# roc_df.to_csv('../dump/roc_df_lr.csv')"
   ]
  },
  {
   "cell_type": "code",
   "execution_count": 15,
   "metadata": {},
   "outputs": [
    {
     "data": {
      "text/html": [
       "<div>\n",
       "<style scoped>\n",
       "    .dataframe tbody tr th:only-of-type {\n",
       "        vertical-align: middle;\n",
       "    }\n",
       "\n",
       "    .dataframe tbody tr th {\n",
       "        vertical-align: top;\n",
       "    }\n",
       "\n",
       "    .dataframe thead th {\n",
       "        text-align: right;\n",
       "    }\n",
       "</style>\n",
       "<table border=\"1\" class=\"dataframe\">\n",
       "  <thead>\n",
       "    <tr style=\"text-align: right;\">\n",
       "      <th></th>\n",
       "      <th>fpr</th>\n",
       "      <th>tpr</th>\n",
       "      <th>threshold</th>\n",
       "    </tr>\n",
       "  </thead>\n",
       "  <tbody>\n",
       "    <tr>\n",
       "      <th>0</th>\n",
       "      <td>0.000000</td>\n",
       "      <td>0.000000</td>\n",
       "      <td>1.936079</td>\n",
       "    </tr>\n",
       "    <tr>\n",
       "      <th>1</th>\n",
       "      <td>0.000000</td>\n",
       "      <td>0.001736</td>\n",
       "      <td>0.936079</td>\n",
       "    </tr>\n",
       "    <tr>\n",
       "      <th>2</th>\n",
       "      <td>0.000644</td>\n",
       "      <td>0.001736</td>\n",
       "      <td>0.927732</td>\n",
       "    </tr>\n",
       "    <tr>\n",
       "      <th>3</th>\n",
       "      <td>0.000644</td>\n",
       "      <td>0.006944</td>\n",
       "      <td>0.920744</td>\n",
       "    </tr>\n",
       "    <tr>\n",
       "      <th>4</th>\n",
       "      <td>0.001288</td>\n",
       "      <td>0.006944</td>\n",
       "      <td>0.920591</td>\n",
       "    </tr>\n",
       "    <tr>\n",
       "      <th>...</th>\n",
       "      <td>...</td>\n",
       "      <td>...</td>\n",
       "      <td>...</td>\n",
       "    </tr>\n",
       "    <tr>\n",
       "      <th>681</th>\n",
       "      <td>0.983258</td>\n",
       "      <td>0.994792</td>\n",
       "      <td>0.151156</td>\n",
       "    </tr>\n",
       "    <tr>\n",
       "      <th>682</th>\n",
       "      <td>0.983258</td>\n",
       "      <td>0.996528</td>\n",
       "      <td>0.150794</td>\n",
       "    </tr>\n",
       "    <tr>\n",
       "      <th>683</th>\n",
       "      <td>0.990341</td>\n",
       "      <td>0.996528</td>\n",
       "      <td>0.134558</td>\n",
       "    </tr>\n",
       "    <tr>\n",
       "      <th>684</th>\n",
       "      <td>0.990341</td>\n",
       "      <td>1.000000</td>\n",
       "      <td>0.132303</td>\n",
       "    </tr>\n",
       "    <tr>\n",
       "      <th>685</th>\n",
       "      <td>1.000000</td>\n",
       "      <td>1.000000</td>\n",
       "      <td>0.065966</td>\n",
       "    </tr>\n",
       "  </tbody>\n",
       "</table>\n",
       "<p>686 rows × 3 columns</p>\n",
       "</div>"
      ],
      "text/plain": [
       "          fpr       tpr  threshold\n",
       "0    0.000000  0.000000   1.936079\n",
       "1    0.000000  0.001736   0.936079\n",
       "2    0.000644  0.001736   0.927732\n",
       "3    0.000644  0.006944   0.920744\n",
       "4    0.001288  0.006944   0.920591\n",
       "..        ...       ...        ...\n",
       "681  0.983258  0.994792   0.151156\n",
       "682  0.983258  0.996528   0.150794\n",
       "683  0.990341  0.996528   0.134558\n",
       "684  0.990341  1.000000   0.132303\n",
       "685  1.000000  1.000000   0.065966\n",
       "\n",
       "[686 rows x 3 columns]"
      ]
     },
     "execution_count": 15,
     "metadata": {},
     "output_type": "execute_result"
    }
   ],
   "source": [
    "roc_df"
   ]
  },
  {
   "cell_type": "code",
   "execution_count": 16,
   "metadata": {},
   "outputs": [
    {
     "data": {
      "image/png": "[encoded data removed]",
      "text/plain": [
       "<Figure size 432x288 with 1 Axes>"
      ]
     },
     "metadata": {},
     "output_type": "display_data"
    }
   ],
   "source": [
    "sns.set()\n",
    "fig, ax = plt.subplots()\n",
    "\n",
    "# pd.DataFrame(tpr,fpr).plot.area(alpha=0.4)\n",
    "y_scores = lm.predict_proba(X_test)\n",
    "fpr, tpr, threshold = roc_curve(y_test, y_scores[:, 1])\n",
    "roc_auc = auc(fpr, tpr)\n",
    "\n",
    "plt.stackplot(fpr, tpr,alpha=0.3)\n",
    "plt.plot(fpr, tpr, 'cadetblue', linewidth=3.5, label = 'Logistic Regression = %0.3f' % roc_auc)\n",
    "# plt.plot([0, 1], [0, 1],'k--',label = 'Random guess = 0.5')\n",
    "\n",
    "plt.legend(loc = 'lower right',bbox_to_anchor=(1.6, 0))\n",
    "plt.xlim([0, 1])\n",
    "plt.ylim([0, 1])\n",
    "plt.ylabel('True Positive Rate',fontsize=14)\n",
    "plt.xlabel('False Positive Rate',fontsize=14)\n",
    "plt.title('Model Performance (ROC)',fontsize=16)\n",
    "plt.xticks(fontsize=12)\n",
    "plt.yticks(fontsize=12);\n",
    "\n",
    "# fig.savefig('../plot/ROC_lr_2.pdf', bbox_inches='tight', transparent=True)"
   ]
  },
  {
   "cell_type": "code",
   "execution_count": 17,
   "metadata": {},
   "outputs": [
    {
     "data": {
      "text/html": [
       "<div>\n",
       "<style scoped>\n",
       "    .dataframe tbody tr th:only-of-type {\n",
       "        vertical-align: middle;\n",
       "    }\n",
       "\n",
       "    .dataframe tbody tr th {\n",
       "        vertical-align: top;\n",
       "    }\n",
       "\n",
       "    .dataframe thead th {\n",
       "        text-align: right;\n",
       "    }\n",
       "</style>\n",
       "<table border=\"1\" class=\"dataframe\">\n",
       "  <thead>\n",
       "    <tr style=\"text-align: right;\">\n",
       "      <th></th>\n",
       "      <th>index</th>\n",
       "      <th>Enrollee_id</th>\n",
       "      <th>experience</th>\n",
       "      <th>Probability (%)</th>\n",
       "      <th>Target</th>\n",
       "    </tr>\n",
       "  </thead>\n",
       "  <tbody>\n",
       "    <tr>\n",
       "      <th>0</th>\n",
       "      <td>649</td>\n",
       "      <td>22527</td>\n",
       "      <td>4.0</td>\n",
       "      <td>93.6</td>\n",
       "      <td>1</td>\n",
       "    </tr>\n",
       "    <tr>\n",
       "      <th>1</th>\n",
       "      <td>1597</td>\n",
       "      <td>32795</td>\n",
       "      <td>3.0</td>\n",
       "      <td>92.8</td>\n",
       "      <td>0</td>\n",
       "    </tr>\n",
       "    <tr>\n",
       "      <th>2</th>\n",
       "      <td>918</td>\n",
       "      <td>26694</td>\n",
       "      <td>2.0</td>\n",
       "      <td>92.5</td>\n",
       "      <td>1</td>\n",
       "    </tr>\n",
       "    <tr>\n",
       "      <th>3</th>\n",
       "      <td>1890</td>\n",
       "      <td>31758</td>\n",
       "      <td>1.0</td>\n",
       "      <td>92.4</td>\n",
       "      <td>1</td>\n",
       "    </tr>\n",
       "    <tr>\n",
       "      <th>4</th>\n",
       "      <td>1060</td>\n",
       "      <td>7626</td>\n",
       "      <td>3.0</td>\n",
       "      <td>92.1</td>\n",
       "      <td>0</td>\n",
       "    </tr>\n",
       "    <tr>\n",
       "      <th>...</th>\n",
       "      <td>...</td>\n",
       "      <td>...</td>\n",
       "      <td>...</td>\n",
       "      <td>...</td>\n",
       "      <td>...</td>\n",
       "    </tr>\n",
       "    <tr>\n",
       "      <th>2124</th>\n",
       "      <td>177</td>\n",
       "      <td>20977</td>\n",
       "      <td>25.0</td>\n",
       "      <td>11.1</td>\n",
       "      <td>0</td>\n",
       "    </tr>\n",
       "    <tr>\n",
       "      <th>2125</th>\n",
       "      <td>2012</td>\n",
       "      <td>29908</td>\n",
       "      <td>15.0</td>\n",
       "      <td>10.5</td>\n",
       "      <td>0</td>\n",
       "    </tr>\n",
       "    <tr>\n",
       "      <th>2126</th>\n",
       "      <td>1421</td>\n",
       "      <td>29417</td>\n",
       "      <td>25.0</td>\n",
       "      <td>10.3</td>\n",
       "      <td>0</td>\n",
       "    </tr>\n",
       "    <tr>\n",
       "      <th>2127</th>\n",
       "      <td>232</td>\n",
       "      <td>8818</td>\n",
       "      <td>7.0</td>\n",
       "      <td>9.2</td>\n",
       "      <td>0</td>\n",
       "    </tr>\n",
       "    <tr>\n",
       "      <th>2128</th>\n",
       "      <td>411</td>\n",
       "      <td>14200</td>\n",
       "      <td>25.0</td>\n",
       "      <td>6.6</td>\n",
       "      <td>0</td>\n",
       "    </tr>\n",
       "  </tbody>\n",
       "</table>\n",
       "<p>2129 rows × 5 columns</p>\n",
       "</div>"
      ],
      "text/plain": [
       "      index  Enrollee_id  experience  Probability (%)  Target\n",
       "0       649        22527         4.0             93.6       1\n",
       "1      1597        32795         3.0             92.8       0\n",
       "2       918        26694         2.0             92.5       1\n",
       "3      1890        31758         1.0             92.4       1\n",
       "4      1060         7626         3.0             92.1       0\n",
       "...     ...          ...         ...              ...     ...\n",
       "2124    177        20977        25.0             11.1       0\n",
       "2125   2012        29908        15.0             10.5       0\n",
       "2126   1421        29417        25.0             10.3       0\n",
       "2127    232         8818         7.0              9.2       0\n",
       "2128    411        14200        25.0              6.6       0\n",
       "\n",
       "[2129 rows x 5 columns]"
      ]
     },
     "execution_count": 17,
     "metadata": {},
     "output_type": "execute_result"
    }
   ],
   "source": [
    "# Create a concise df of test data candidate info, target, and probability\n",
    "df = df_test\n",
    "df = df.reset_index()\n",
    "prob_df = pd.DataFrame(lm.predict_proba(X_test)).apply(lambda x:round(x,3)*100)\n",
    "\n",
    "df = pd.concat([df,prob_df],axis=1)[['enrollee_id','experience',1,'target']]\n",
    "df.columns=['Enrollee_id','experience','Probability (%)','Target']\n",
    "df = df.sort_values('Probability (%)',ascending=False).reset_index()\n",
    "\n",
    "# Save as csv file\n",
    "# df.to_csv('../dump/candidate_proba.csv')\n",
    "df"
   ]
  },
  {
   "cell_type": "code",
   "execution_count": null,
   "metadata": {},
   "outputs": [],
   "source": []
  },
  {
   "cell_type": "markdown",
   "metadata": {},
   "source": [
    "#### Grid search cross-validation\n",
    "Logistic regression does not really have hyperparameters to tune.\n",
    "* **solver** : ‘newton-cg’, ‘lbfgs’, ‘liblinear’, ‘sag’, ‘saga’\n",
    "* **penalty** (regularization) : ‘none’, ‘l1’, ‘l2’, ‘elasticnet’\n",
    "* **C** (penalty strength) : 100, 10, 1.0, 0.1, 0.01"
   ]
  },
  {
   "cell_type": "code",
   "execution_count": 18,
   "metadata": {},
   "outputs": [],
   "source": [
    "from sklearn.model_selection import GridSearchCV\n",
    "from sklearn.model_selection import RepeatedStratifiedKFold"
   ]
  },
  {
   "cell_type": "code",
   "execution_count": 19,
   "metadata": {},
   "outputs": [],
   "source": [
    "lm_2=LogisticRegression()\n",
    "solvers = ['newton-cg', 'lbfgs', 'liblinear']\n",
    "penalty = ['none', 'l1', 'l2', 'elasticnet']\n",
    "c_values = [100000000, 10000, 1000, 100, 1.0, 0.1, 0.01]\n",
    "# c_values = [1.5, 1.2, 0.8, 0.4, 0.2]"
   ]
  },
  {
   "cell_type": "code",
   "execution_count": 20,
   "metadata": {},
   "outputs": [
    {
     "name": "stderr",
     "output_type": "stream",
     "text": [
      "/Users/katiehuang/opt/anaconda3/lib/python3.8/site-packages/joblib/externals/loky/process_executor.py:688: UserWarning: A worker stopped while some jobs were given to the executor. This can be caused by a too short worker timeout or by a memory leak.\n",
      "  warnings.warn(\n"
     ]
    }
   ],
   "source": [
    "# Define grid search\n",
    "grid = dict(solver=solvers,penalty=penalty,C=c_values)\n",
    "# cv = RepeatedStratifiedKFold(n_splits=10, n_repeats=3, random_state=1)\n",
    "grid_search = GridSearchCV(estimator=lm_2, param_grid=grid, n_jobs=-1, cv=5,\\\n",
    "                           scoring='precision',error_score=0)\n",
    "grid_result = grid_search.fit(X_train, y_train)"
   ]
  },
  {
   "cell_type": "code",
   "execution_count": 21,
   "metadata": {},
   "outputs": [
    {
     "name": "stdout",
     "output_type": "stream",
     "text": [
      "Best: 0.688547 using {'C': 100000000, 'penalty': 'l2', 'solver': 'liblinear'}\n"
     ]
    }
   ],
   "source": [
    "# summarize results\n",
    "print(\"Best: %f using %s\" % (grid_result.best_score_, grid_result.best_params_))\n",
    "means = grid_result.cv_results_['mean_test_score']\n",
    "stds = grid_result.cv_results_['std_test_score']\n",
    "params = grid_result.cv_results_['params']\n",
    "# for mean, stdev, param in zip(means, stds, params):\n",
    "#     print(\"%f (%f) with: %r\" % (mean, stdev, param))\n"
   ]
  },
  {
   "cell_type": "code",
   "execution_count": 22,
   "metadata": {},
   "outputs": [
    {
     "data": {
      "text/html": [
       "<div>\n",
       "<style scoped>\n",
       "    .dataframe tbody tr th:only-of-type {\n",
       "        vertical-align: middle;\n",
       "    }\n",
       "\n",
       "    .dataframe tbody tr th {\n",
       "        vertical-align: top;\n",
       "    }\n",
       "\n",
       "    .dataframe thead th {\n",
       "        text-align: right;\n",
       "    }\n",
       "</style>\n",
       "<table border=\"1\" class=\"dataframe\">\n",
       "  <thead>\n",
       "    <tr style=\"text-align: right;\">\n",
       "      <th></th>\n",
       "      <th>Predict-not changing (0)</th>\n",
       "      <th>Predict-change (1)</th>\n",
       "    </tr>\n",
       "  </thead>\n",
       "  <tbody>\n",
       "    <tr>\n",
       "      <th>Not changing (0)</th>\n",
       "      <td>1098</td>\n",
       "      <td>455</td>\n",
       "    </tr>\n",
       "    <tr>\n",
       "      <th>Changing (1)</th>\n",
       "      <td>149</td>\n",
       "      <td>427</td>\n",
       "    </tr>\n",
       "  </tbody>\n",
       "</table>\n",
       "</div>"
      ],
      "text/plain": [
       "                  Predict-not changing (0)  Predict-change (1)\n",
       "Not changing (0)                      1098                 455\n",
       "Changing (1)                           149                 427"
      ]
     },
     "execution_count": 22,
     "metadata": {},
     "output_type": "execute_result"
    }
   ],
   "source": [
    "lm_2 = grid_search.best_estimator_\n",
    "# LogisticRegression(solver='lbfgs', C=10000, penalty='l2')\n",
    "lm_2.fit(X_train,y_train)\n",
    "y_predict = lm_2.predict(X_test)\n",
    "pd.DataFrame(confusion_matrix(y_test, y_predict),\\\n",
    "             columns=['Predict-not changing (0)','Predict-change (1)'],\\\n",
    "            index=['Not changing (0)','Changing (1)'])"
   ]
  },
  {
   "cell_type": "code",
   "execution_count": 23,
   "metadata": {},
   "outputs": [
    {
     "name": "stdout",
     "output_type": "stream",
     "text": [
      "Accuracy score: 0.7162987317989666\n",
      "ROC AUC score: 0.7651644219074194 \n",
      "\n",
      "Classification report (Logistic regression):\n",
      "\n",
      "               precision    recall  f1-score   support\n",
      "\n",
      "           0       0.88      0.71      0.78      1553\n",
      "           1       0.48      0.74      0.59       576\n",
      "\n",
      "    accuracy                           0.72      2129\n",
      "   macro avg       0.68      0.72      0.69      2129\n",
      "weighted avg       0.77      0.72      0.73      2129\n",
      "\n"
     ]
    }
   ],
   "source": [
    "print('Accuracy score:',accuracy_score(y_test,y_predict))\n",
    "print('ROC AUC score:',roc_auc_score(y_test,lm_2.predict_proba(X_test)[:, 1]),'\\n')\n",
    "print('Classification report (Logistic regression):\\n\\n',classification_report(y_test,y_predict))"
   ]
  },
  {
   "cell_type": "code",
   "execution_count": 24,
   "metadata": {},
   "outputs": [],
   "source": [
    "# Precision and recall for (1) both improved 0.01..."
   ]
  },
  {
   "cell_type": "code",
   "execution_count": null,
   "metadata": {},
   "outputs": [],
   "source": []
  },
  {
   "cell_type": "markdown",
   "metadata": {},
   "source": [
    "#### Cross-validation"
   ]
  },
  {
   "cell_type": "code",
   "execution_count": 25,
   "metadata": {},
   "outputs": [],
   "source": [
    "from sklearn.model_selection import cross_val_score"
   ]
  },
  {
   "cell_type": "code",
   "execution_count": 26,
   "metadata": {},
   "outputs": [],
   "source": [
    "recalls = cross_val_score(lm_2, X_train, y_train, cv=5, scoring='recall')"
   ]
  },
  {
   "cell_type": "code",
   "execution_count": 27,
   "metadata": {},
   "outputs": [
    {
     "name": "stdout",
     "output_type": "stream",
     "text": [
      "Mean: 0.67616741611899\n",
      "All recalls: [0.76271186 0.72154964 0.62850225 0.62193013 0.6461432 ]\n"
     ]
    }
   ],
   "source": [
    "print('Mean:', np.mean(recalls))\n",
    "print('All recalls:', (recalls))"
   ]
  },
  {
   "cell_type": "code",
   "execution_count": null,
   "metadata": {},
   "outputs": [],
   "source": []
  },
  {
   "cell_type": "markdown",
   "metadata": {},
   "source": [
    "### * Adjust threshold"
   ]
  },
  {
   "cell_type": "code",
   "execution_count": 28,
   "metadata": {},
   "outputs": [],
   "source": [
    "def make_confusion_matrix(model, threshold=0.5):\n",
    "    # Predict class 1 if probability of being in class 1 is greater than threshold\n",
    "    # (model.predict(X_test) does this automatically with a threshold of 0.5)\n",
    "    y_predict = (model.predict_proba(X_test)[:, 1] >= threshold)\n",
    "    fraud_confusion = confusion_matrix(y_test, y_predict)\n",
    "    plt.figure(dpi=80)\n",
    "    sns.heatmap(fraud_confusion, cmap=plt.cm.Blues, annot=True, square=True, fmt='d',\n",
    "           xticklabels=['Not Looking', 'Looking'],\n",
    "           yticklabels=['Not Looking', 'Looking']);\n",
    "    plt.xlabel('prediction')\n",
    "    plt.ylabel('actual')"
   ]
  },
  {
   "cell_type": "code",
   "execution_count": 29,
   "metadata": {},
   "outputs": [
    {
     "data": {
      "application/vnd.jupyter.widget-view+json": {
       "model_id": "7793052f78c148f5bba56cf51e02358a",
       "version_major": 2,
       "version_minor": 0
      },
      "text/plain": [
       "interactive(children=(FloatSlider(value=0.5, description='threshold', max=1.0, step=0.02), Output()), _dom_cla…"
      ]
     },
     "metadata": {},
     "output_type": "display_data"
    }
   ],
   "source": [
    "# Let's see how our confusion matrix changes with changes to the cutoff! \n",
    "\n",
    "from ipywidgets import interactive, FloatSlider\n",
    "interactive(lambda threshold: make_confusion_matrix(lm_2, threshold), threshold=(0.0,1.0,0.02))"
   ]
  },
  {
   "cell_type": "code",
   "execution_count": 30,
   "metadata": {},
   "outputs": [
    {
     "data": {
      "text/plain": [
       "(1.936079070460341, 0.06596623339502285)"
      ]
     },
     "execution_count": 30,
     "metadata": {},
     "output_type": "execute_result"
    }
   ],
   "source": [
    "fpr, tpr, threshold = roc_curve(y_test, y_scores[:, 1])\n",
    "len(threshold)\n",
    "threshold[0],threshold[685]"
   ]
  },
  {
   "cell_type": "code",
   "execution_count": 31,
   "metadata": {},
   "outputs": [],
   "source": [
    "value=0.2\n",
    "def find_nearest(array, value):\n",
    "        array = np.asarray(array)\n",
    "        idx = (np.abs(array - value)).argmin()\n",
    "        return idx\n",
    "    \n",
    "i = find_nearest(threshold, value)"
   ]
  },
  {
   "cell_type": "code",
   "execution_count": 32,
   "metadata": {},
   "outputs": [],
   "source": [
    "def roc_threshold(lm,threshold):\n",
    "    y_scores = lm.predict_proba(X_test)\n",
    "    fpr, tpr, threshold_array = roc_curve(y_test, y_scores[:, 1])\n",
    "    roc_auc = auc(fpr, tpr)\n",
    "\n",
    "    def find_nearest(array, value):\n",
    "        array = np.asarray(array)\n",
    "        idx = (np.abs(array - value)).argmin()\n",
    "        return idx\n",
    "    \n",
    "    i = find_nearest(threshold_array, threshold)\n",
    "    \n",
    "    fig, ax = plt.subplots()\n",
    "    \n",
    "\n",
    "    # pd.DataFrame(tpr,fpr).plot.area(alpha=0.4)\n",
    "    plt.stackplot(fpr, tpr,alpha=0.3)\n",
    "    plt.plot(fpr, tpr, 'cadetblue', linewidth=3.5, label = 'Logistic Regression')\n",
    "    plt.plot([0, 1], [0, 1],'k--',linewidth=1, label = 'Random Guess')\n",
    "    plt.scatter(fpr[i], tpr[i],linewidth=3,color='orange',zorder=10)\n",
    "    ax.annotate('Threshold= %.2f' % (threshold_array[i]),[fpr[i]+0.03,tpr[i]-0.02])\n",
    "\n",
    "    plt.legend(loc = 'lower right')\n",
    "    plt.xlim([0, 1])\n",
    "    plt.ylim([0, 1])\n",
    "    plt.ylabel('True Positive Rate',fontsize=14)\n",
    "    plt.xlabel('False Positive Rate',fontsize=14)\n",
    "    plt.title('Model Performance (ROC)',fontsize=16)\n",
    "    plt.xticks(fontsize=12)\n",
    "    plt.yticks(fontsize=12);"
   ]
  },
  {
   "cell_type": "code",
   "execution_count": 33,
   "metadata": {},
   "outputs": [
    {
     "data": {
      "application/vnd.jupyter.widget-view+json": {
       "model_id": "e16f84ec11dd4cd6948e8fb2ef6ecc3f",
       "version_major": 2,
       "version_minor": 0
      },
      "text/plain": [
       "interactive(children=(FloatSlider(value=0.0, description='threshold', max=1.0, step=0.2), Output()), _dom_clas…"
      ]
     },
     "metadata": {},
     "output_type": "display_data"
    }
   ],
   "source": [
    "from ipywidgets import interactive, FloatSlider\n",
    "interactive(lambda threshold: roc_threshold(lm_2, threshold), threshold=(0,1,0.2))"
   ]
  },
  {
   "cell_type": "code",
   "execution_count": 34,
   "metadata": {},
   "outputs": [
    {
     "name": "stdout",
     "output_type": "stream",
     "text": [
      "Classification report (Logistic regression):\n",
      "\n",
      "               precision    recall  f1-score   support\n",
      "\n",
      "           0       0.90      0.56      0.69      1553\n",
      "           1       0.41      0.83      0.55       576\n",
      "\n",
      "    accuracy                           0.63      2129\n",
      "   macro avg       0.66      0.70      0.62      2129\n",
      "weighted avg       0.77      0.63      0.65      2129\n",
      "\n"
     ]
    }
   ],
   "source": [
    "threshold = 0.4\n",
    "y_predict = (lm_2.predict_proba(X_test)[:, 1] >= threshold)\n",
    "print('Classification report (Logistic regression):\\n\\n',classification_report(y_test,y_predict))"
   ]
  },
  {
   "cell_type": "code",
   "execution_count": 35,
   "metadata": {},
   "outputs": [
    {
     "data": {
      "text/html": [
       "<div>\n",
       "<style scoped>\n",
       "    .dataframe tbody tr th:only-of-type {\n",
       "        vertical-align: middle;\n",
       "    }\n",
       "\n",
       "    .dataframe tbody tr th {\n",
       "        vertical-align: top;\n",
       "    }\n",
       "\n",
       "    .dataframe thead th {\n",
       "        text-align: right;\n",
       "    }\n",
       "</style>\n",
       "<table border=\"1\" class=\"dataframe\">\n",
       "  <thead>\n",
       "    <tr style=\"text-align: right;\">\n",
       "      <th></th>\n",
       "      <th>Predict-not changing (0)</th>\n",
       "      <th>Predict-change (1)</th>\n",
       "    </tr>\n",
       "  </thead>\n",
       "  <tbody>\n",
       "    <tr>\n",
       "      <th>Not changing (0)</th>\n",
       "      <td>873</td>\n",
       "      <td>680</td>\n",
       "    </tr>\n",
       "    <tr>\n",
       "      <th>Changing (1)</th>\n",
       "      <td>99</td>\n",
       "      <td>477</td>\n",
       "    </tr>\n",
       "    <tr>\n",
       "      <th>Total</th>\n",
       "      <td>972</td>\n",
       "      <td>1157</td>\n",
       "    </tr>\n",
       "  </tbody>\n",
       "</table>\n",
       "</div>"
      ],
      "text/plain": [
       "                  Predict-not changing (0)  Predict-change (1)\n",
       "Not changing (0)                       873                 680\n",
       "Changing (1)                            99                 477\n",
       "Total                                  972                1157"
      ]
     },
     "execution_count": 35,
     "metadata": {},
     "output_type": "execute_result"
    }
   ],
   "source": [
    "# LogisticRegression(solver='lbfgs', C=10000, penalty='l2')\n",
    "lm_2.fit(X_train,y_train)\n",
    "y_predict = (lm_2.predict_proba(X_test)[:, 1] >= threshold)\n",
    "predict_df = pd.DataFrame(confusion_matrix(y_test, y_predict),\\\n",
    "             columns=['Predict-not changing (0)','Predict-change (1)'],\\\n",
    "            index=['Not changing (0)','Changing (1)'])\n",
    "predict_df = predict_df.append(predict_df.sum(numeric_only=True), ignore_index=True)\n",
    "predict_df.index=['Not changing (0)','Changing (1)','Total']\n",
    "predict_df"
   ]
  },
  {
   "cell_type": "code",
   "execution_count": 36,
   "metadata": {},
   "outputs": [
    {
     "name": "stdout",
     "output_type": "stream",
     "text": [
      "Classification report (Logistic regression):\n",
      "\n",
      "               precision    recall  f1-score   support\n",
      "\n",
      "           0       0.76      0.29      0.42     14381\n",
      "           1       0.56      0.91      0.70     14455\n",
      "\n",
      "    accuracy                           0.60     28836\n",
      "   macro avg       0.66      0.60      0.56     28836\n",
      "weighted avg       0.66      0.60      0.56     28836\n",
      "\n"
     ]
    }
   ],
   "source": [
    "# Classification report on **train data**\n",
    "threshold = 0.3\n",
    "y_predict = (lm_2.predict_proba(X_train)[:, 1] >= threshold)\n",
    "print('Classification report (Logistic regression):\\n\\n',classification_report(y_train,y_predict))"
   ]
  },
  {
   "cell_type": "code",
   "execution_count": 37,
   "metadata": {},
   "outputs": [
    {
     "data": {
      "text/html": [
       "<div>\n",
       "<style scoped>\n",
       "    .dataframe tbody tr th:only-of-type {\n",
       "        vertical-align: middle;\n",
       "    }\n",
       "\n",
       "    .dataframe tbody tr th {\n",
       "        vertical-align: top;\n",
       "    }\n",
       "\n",
       "    .dataframe thead th {\n",
       "        text-align: right;\n",
       "    }\n",
       "</style>\n",
       "<table border=\"1\" class=\"dataframe\">\n",
       "  <thead>\n",
       "    <tr style=\"text-align: right;\">\n",
       "      <th></th>\n",
       "      <th>Predict-not changing (0)</th>\n",
       "      <th>Predict-change (1)</th>\n",
       "    </tr>\n",
       "  </thead>\n",
       "  <tbody>\n",
       "    <tr>\n",
       "      <th>Not changing (0)</th>\n",
       "      <td>10001</td>\n",
       "      <td>4380</td>\n",
       "    </tr>\n",
       "    <tr>\n",
       "      <th>Changing (1)</th>\n",
       "      <td>4667</td>\n",
       "      <td>9788</td>\n",
       "    </tr>\n",
       "    <tr>\n",
       "      <th>Total</th>\n",
       "      <td>14668</td>\n",
       "      <td>14168</td>\n",
       "    </tr>\n",
       "  </tbody>\n",
       "</table>\n",
       "</div>"
      ],
      "text/plain": [
       "                  Predict-not changing (0)  Predict-change (1)\n",
       "Not changing (0)                     10001                4380\n",
       "Changing (1)                          4667                9788\n",
       "Total                                14668               14168"
      ]
     },
     "execution_count": 37,
     "metadata": {},
     "output_type": "execute_result"
    }
   ],
   "source": [
    "# LogisticRegression(solver='lbfgs', C=10000, penalty='l2')\n",
    "lm_2.fit(X_train,y_train)\n",
    "y_predict = lm_2.predict(X_train)\n",
    "predict_df = pd.DataFrame(confusion_matrix(y_train, y_predict),\\\n",
    "             columns=['Predict-not changing (0)','Predict-change (1)'],\\\n",
    "            index=['Not changing (0)','Changing (1)'])\n",
    "predict_df = predict_df.append(predict_df.sum(numeric_only=True), ignore_index=True)\n",
    "predict_df.index=['Not changing (0)','Changing (1)','Total']\n",
    "predict_df"
   ]
  },
  {
   "cell_type": "code",
   "execution_count": 38,
   "metadata": {},
   "outputs": [],
   "source": [
    "# Use recall to find threshold\n",
    "threshold_list = [x/100 for x in range(0,100)]\n",
    "# print(threshold_list)\n",
    "recall_list=[]\n",
    "for value in threshold_list:\n",
    "    threshold = value\n",
    "    y_predict = (lm_2.predict_proba(X_test)[:, 1] >= threshold)\n",
    "    recall_list.append(recall_score(y_test,y_predict))\n",
    "\n",
    "i = find_nearest(recall_list, 0.8)"
   ]
  },
  {
   "cell_type": "code",
   "execution_count": 39,
   "metadata": {},
   "outputs": [],
   "source": [
    "# Compared to baseline Logistic regression model with 0.41 precision, recall has improved from 0.61 to 0.82!"
   ]
  },
  {
   "cell_type": "code",
   "execution_count": null,
   "metadata": {},
   "outputs": [],
   "source": []
  },
  {
   "cell_type": "markdown",
   "metadata": {},
   "source": [
    "### * Feature Engineering"
   ]
  },
  {
   "cell_type": "code",
   "execution_count": 40,
   "metadata": {},
   "outputs": [],
   "source": [
    "X_train, X_val, y_train, y_val = train_test_split(X_train, y_train, test_size=0.25, random_state=2)"
   ]
  },
  {
   "cell_type": "code",
   "execution_count": 41,
   "metadata": {},
   "outputs": [],
   "source": [
    "X_train['training_hours_experience'] = X_train['training_hours'] * X_train['experience']\n",
    "X_test['training_hours_experience'] = X_test['training_hours'] * X_test['experience']\n",
    "\n",
    "X_train['last_job_experience'] = X_train['experience'] / X_train['last_new_job']\n",
    "X_test['last_job_experience'] = X_test['experience'] / X_test['last_new_job']\n",
    "\n",
    "X_train['last_job_city'] = X_train['last_new_job'] * X_train['city_development_index']\n",
    "X_test['last_job_city'] = X_test['last_new_job'] * X_test['city_development_index']\n",
    "\n",
    "X_train['training_hours_city'] = X_train['training_hours'] * X_train['city_development_index']\n",
    "X_test['training_hours_city'] = X_test['training_hours'] * X_test['city_development_index']"
   ]
  },
  {
   "cell_type": "code",
   "execution_count": 42,
   "metadata": {
    "scrolled": false
   },
   "outputs": [],
   "source": [
    "scaler = StandardScaler()\n",
    "X_train['last_job_experience'] = scaler.fit_transform(X_train[['last_job_experience']])"
   ]
  },
  {
   "cell_type": "code",
   "execution_count": 43,
   "metadata": {},
   "outputs": [
    {
     "data": {
      "text/html": [
       "<div>\n",
       "<style scoped>\n",
       "    .dataframe tbody tr th:only-of-type {\n",
       "        vertical-align: middle;\n",
       "    }\n",
       "\n",
       "    .dataframe tbody tr th {\n",
       "        vertical-align: top;\n",
       "    }\n",
       "\n",
       "    .dataframe thead th {\n",
       "        text-align: right;\n",
       "    }\n",
       "</style>\n",
       "<table border=\"1\" class=\"dataframe\">\n",
       "  <thead>\n",
       "    <tr style=\"text-align: right;\">\n",
       "      <th></th>\n",
       "      <th>city_development_index</th>\n",
       "      <th>training_hours</th>\n",
       "      <th>experience</th>\n",
       "      <th>last_new_job</th>\n",
       "      <th>relevent_experience_No relevent experience</th>\n",
       "      <th>enrolled_university_Part time course</th>\n",
       "      <th>enrolled_university_no_enrollment</th>\n",
       "      <th>enrolled_university_unknown</th>\n",
       "      <th>education_level_High School</th>\n",
       "      <th>education_level_Masters</th>\n",
       "      <th>...</th>\n",
       "      <th>company_type_Funded Startup</th>\n",
       "      <th>company_type_NGO</th>\n",
       "      <th>company_type_Other</th>\n",
       "      <th>company_type_Public Sector</th>\n",
       "      <th>company_type_Pvt Ltd</th>\n",
       "      <th>company_type_unknown</th>\n",
       "      <th>training_hours_experience</th>\n",
       "      <th>last_job_experience</th>\n",
       "      <th>last_job_city</th>\n",
       "      <th>training_hours_city</th>\n",
       "    </tr>\n",
       "  </thead>\n",
       "  <tbody>\n",
       "    <tr>\n",
       "      <th>14360</th>\n",
       "      <td>0.738919</td>\n",
       "      <td>-0.772050</td>\n",
       "      <td>0.530812</td>\n",
       "      <td>0.013022</td>\n",
       "      <td>1.00000</td>\n",
       "      <td>0.0</td>\n",
       "      <td>1.0</td>\n",
       "      <td>0.0</td>\n",
       "      <td>0.0</td>\n",
       "      <td>0.0</td>\n",
       "      <td>...</td>\n",
       "      <td>0.0</td>\n",
       "      <td>0.0</td>\n",
       "      <td>0.0</td>\n",
       "      <td>0.0</td>\n",
       "      <td>1.0</td>\n",
       "      <td>0.0</td>\n",
       "      <td>-0.409813</td>\n",
       "      <td>1.289113</td>\n",
       "      <td>0.009622</td>\n",
       "      <td>-0.570482</td>\n",
       "    </tr>\n",
       "    <tr>\n",
       "      <th>4467</th>\n",
       "      <td>-2.025381</td>\n",
       "      <td>-0.755399</td>\n",
       "      <td>-0.731859</td>\n",
       "      <td>0.013022</td>\n",
       "      <td>0.00000</td>\n",
       "      <td>0.0</td>\n",
       "      <td>1.0</td>\n",
       "      <td>0.0</td>\n",
       "      <td>0.0</td>\n",
       "      <td>0.0</td>\n",
       "      <td>...</td>\n",
       "      <td>1.0</td>\n",
       "      <td>0.0</td>\n",
       "      <td>0.0</td>\n",
       "      <td>0.0</td>\n",
       "      <td>0.0</td>\n",
       "      <td>0.0</td>\n",
       "      <td>0.552845</td>\n",
       "      <td>-1.808197</td>\n",
       "      <td>-0.026375</td>\n",
       "      <td>1.529970</td>\n",
       "    </tr>\n",
       "    <tr>\n",
       "      <th>18014</th>\n",
       "      <td>-1.660590</td>\n",
       "      <td>0.609973</td>\n",
       "      <td>-0.731859</td>\n",
       "      <td>-0.588135</td>\n",
       "      <td>0.00000</td>\n",
       "      <td>0.0</td>\n",
       "      <td>1.0</td>\n",
       "      <td>0.0</td>\n",
       "      <td>0.0</td>\n",
       "      <td>1.0</td>\n",
       "      <td>...</td>\n",
       "      <td>0.0</td>\n",
       "      <td>0.0</td>\n",
       "      <td>0.0</td>\n",
       "      <td>0.0</td>\n",
       "      <td>1.0</td>\n",
       "      <td>0.0</td>\n",
       "      <td>-0.446414</td>\n",
       "      <td>0.026789</td>\n",
       "      <td>0.976651</td>\n",
       "      <td>-1.012916</td>\n",
       "    </tr>\n",
       "    <tr>\n",
       "      <th>18178</th>\n",
       "      <td>0.657855</td>\n",
       "      <td>1.642328</td>\n",
       "      <td>-0.984393</td>\n",
       "      <td>-0.588135</td>\n",
       "      <td>0.00000</td>\n",
       "      <td>0.0</td>\n",
       "      <td>0.0</td>\n",
       "      <td>0.0</td>\n",
       "      <td>0.0</td>\n",
       "      <td>0.0</td>\n",
       "      <td>...</td>\n",
       "      <td>0.0</td>\n",
       "      <td>0.0</td>\n",
       "      <td>0.0</td>\n",
       "      <td>0.0</td>\n",
       "      <td>1.0</td>\n",
       "      <td>0.0</td>\n",
       "      <td>-1.616696</td>\n",
       "      <td>0.040505</td>\n",
       "      <td>-0.386907</td>\n",
       "      <td>1.080413</td>\n",
       "    </tr>\n",
       "    <tr>\n",
       "      <th>7086</th>\n",
       "      <td>0.657855</td>\n",
       "      <td>0.010542</td>\n",
       "      <td>1.793483</td>\n",
       "      <td>1.816493</td>\n",
       "      <td>0.00000</td>\n",
       "      <td>0.0</td>\n",
       "      <td>1.0</td>\n",
       "      <td>0.0</td>\n",
       "      <td>0.0</td>\n",
       "      <td>1.0</td>\n",
       "      <td>...</td>\n",
       "      <td>0.0</td>\n",
       "      <td>0.0</td>\n",
       "      <td>0.0</td>\n",
       "      <td>0.0</td>\n",
       "      <td>1.0</td>\n",
       "      <td>0.0</td>\n",
       "      <td>0.018906</td>\n",
       "      <td>0.018579</td>\n",
       "      <td>1.194989</td>\n",
       "      <td>0.006935</td>\n",
       "    </tr>\n",
       "    <tr>\n",
       "      <th>...</th>\n",
       "      <td>...</td>\n",
       "      <td>...</td>\n",
       "      <td>...</td>\n",
       "      <td>...</td>\n",
       "      <td>...</td>\n",
       "      <td>...</td>\n",
       "      <td>...</td>\n",
       "      <td>...</td>\n",
       "      <td>...</td>\n",
       "      <td>...</td>\n",
       "      <td>...</td>\n",
       "      <td>...</td>\n",
       "      <td>...</td>\n",
       "      <td>...</td>\n",
       "      <td>...</td>\n",
       "      <td>...</td>\n",
       "      <td>...</td>\n",
       "      <td>...</td>\n",
       "      <td>...</td>\n",
       "      <td>...</td>\n",
       "      <td>...</td>\n",
       "    </tr>\n",
       "    <tr>\n",
       "      <th>18898</th>\n",
       "      <td>0.738919</td>\n",
       "      <td>-0.988511</td>\n",
       "      <td>0.530812</td>\n",
       "      <td>1.816493</td>\n",
       "      <td>0.00000</td>\n",
       "      <td>0.0</td>\n",
       "      <td>1.0</td>\n",
       "      <td>0.0</td>\n",
       "      <td>0.0</td>\n",
       "      <td>1.0</td>\n",
       "      <td>...</td>\n",
       "      <td>0.0</td>\n",
       "      <td>0.0</td>\n",
       "      <td>0.0</td>\n",
       "      <td>0.0</td>\n",
       "      <td>1.0</td>\n",
       "      <td>0.0</td>\n",
       "      <td>-0.524714</td>\n",
       "      <td>-0.003626</td>\n",
       "      <td>1.342242</td>\n",
       "      <td>-0.730430</td>\n",
       "    </tr>\n",
       "    <tr>\n",
       "      <th>11798</th>\n",
       "      <td>0.738919</td>\n",
       "      <td>0.909689</td>\n",
       "      <td>1.793483</td>\n",
       "      <td>1.215336</td>\n",
       "      <td>0.00000</td>\n",
       "      <td>0.0</td>\n",
       "      <td>1.0</td>\n",
       "      <td>0.0</td>\n",
       "      <td>0.0</td>\n",
       "      <td>0.0</td>\n",
       "      <td>...</td>\n",
       "      <td>0.0</td>\n",
       "      <td>0.0</td>\n",
       "      <td>0.0</td>\n",
       "      <td>0.0</td>\n",
       "      <td>0.0</td>\n",
       "      <td>1.0</td>\n",
       "      <td>1.631512</td>\n",
       "      <td>0.034179</td>\n",
       "      <td>0.898035</td>\n",
       "      <td>0.672187</td>\n",
       "    </tr>\n",
       "    <tr>\n",
       "      <th>6637</th>\n",
       "      <td>0.738919</td>\n",
       "      <td>-0.289174</td>\n",
       "      <td>-0.479325</td>\n",
       "      <td>0.013022</td>\n",
       "      <td>1.00000</td>\n",
       "      <td>0.0</td>\n",
       "      <td>1.0</td>\n",
       "      <td>0.0</td>\n",
       "      <td>0.0</td>\n",
       "      <td>0.0</td>\n",
       "      <td>...</td>\n",
       "      <td>0.0</td>\n",
       "      <td>0.0</td>\n",
       "      <td>0.0</td>\n",
       "      <td>1.0</td>\n",
       "      <td>0.0</td>\n",
       "      <td>0.0</td>\n",
       "      <td>0.138608</td>\n",
       "      <td>-1.188735</td>\n",
       "      <td>0.009622</td>\n",
       "      <td>-0.213676</td>\n",
       "    </tr>\n",
       "    <tr>\n",
       "      <th>2575</th>\n",
       "      <td>0.657855</td>\n",
       "      <td>0.143749</td>\n",
       "      <td>-0.858126</td>\n",
       "      <td>-0.588135</td>\n",
       "      <td>0.00000</td>\n",
       "      <td>0.0</td>\n",
       "      <td>1.0</td>\n",
       "      <td>0.0</td>\n",
       "      <td>0.0</td>\n",
       "      <td>1.0</td>\n",
       "      <td>...</td>\n",
       "      <td>1.0</td>\n",
       "      <td>0.0</td>\n",
       "      <td>0.0</td>\n",
       "      <td>0.0</td>\n",
       "      <td>0.0</td>\n",
       "      <td>0.0</td>\n",
       "      <td>-0.123355</td>\n",
       "      <td>0.033647</td>\n",
       "      <td>-0.386907</td>\n",
       "      <td>0.094566</td>\n",
       "    </tr>\n",
       "    <tr>\n",
       "      <th>23720</th>\n",
       "      <td>-1.660590</td>\n",
       "      <td>-0.180388</td>\n",
       "      <td>-0.858126</td>\n",
       "      <td>-1.189292</td>\n",
       "      <td>0.56111</td>\n",
       "      <td>0.0</td>\n",
       "      <td>1.0</td>\n",
       "      <td>0.0</td>\n",
       "      <td>1.0</td>\n",
       "      <td>0.0</td>\n",
       "      <td>...</td>\n",
       "      <td>0.0</td>\n",
       "      <td>0.0</td>\n",
       "      <td>0.0</td>\n",
       "      <td>0.0</td>\n",
       "      <td>0.0</td>\n",
       "      <td>1.0</td>\n",
       "      <td>0.154796</td>\n",
       "      <td>0.010089</td>\n",
       "      <td>1.974927</td>\n",
       "      <td>0.299550</td>\n",
       "    </tr>\n",
       "  </tbody>\n",
       "</table>\n",
       "<p>21627 rows × 36 columns</p>\n",
       "</div>"
      ],
      "text/plain": [
       "       city_development_index  training_hours  experience  last_new_job  \\\n",
       "14360                0.738919       -0.772050    0.530812      0.013022   \n",
       "4467                -2.025381       -0.755399   -0.731859      0.013022   \n",
       "18014               -1.660590        0.609973   -0.731859     -0.588135   \n",
       "18178                0.657855        1.642328   -0.984393     -0.588135   \n",
       "7086                 0.657855        0.010542    1.793483      1.816493   \n",
       "...                       ...             ...         ...           ...   \n",
       "18898                0.738919       -0.988511    0.530812      1.816493   \n",
       "11798                0.738919        0.909689    1.793483      1.215336   \n",
       "6637                 0.738919       -0.289174   -0.479325      0.013022   \n",
       "2575                 0.657855        0.143749   -0.858126     -0.588135   \n",
       "23720               -1.660590       -0.180388   -0.858126     -1.189292   \n",
       "\n",
       "       relevent_experience_No relevent experience  \\\n",
       "14360                                     1.00000   \n",
       "4467                                      0.00000   \n",
       "18014                                     0.00000   \n",
       "18178                                     0.00000   \n",
       "7086                                      0.00000   \n",
       "...                                           ...   \n",
       "18898                                     0.00000   \n",
       "11798                                     0.00000   \n",
       "6637                                      1.00000   \n",
       "2575                                      0.00000   \n",
       "23720                                     0.56111   \n",
       "\n",
       "       enrolled_university_Part time course  \\\n",
       "14360                                   0.0   \n",
       "4467                                    0.0   \n",
       "18014                                   0.0   \n",
       "18178                                   0.0   \n",
       "7086                                    0.0   \n",
       "...                                     ...   \n",
       "18898                                   0.0   \n",
       "11798                                   0.0   \n",
       "6637                                    0.0   \n",
       "2575                                    0.0   \n",
       "23720                                   0.0   \n",
       "\n",
       "       enrolled_university_no_enrollment  enrolled_university_unknown  \\\n",
       "14360                                1.0                          0.0   \n",
       "4467                                 1.0                          0.0   \n",
       "18014                                1.0                          0.0   \n",
       "18178                                0.0                          0.0   \n",
       "7086                                 1.0                          0.0   \n",
       "...                                  ...                          ...   \n",
       "18898                                1.0                          0.0   \n",
       "11798                                1.0                          0.0   \n",
       "6637                                 1.0                          0.0   \n",
       "2575                                 1.0                          0.0   \n",
       "23720                                1.0                          0.0   \n",
       "\n",
       "       education_level_High School  education_level_Masters  ...  \\\n",
       "14360                          0.0                      0.0  ...   \n",
       "4467                           0.0                      0.0  ...   \n",
       "18014                          0.0                      1.0  ...   \n",
       "18178                          0.0                      0.0  ...   \n",
       "7086                           0.0                      1.0  ...   \n",
       "...                            ...                      ...  ...   \n",
       "18898                          0.0                      1.0  ...   \n",
       "11798                          0.0                      0.0  ...   \n",
       "6637                           0.0                      0.0  ...   \n",
       "2575                           0.0                      1.0  ...   \n",
       "23720                          1.0                      0.0  ...   \n",
       "\n",
       "       company_type_Funded Startup  company_type_NGO  company_type_Other  \\\n",
       "14360                          0.0               0.0                 0.0   \n",
       "4467                           1.0               0.0                 0.0   \n",
       "18014                          0.0               0.0                 0.0   \n",
       "18178                          0.0               0.0                 0.0   \n",
       "7086                           0.0               0.0                 0.0   \n",
       "...                            ...               ...                 ...   \n",
       "18898                          0.0               0.0                 0.0   \n",
       "11798                          0.0               0.0                 0.0   \n",
       "6637                           0.0               0.0                 0.0   \n",
       "2575                           1.0               0.0                 0.0   \n",
       "23720                          0.0               0.0                 0.0   \n",
       "\n",
       "       company_type_Public Sector  company_type_Pvt Ltd  company_type_unknown  \\\n",
       "14360                         0.0                   1.0                   0.0   \n",
       "4467                          0.0                   0.0                   0.0   \n",
       "18014                         0.0                   1.0                   0.0   \n",
       "18178                         0.0                   1.0                   0.0   \n",
       "7086                          0.0                   1.0                   0.0   \n",
       "...                           ...                   ...                   ...   \n",
       "18898                         0.0                   1.0                   0.0   \n",
       "11798                         0.0                   0.0                   1.0   \n",
       "6637                          1.0                   0.0                   0.0   \n",
       "2575                          0.0                   0.0                   0.0   \n",
       "23720                         0.0                   0.0                   1.0   \n",
       "\n",
       "       training_hours_experience  last_job_experience  last_job_city  \\\n",
       "14360                  -0.409813             1.289113       0.009622   \n",
       "4467                    0.552845            -1.808197      -0.026375   \n",
       "18014                  -0.446414             0.026789       0.976651   \n",
       "18178                  -1.616696             0.040505      -0.386907   \n",
       "7086                    0.018906             0.018579       1.194989   \n",
       "...                          ...                  ...            ...   \n",
       "18898                  -0.524714            -0.003626       1.342242   \n",
       "11798                   1.631512             0.034179       0.898035   \n",
       "6637                    0.138608            -1.188735       0.009622   \n",
       "2575                   -0.123355             0.033647      -0.386907   \n",
       "23720                   0.154796             0.010089       1.974927   \n",
       "\n",
       "       training_hours_city  \n",
       "14360            -0.570482  \n",
       "4467              1.529970  \n",
       "18014            -1.012916  \n",
       "18178             1.080413  \n",
       "7086              0.006935  \n",
       "...                    ...  \n",
       "18898            -0.730430  \n",
       "11798             0.672187  \n",
       "6637             -0.213676  \n",
       "2575              0.094566  \n",
       "23720             0.299550  \n",
       "\n",
       "[21627 rows x 36 columns]"
      ]
     },
     "execution_count": 43,
     "metadata": {},
     "output_type": "execute_result"
    }
   ],
   "source": [
    "X_train"
   ]
  },
  {
   "cell_type": "code",
   "execution_count": 44,
   "metadata": {},
   "outputs": [
    {
     "data": {
      "text/html": [
       "<div>\n",
       "<style scoped>\n",
       "    .dataframe tbody tr th:only-of-type {\n",
       "        vertical-align: middle;\n",
       "    }\n",
       "\n",
       "    .dataframe tbody tr th {\n",
       "        vertical-align: top;\n",
       "    }\n",
       "\n",
       "    .dataframe thead th {\n",
       "        text-align: right;\n",
       "    }\n",
       "</style>\n",
       "<table border=\"1\" class=\"dataframe\">\n",
       "  <thead>\n",
       "    <tr style=\"text-align: right;\">\n",
       "      <th></th>\n",
       "      <th>Predict-not changing (0)</th>\n",
       "      <th>Predict-change (1)</th>\n",
       "    </tr>\n",
       "  </thead>\n",
       "  <tbody>\n",
       "    <tr>\n",
       "      <th>Not changing (0)</th>\n",
       "      <td>1094</td>\n",
       "      <td>459</td>\n",
       "    </tr>\n",
       "    <tr>\n",
       "      <th>Changing (1)</th>\n",
       "      <td>151</td>\n",
       "      <td>425</td>\n",
       "    </tr>\n",
       "  </tbody>\n",
       "</table>\n",
       "</div>"
      ],
      "text/plain": [
       "                  Predict-not changing (0)  Predict-change (1)\n",
       "Not changing (0)                      1094                 459\n",
       "Changing (1)                           151                 425"
      ]
     },
     "execution_count": 44,
     "metadata": {},
     "output_type": "execute_result"
    }
   ],
   "source": [
    "lm = LogisticRegression(solver='newton-cg',  # For comparison, use the same solver as statsmodels default\n",
    "                          C=100000)  # No regularization\n",
    "\n",
    "lm.fit(X_train, y_train)\n",
    "y_predict = lm.predict(X_test)\n",
    "pd.DataFrame(confusion_matrix(y_test, y_predict),\\\n",
    "             columns=['Predict-not changing (0)','Predict-change (1)'],\\\n",
    "            index=['Not changing (0)','Changing (1)'])"
   ]
  },
  {
   "cell_type": "code",
   "execution_count": 45,
   "metadata": {},
   "outputs": [
    {
     "data": {
      "text/html": [
       "<div>\n",
       "<style scoped>\n",
       "    .dataframe tbody tr th:only-of-type {\n",
       "        vertical-align: middle;\n",
       "    }\n",
       "\n",
       "    .dataframe tbody tr th {\n",
       "        vertical-align: top;\n",
       "    }\n",
       "\n",
       "    .dataframe thead th {\n",
       "        text-align: right;\n",
       "    }\n",
       "</style>\n",
       "<table border=\"1\" class=\"dataframe\">\n",
       "  <thead>\n",
       "    <tr style=\"text-align: right;\">\n",
       "      <th></th>\n",
       "      <th>Predict-not changing (0)</th>\n",
       "      <th>Predict-change (1)</th>\n",
       "    </tr>\n",
       "  </thead>\n",
       "  <tbody>\n",
       "    <tr>\n",
       "      <th>Not changing (0)</th>\n",
       "      <td>1094</td>\n",
       "      <td>459</td>\n",
       "    </tr>\n",
       "    <tr>\n",
       "      <th>Changing (1)</th>\n",
       "      <td>151</td>\n",
       "      <td>425</td>\n",
       "    </tr>\n",
       "  </tbody>\n",
       "</table>\n",
       "</div>"
      ],
      "text/plain": [
       "                  Predict-not changing (0)  Predict-change (1)\n",
       "Not changing (0)                      1094                 459\n",
       "Changing (1)                           151                 425"
      ]
     },
     "execution_count": 45,
     "metadata": {},
     "output_type": "execute_result"
    }
   ],
   "source": [
    "lm = LogisticRegression(solver='newton-cg',  # For comparison, use the same solver as statsmodels default\n",
    "                          C=100000)  # No regularization\n",
    "\n",
    "lm.fit(X_train, y_train)\n",
    "y_predict = lm.predict(X_test)\n",
    "pd.DataFrame(confusion_matrix(y_test, y_predict),\\\n",
    "             columns=['Predict-not changing (0)','Predict-change (1)'],\\\n",
    "            index=['Not changing (0)','Changing (1)'])"
   ]
  },
  {
   "cell_type": "code",
   "execution_count": 46,
   "metadata": {},
   "outputs": [
    {
     "data": {
      "text/html": [
       "<div>\n",
       "<style scoped>\n",
       "    .dataframe tbody tr th:only-of-type {\n",
       "        vertical-align: middle;\n",
       "    }\n",
       "\n",
       "    .dataframe tbody tr th {\n",
       "        vertical-align: top;\n",
       "    }\n",
       "\n",
       "    .dataframe thead th {\n",
       "        text-align: right;\n",
       "    }\n",
       "</style>\n",
       "<table border=\"1\" class=\"dataframe\">\n",
       "  <thead>\n",
       "    <tr style=\"text-align: right;\">\n",
       "      <th></th>\n",
       "      <th>Predict-not changing (0)</th>\n",
       "      <th>Predict-change (1)</th>\n",
       "    </tr>\n",
       "  </thead>\n",
       "  <tbody>\n",
       "    <tr>\n",
       "      <th>Not changing (0)</th>\n",
       "      <td>1094</td>\n",
       "      <td>459</td>\n",
       "    </tr>\n",
       "    <tr>\n",
       "      <th>Changing (1)</th>\n",
       "      <td>151</td>\n",
       "      <td>425</td>\n",
       "    </tr>\n",
       "  </tbody>\n",
       "</table>\n",
       "</div>"
      ],
      "text/plain": [
       "                  Predict-not changing (0)  Predict-change (1)\n",
       "Not changing (0)                      1094                 459\n",
       "Changing (1)                           151                 425"
      ]
     },
     "execution_count": 46,
     "metadata": {},
     "output_type": "execute_result"
    }
   ],
   "source": [
    "lm = LogisticRegression(solver='newton-cg',  # For comparison, use the same solver as statsmodels default\n",
    "                          C=100000)  # No regularization\n",
    "\n",
    "lm.fit(X_train, y_train)\n",
    "y_predict = lm.predict(X_test)\n",
    "pd.DataFrame(confusion_matrix(y_test, y_predict),\\\n",
    "             columns=['Predict-not changing (0)','Predict-change (1)'],\\\n",
    "            index=['Not changing (0)','Changing (1)'])"
   ]
  },
  {
   "cell_type": "code",
   "execution_count": 47,
   "metadata": {},
   "outputs": [
    {
     "data": {
      "text/html": [
       "<div>\n",
       "<style scoped>\n",
       "    .dataframe tbody tr th:only-of-type {\n",
       "        vertical-align: middle;\n",
       "    }\n",
       "\n",
       "    .dataframe tbody tr th {\n",
       "        vertical-align: top;\n",
       "    }\n",
       "\n",
       "    .dataframe thead th {\n",
       "        text-align: right;\n",
       "    }\n",
       "</style>\n",
       "<table border=\"1\" class=\"dataframe\">\n",
       "  <thead>\n",
       "    <tr style=\"text-align: right;\">\n",
       "      <th></th>\n",
       "      <th>Predict-not changing (0)</th>\n",
       "      <th>Predict-change (1)</th>\n",
       "    </tr>\n",
       "  </thead>\n",
       "  <tbody>\n",
       "    <tr>\n",
       "      <th>Not changing (0)</th>\n",
       "      <td>1094</td>\n",
       "      <td>459</td>\n",
       "    </tr>\n",
       "    <tr>\n",
       "      <th>Changing (1)</th>\n",
       "      <td>151</td>\n",
       "      <td>425</td>\n",
       "    </tr>\n",
       "  </tbody>\n",
       "</table>\n",
       "</div>"
      ],
      "text/plain": [
       "                  Predict-not changing (0)  Predict-change (1)\n",
       "Not changing (0)                      1094                 459\n",
       "Changing (1)                           151                 425"
      ]
     },
     "execution_count": 47,
     "metadata": {},
     "output_type": "execute_result"
    }
   ],
   "source": [
    "lm = LogisticRegression(solver='newton-cg',  # For comparison, use the same solver as statsmodels default\n",
    "                          C=100000)  # No regularization\n",
    "\n",
    "lm.fit(X_train, y_train)\n",
    "y_predict = lm.predict(X_test)\n",
    "pd.DataFrame(confusion_matrix(y_test, y_predict),\\\n",
    "             columns=['Predict-not changing (0)','Predict-change (1)'],\\\n",
    "            index=['Not changing (0)','Changing (1)'])"
   ]
  },
  {
   "cell_type": "code",
   "execution_count": 48,
   "metadata": {},
   "outputs": [],
   "source": [
    "# Interaction terms do not improve the model"
   ]
  },
  {
   "cell_type": "code",
   "execution_count": null,
   "metadata": {},
   "outputs": [],
   "source": []
  },
  {
   "cell_type": "markdown",
   "metadata": {},
   "source": [
    "### 2. KNN"
   ]
  },
  {
   "cell_type": "code",
   "execution_count": 49,
   "metadata": {},
   "outputs": [],
   "source": [
    "# Reload data (after train test split for feature engineering)\n",
    "# All variables (continuous + categorical)\n",
    "X_train = pd.read_pickle('../dump/X_adasyn')\n",
    "y_train = pd.read_pickle('../dump/y_adasyn')\n",
    "X_test = pd.read_pickle('../dump/X_test_processed')\n",
    "y_test = df_test['target']"
   ]
  },
  {
   "cell_type": "code",
   "execution_count": 50,
   "metadata": {},
   "outputs": [
    {
     "name": "stdout",
     "output_type": "stream",
     "text": [
      "Accuracy score: 0.6594645373414749\n",
      "ROC AUC score: 0.6754333011375833 \n",
      "\n",
      "Classification report (kNN, n=3):\n",
      "\n",
      "               precision    recall  f1-score   support\n",
      "\n",
      "           0       0.82      0.68      0.74      1553\n",
      "           1       0.41      0.60      0.49       576\n",
      "\n",
      "    accuracy                           0.66      2129\n",
      "   macro avg       0.62      0.64      0.62      2129\n",
      "weighted avg       0.71      0.66      0.68      2129\n",
      "\n"
     ]
    }
   ],
   "source": [
    "from sklearn.neighbors import KNeighborsClassifier\n",
    "\n",
    "knn_3 = KNeighborsClassifier(n_neighbors=3)\n",
    "knn_3.fit(X_train,y_train)\n",
    "pred = knn_3.predict(X_test)\n",
    "\n",
    "print('Accuracy score:',accuracy_score(y_test,pred))\n",
    "print('ROC AUC score:',roc_auc_score(y_test,knn_3.predict_proba(X_test)[:, 1]),'\\n')\n",
    "print('Classification report (kNN, n=3):\\n\\n',classification_report(y_test,pred))"
   ]
  },
  {
   "cell_type": "code",
   "execution_count": 51,
   "metadata": {},
   "outputs": [
    {
     "name": "stdout",
     "output_type": "stream",
     "text": [
      "Accuracy score: 0.6491310474401127\n",
      "ROC AUC score: 0.6898381045646419 \n",
      "\n",
      "Classification report (kNN, n=5):\n",
      "\n",
      "               precision    recall  f1-score   support\n",
      "\n",
      "           0       0.84      0.64      0.73      1553\n",
      "           1       0.41      0.67      0.51       576\n",
      "\n",
      "    accuracy                           0.65      2129\n",
      "   macro avg       0.62      0.66      0.62      2129\n",
      "weighted avg       0.72      0.65      0.67      2129\n",
      "\n"
     ]
    }
   ],
   "source": [
    "knn_5 = KNeighborsClassifier(n_neighbors=5)\n",
    "knn_5.fit(X_train,y_train)\n",
    "pred = knn_5.predict(X_test)\n",
    "\n",
    "print('Accuracy score:',accuracy_score(y_test,pred))\n",
    "print('ROC AUC score:',roc_auc_score(y_test,knn_5.predict_proba(X_test)[:, 1]),'\\n')\n",
    "print('Classification report (kNN, n=5):\\n\\n',classification_report(y_test,pred))"
   ]
  },
  {
   "cell_type": "code",
   "execution_count": 52,
   "metadata": {},
   "outputs": [
    {
     "data": {
      "image/png": "[encoded data removed]",
      "text/plain": [
       "<Figure size 432x288 with 1 Axes>"
      ]
     },
     "metadata": {},
     "output_type": "display_data"
    }
   ],
   "source": [
    "# knn (n=3)\n",
    "y_scores = knn_3.predict_proba(X_test)\n",
    "fpr, tpr, threshold = roc_curve(y_test, y_scores[:, 1])\n",
    "roc_auc = auc(fpr, tpr)\n",
    "plt.plot(fpr, tpr, 'b', label = 'AUC_knn3 = %0.3f' % roc_auc)\n",
    "\n",
    "# knn (n=5)\n",
    "y_scores = knn_5.predict_proba(X_test)\n",
    "fpr, tpr, threshold = roc_curve(y_test, y_scores[:, 1])\n",
    "roc_auc = auc(fpr, tpr)\n",
    "plt.plot(fpr, tpr, 'g', label = 'AUC_knn5 = %0.3f' % roc_auc)\n",
    "\n",
    "plt.legend(loc = 'lower right')\n",
    "plt.plot([0, 1], [0, 1],'r--')\n",
    "plt.xlim([0, 1])\n",
    "plt.ylim([0, 1])\n",
    "plt.ylabel('True Positive Rate')\n",
    "plt.xlabel('False Positive Rate')\n",
    "plt.title('ROC Curve of kNN')\n",
    "plt.show()"
   ]
  },
  {
   "cell_type": "code",
   "execution_count": null,
   "metadata": {},
   "outputs": [],
   "source": []
  },
  {
   "cell_type": "markdown",
   "metadata": {},
   "source": [
    "### 3. Naive Bayes"
   ]
  },
  {
   "cell_type": "code",
   "execution_count": 53,
   "metadata": {},
   "outputs": [
    {
     "name": "stdout",
     "output_type": "stream",
     "text": [
      "Accuracy score: 0.5589478628464067\n",
      "ROC AUC score: 0.6866291496744652 \n",
      "\n",
      "Classification report (Naive Bayes):\n",
      "\n",
      "               precision    recall  f1-score   support\n",
      "\n",
      "           0       0.84      0.48      0.62      1553\n",
      "           1       0.35      0.76      0.48       576\n",
      "\n",
      "    accuracy                           0.56      2129\n",
      "   macro avg       0.60      0.62      0.55      2129\n",
      "weighted avg       0.71      0.56      0.58      2129\n",
      "\n"
     ]
    }
   ],
   "source": [
    "nb = GaussianNB()\n",
    "nb.fit(X_train,y_train)\n",
    "pred = nb.predict(X_test)\n",
    "print('Accuracy score:',accuracy_score(y_test,pred))\n",
    "print('ROC AUC score:',roc_auc_score(y_test,nb.predict_proba(X_test)[:, 1]),'\\n')\n",
    "print('Classification report (Naive Bayes):\\n\\n',classification_report(y_test,pred))"
   ]
  },
  {
   "cell_type": "code",
   "execution_count": 54,
   "metadata": {},
   "outputs": [
    {
     "data": {
      "image/png": "[encoded data removed]",
      "text/plain": [
       "<Figure size 432x288 with 1 Axes>"
      ]
     },
     "metadata": {},
     "output_type": "display_data"
    }
   ],
   "source": [
    "# Naive Bayes ROC curve\n",
    "y_scores = nb.predict_proba(X_test)\n",
    "fpr, tpr, threshold = roc_curve(y_test, y_scores[:, 1])\n",
    "roc_auc = auc(fpr, tpr)\n",
    "plt.plot(fpr, tpr, 'b', label = 'AUC_nb = %0.3f' % roc_auc)\n",
    "\n",
    "plt.legend(loc = 'lower right')\n",
    "plt.plot([0, 1], [0, 1],'r--')\n",
    "plt.xlim([0, 1])\n",
    "plt.ylim([0, 1])\n",
    "plt.ylabel('True Positive Rate')\n",
    "plt.xlabel('False Positive Rate')\n",
    "plt.title('ROC Curve of Naive Bayes')\n",
    "plt.show()"
   ]
  },
  {
   "cell_type": "code",
   "execution_count": 55,
   "metadata": {},
   "outputs": [],
   "source": [
    "# Compared to baseline version, Naive Bayes has higher recall but lower precision."
   ]
  },
  {
   "cell_type": "code",
   "execution_count": null,
   "metadata": {},
   "outputs": [],
   "source": []
  }
 ],
 "metadata": {
  "kernelspec": {
   "display_name": "Python 3",
   "language": "python",
   "name": "python3"
  },
  "language_info": {
   "codemirror_mode": {
    "name": "ipython",
    "version": 3
   },
   "file_extension": ".py",
   "mimetype": "text/x-python",
   "name": "python",
   "nbconvert_exporter": "python",
   "pygments_lexer": "ipython3",
   "version": "3.8.5"
  }
 },
 "nbformat": 4,
 "nbformat_minor": 4
}
