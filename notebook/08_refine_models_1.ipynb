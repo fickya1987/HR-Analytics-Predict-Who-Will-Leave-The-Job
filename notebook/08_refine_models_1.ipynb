{
 "cells": [
  {
   "cell_type": "code",
   "execution_count": null,
   "metadata": {},
   "outputs": [],
   "source": [
    "\"\"\"\n",
    "Use all variables (continuous, categorical) as features\n",
    "Use X_adasyn and y_adasyn as train data (imbalanced classes handled)\n",
    "\n",
    "Refine models:\n",
    "\n",
    "1. Logistic Regression\n",
    "    - Grid search CV: solver, penalty, C\n",
    "    - Adjust threshold: compared to baseline model with 0.41 precision, recall has improved from 61% to 82%!\n",
    "    \n",
    "2. kNN\n",
    "    - Feature engineering\n",
    "    - Tune hyperparameters (grid search)\n",
    "    \n",
    "3. Naive Bayes\n",
    "    - Higher recall but lower precision.\n",
    "\n",
    "\n",
    "Conclusion:\n",
    "ROC AUC highest - Logistic regression\n",
    "Recall highest - Naive Bayes (65%)\n",
    "\n",
    "\"\"\""
   ]
  },
  {
   "cell_type": "code",
   "execution_count": 27,
   "metadata": {},
   "outputs": [],
   "source": [
    "import pandas as pd\n",
    "import numpy as np\n",
    "import matplotlib.pyplot as plt\n",
    "import seaborn as sns\n",
    "\n",
    "from collections import Counter\n",
    "\n",
    "from sklearn.model_selection import train_test_split\n",
    "from sklearn.linear_model import LogisticRegression\n",
    "from sklearn.preprocessing import StandardScaler, PolynomialFeatures, OneHotEncoder\n",
    "from sklearn.metrics import confusion_matrix, accuracy_score, classification_report\n",
    "from sklearn.metrics import roc_curve, auc, roc_auc_score\n",
    "from sklearn.metrics import precision_score, recall_score, precision_recall_curve,f1_score, fbeta_score, log_loss\n",
    "\n",
    "from sklearn.neighbors import KNeighborsClassifier\n",
    "from sklearn.naive_bayes import GaussianNB"
   ]
  },
  {
   "cell_type": "code",
   "execution_count": 45,
   "metadata": {},
   "outputs": [],
   "source": [
    "# Load data\n",
    "# All variables (continuous + categorical)\n",
    "df_train = pd.read_pickle('../dump/df_train.csv')\n",
    "df_test = pd.read_pickle('../dump/df_test.csv')\n",
    "\n",
    "\n",
    "X_train = pd.read_pickle('../dump/X_adasyn')\n",
    "y_train = pd.read_pickle('../dump/y_adasyn')\n",
    "X_test = pd.read_pickle('../dump/X_test_processed')\n",
    "y_test = df_test['target']"
   ]
  },
  {
   "cell_type": "code",
   "execution_count": 12,
   "metadata": {},
   "outputs": [
    {
     "data": {
      "text/plain": [
       "((19158, 14), (28836, 32))"
      ]
     },
     "execution_count": 12,
     "metadata": {},
     "output_type": "execute_result"
    }
   ],
   "source": [
    "df_train.shape, X_train.shape"
   ]
  },
  {
   "cell_type": "code",
   "execution_count": 15,
   "metadata": {},
   "outputs": [
    {
     "data": {
      "text/plain": [
       "Counter({1: 14455, 0: 14381})"
      ]
     },
     "execution_count": 15,
     "metadata": {},
     "output_type": "execute_result"
    }
   ],
   "source": [
    "Counter(y_train)"
   ]
  },
  {
   "cell_type": "code",
   "execution_count": 32,
   "metadata": {},
   "outputs": [
    {
     "data": {
      "text/html": [
       "<div>\n",
       "<style scoped>\n",
       "    .dataframe tbody tr th:only-of-type {\n",
       "        vertical-align: middle;\n",
       "    }\n",
       "\n",
       "    .dataframe tbody tr th {\n",
       "        vertical-align: top;\n",
       "    }\n",
       "\n",
       "    .dataframe thead th {\n",
       "        text-align: right;\n",
       "    }\n",
       "</style>\n",
       "<table border=\"1\" class=\"dataframe\">\n",
       "  <thead>\n",
       "    <tr style=\"text-align: right;\">\n",
       "      <th></th>\n",
       "      <th>city_development_index</th>\n",
       "      <th>training_hours</th>\n",
       "      <th>experience</th>\n",
       "      <th>last_new_job</th>\n",
       "    </tr>\n",
       "  </thead>\n",
       "  <tbody>\n",
       "    <tr>\n",
       "      <th>14360</th>\n",
       "      <td>0.738919</td>\n",
       "      <td>-0.772050</td>\n",
       "      <td>0.530812</td>\n",
       "      <td>0.013022</td>\n",
       "    </tr>\n",
       "    <tr>\n",
       "      <th>4467</th>\n",
       "      <td>-2.025381</td>\n",
       "      <td>-0.755399</td>\n",
       "      <td>-0.731859</td>\n",
       "      <td>0.013022</td>\n",
       "    </tr>\n",
       "    <tr>\n",
       "      <th>18014</th>\n",
       "      <td>-1.660590</td>\n",
       "      <td>0.609973</td>\n",
       "      <td>-0.731859</td>\n",
       "      <td>-0.588135</td>\n",
       "    </tr>\n",
       "    <tr>\n",
       "      <th>18178</th>\n",
       "      <td>0.657855</td>\n",
       "      <td>1.642328</td>\n",
       "      <td>-0.984393</td>\n",
       "      <td>-0.588135</td>\n",
       "    </tr>\n",
       "    <tr>\n",
       "      <th>7086</th>\n",
       "      <td>0.657855</td>\n",
       "      <td>0.010542</td>\n",
       "      <td>1.793483</td>\n",
       "      <td>1.816493</td>\n",
       "    </tr>\n",
       "    <tr>\n",
       "      <th>...</th>\n",
       "      <td>...</td>\n",
       "      <td>...</td>\n",
       "      <td>...</td>\n",
       "      <td>...</td>\n",
       "    </tr>\n",
       "    <tr>\n",
       "      <th>18898</th>\n",
       "      <td>0.738919</td>\n",
       "      <td>-0.988511</td>\n",
       "      <td>0.530812</td>\n",
       "      <td>1.816493</td>\n",
       "    </tr>\n",
       "    <tr>\n",
       "      <th>11798</th>\n",
       "      <td>0.738919</td>\n",
       "      <td>0.909689</td>\n",
       "      <td>1.793483</td>\n",
       "      <td>1.215336</td>\n",
       "    </tr>\n",
       "    <tr>\n",
       "      <th>6637</th>\n",
       "      <td>0.738919</td>\n",
       "      <td>-0.289174</td>\n",
       "      <td>-0.479325</td>\n",
       "      <td>0.013022</td>\n",
       "    </tr>\n",
       "    <tr>\n",
       "      <th>2575</th>\n",
       "      <td>0.657855</td>\n",
       "      <td>0.143749</td>\n",
       "      <td>-0.858126</td>\n",
       "      <td>-0.588135</td>\n",
       "    </tr>\n",
       "    <tr>\n",
       "      <th>23720</th>\n",
       "      <td>-1.660590</td>\n",
       "      <td>-0.180388</td>\n",
       "      <td>-0.858126</td>\n",
       "      <td>-1.189292</td>\n",
       "    </tr>\n",
       "  </tbody>\n",
       "</table>\n",
       "<p>21627 rows × 4 columns</p>\n",
       "</div>"
      ],
      "text/plain": [
       "       city_development_index  training_hours  experience  last_new_job\n",
       "14360                0.738919       -0.772050    0.530812      0.013022\n",
       "4467                -2.025381       -0.755399   -0.731859      0.013022\n",
       "18014               -1.660590        0.609973   -0.731859     -0.588135\n",
       "18178                0.657855        1.642328   -0.984393     -0.588135\n",
       "7086                 0.657855        0.010542    1.793483      1.816493\n",
       "...                       ...             ...         ...           ...\n",
       "18898                0.738919       -0.988511    0.530812      1.816493\n",
       "11798                0.738919        0.909689    1.793483      1.215336\n",
       "6637                 0.738919       -0.289174   -0.479325      0.013022\n",
       "2575                 0.657855        0.143749   -0.858126     -0.588135\n",
       "23720               -1.660590       -0.180388   -0.858126     -1.189292\n",
       "\n",
       "[21627 rows x 4 columns]"
      ]
     },
     "execution_count": 32,
     "metadata": {},
     "output_type": "execute_result"
    }
   ],
   "source": [
    "X_train.iloc[:,:4]"
   ]
  },
  {
   "cell_type": "code",
   "execution_count": null,
   "metadata": {},
   "outputs": [],
   "source": []
  },
  {
   "cell_type": "markdown",
   "metadata": {},
   "source": [
    "### 1. Logistic Regression"
   ]
  },
  {
   "cell_type": "code",
   "execution_count": 111,
   "metadata": {},
   "outputs": [
    {
     "data": {
      "text/plain": [
       "LogisticRegression(C=100000, solver='newton-cg')"
      ]
     },
     "execution_count": 111,
     "metadata": {},
     "output_type": "execute_result"
    }
   ],
   "source": [
    "lm = LogisticRegression(solver='newton-cg',  # For comparison, use the same solver as statsmodels default\n",
    "                          C=100000)  # No regularization\n",
    "\n",
    "lm.fit(X_train, y_train)\n",
    "# print('intercept: ', round(lm.intercept_[0], 4))\n",
    "# pd.DataFrame(list(zip(cat_variables,np.transpose(lm.coef_))),columns=['Feature','Coef'])\\\n",
    "# .sort_values('Coef',ascending=False)"
   ]
  },
  {
   "cell_type": "code",
   "execution_count": 112,
   "metadata": {},
   "outputs": [
    {
     "data": {
      "text/html": [
       "<div>\n",
       "<style scoped>\n",
       "    .dataframe tbody tr th:only-of-type {\n",
       "        vertical-align: middle;\n",
       "    }\n",
       "\n",
       "    .dataframe tbody tr th {\n",
       "        vertical-align: top;\n",
       "    }\n",
       "\n",
       "    .dataframe thead th {\n",
       "        text-align: right;\n",
       "    }\n",
       "</style>\n",
       "<table border=\"1\" class=\"dataframe\">\n",
       "  <thead>\n",
       "    <tr style=\"text-align: right;\">\n",
       "      <th></th>\n",
       "      <th>Feature</th>\n",
       "      <th>Coefficient</th>\n",
       "    </tr>\n",
       "  </thead>\n",
       "  <tbody>\n",
       "    <tr>\n",
       "      <th>31</th>\n",
       "      <td>company_type_unknown</td>\n",
       "      <td>0.851339</td>\n",
       "    </tr>\n",
       "    <tr>\n",
       "      <th>29</th>\n",
       "      <td>company_type_Public Sector</td>\n",
       "      <td>0.375862</td>\n",
       "    </tr>\n",
       "    <tr>\n",
       "      <th>18</th>\n",
       "      <td>major_discipline_unknown</td>\n",
       "      <td>0.344082</td>\n",
       "    </tr>\n",
       "    <tr>\n",
       "      <th>28</th>\n",
       "      <td>company_type_Other</td>\n",
       "      <td>0.202447</td>\n",
       "    </tr>\n",
       "    <tr>\n",
       "      <th>4</th>\n",
       "      <td>relevent_experience_No relevent experience</td>\n",
       "      <td>0.159225</td>\n",
       "    </tr>\n",
       "    <tr>\n",
       "      <th>3</th>\n",
       "      <td>last_new_job</td>\n",
       "      <td>0.119331</td>\n",
       "    </tr>\n",
       "    <tr>\n",
       "      <th>34</th>\n",
       "      <td>last_job_city</td>\n",
       "      <td>0.040805</td>\n",
       "    </tr>\n",
       "    <tr>\n",
       "      <th>32</th>\n",
       "      <td>training_hours_experience</td>\n",
       "      <td>0.003910</td>\n",
       "    </tr>\n",
       "    <tr>\n",
       "      <th>33</th>\n",
       "      <td>last_job_experience</td>\n",
       "      <td>0.000156</td>\n",
       "    </tr>\n",
       "    <tr>\n",
       "      <th>30</th>\n",
       "      <td>company_type_Pvt Ltd</td>\n",
       "      <td>-0.008773</td>\n",
       "    </tr>\n",
       "  </tbody>\n",
       "</table>\n",
       "</div>"
      ],
      "text/plain": [
       "                                       Feature  Coefficient\n",
       "31                        company_type_unknown     0.851339\n",
       "29                  company_type_Public Sector     0.375862\n",
       "18                    major_discipline_unknown     0.344082\n",
       "28                          company_type_Other     0.202447\n",
       "4   relevent_experience_No relevent experience     0.159225\n",
       "3                                 last_new_job     0.119331\n",
       "34                               last_job_city     0.040805\n",
       "32                   training_hours_experience     0.003910\n",
       "33                         last_job_experience     0.000156\n",
       "30                        company_type_Pvt Ltd    -0.008773"
      ]
     },
     "execution_count": 112,
     "metadata": {},
     "output_type": "execute_result"
    }
   ],
   "source": [
    "# Coefficient for top features\n",
    "\n",
    "feature = X_train.columns\n",
    "coef = pd.DataFrame(list(zip((feature),lm.coef_[0])),columns = ['Feature','Coefficient']).\\\n",
    "sort_values(['Coefficient'],ascending=False)\n",
    "top_feature = coef.head(10)\n",
    "top_feature"
   ]
  },
  {
   "cell_type": "code",
   "execution_count": 113,
   "metadata": {},
   "outputs": [
    {
     "data": {
      "text/html": [
       "<div>\n",
       "<style scoped>\n",
       "    .dataframe tbody tr th:only-of-type {\n",
       "        vertical-align: middle;\n",
       "    }\n",
       "\n",
       "    .dataframe tbody tr th {\n",
       "        vertical-align: top;\n",
       "    }\n",
       "\n",
       "    .dataframe thead th {\n",
       "        text-align: right;\n",
       "    }\n",
       "</style>\n",
       "<table border=\"1\" class=\"dataframe\">\n",
       "  <thead>\n",
       "    <tr style=\"text-align: right;\">\n",
       "      <th></th>\n",
       "      <th>Feature</th>\n",
       "      <th>Coefficient</th>\n",
       "    </tr>\n",
       "  </thead>\n",
       "  <tbody>\n",
       "    <tr>\n",
       "      <th>24</th>\n",
       "      <td>company_size_5000-9999</td>\n",
       "      <td>-0.475402</td>\n",
       "    </tr>\n",
       "    <tr>\n",
       "      <th>25</th>\n",
       "      <td>company_size_&lt;10</td>\n",
       "      <td>-0.496889</td>\n",
       "    </tr>\n",
       "    <tr>\n",
       "      <th>15</th>\n",
       "      <td>major_discipline_No Major</td>\n",
       "      <td>-0.501393</td>\n",
       "    </tr>\n",
       "    <tr>\n",
       "      <th>16</th>\n",
       "      <td>major_discipline_Other</td>\n",
       "      <td>-0.507041</td>\n",
       "    </tr>\n",
       "    <tr>\n",
       "      <th>23</th>\n",
       "      <td>company_size_500-999</td>\n",
       "      <td>-0.532150</td>\n",
       "    </tr>\n",
       "    <tr>\n",
       "      <th>0</th>\n",
       "      <td>city_development_index</td>\n",
       "      <td>-0.551382</td>\n",
       "    </tr>\n",
       "    <tr>\n",
       "      <th>7</th>\n",
       "      <td>enrolled_university_unknown</td>\n",
       "      <td>-0.606558</td>\n",
       "    </tr>\n",
       "    <tr>\n",
       "      <th>8</th>\n",
       "      <td>education_level_High School</td>\n",
       "      <td>-1.191722</td>\n",
       "    </tr>\n",
       "    <tr>\n",
       "      <th>12</th>\n",
       "      <td>education_level_unknown</td>\n",
       "      <td>-1.198249</td>\n",
       "    </tr>\n",
       "    <tr>\n",
       "      <th>11</th>\n",
       "      <td>education_level_Primary School</td>\n",
       "      <td>-1.821528</td>\n",
       "    </tr>\n",
       "  </tbody>\n",
       "</table>\n",
       "</div>"
      ],
      "text/plain": [
       "                           Feature  Coefficient\n",
       "24          company_size_5000-9999    -0.475402\n",
       "25                company_size_<10    -0.496889\n",
       "15       major_discipline_No Major    -0.501393\n",
       "16          major_discipline_Other    -0.507041\n",
       "23            company_size_500-999    -0.532150\n",
       "0           city_development_index    -0.551382\n",
       "7      enrolled_university_unknown    -0.606558\n",
       "8      education_level_High School    -1.191722\n",
       "12         education_level_unknown    -1.198249\n",
       "11  education_level_Primary School    -1.821528"
      ]
     },
     "execution_count": 113,
     "metadata": {},
     "output_type": "execute_result"
    }
   ],
   "source": [
    "bottom_feature = coef.tail(10)\n",
    "bottom_feature"
   ]
  },
  {
   "cell_type": "code",
   "execution_count": 17,
   "metadata": {},
   "outputs": [
    {
     "data": {
      "text/html": [
       "<div>\n",
       "<style scoped>\n",
       "    .dataframe tbody tr th:only-of-type {\n",
       "        vertical-align: middle;\n",
       "    }\n",
       "\n",
       "    .dataframe tbody tr th {\n",
       "        vertical-align: top;\n",
       "    }\n",
       "\n",
       "    .dataframe thead th {\n",
       "        text-align: right;\n",
       "    }\n",
       "</style>\n",
       "<table border=\"1\" class=\"dataframe\">\n",
       "  <thead>\n",
       "    <tr style=\"text-align: right;\">\n",
       "      <th></th>\n",
       "      <th>Predict-not changing (0)</th>\n",
       "      <th>Predict-change (1)</th>\n",
       "    </tr>\n",
       "  </thead>\n",
       "  <tbody>\n",
       "    <tr>\n",
       "      <th>Not changing (0)</th>\n",
       "      <td>1098</td>\n",
       "      <td>455</td>\n",
       "    </tr>\n",
       "    <tr>\n",
       "      <th>Changing (1)</th>\n",
       "      <td>149</td>\n",
       "      <td>427</td>\n",
       "    </tr>\n",
       "  </tbody>\n",
       "</table>\n",
       "</div>"
      ],
      "text/plain": [
       "                  Predict-not changing (0)  Predict-change (1)\n",
       "Not changing (0)                      1098                 455\n",
       "Changing (1)                           149                 427"
      ]
     },
     "execution_count": 17,
     "metadata": {},
     "output_type": "execute_result"
    }
   ],
   "source": [
    "y_predict = lm.predict(X_test)\n",
    "pd.DataFrame(confusion_matrix(y_test, y_predict),\\\n",
    "             columns=['Predict-not changing (0)','Predict-change (1)'],\\\n",
    "            index=['Not changing (0)','Changing (1)'])"
   ]
  },
  {
   "cell_type": "code",
   "execution_count": 18,
   "metadata": {},
   "outputs": [
    {
     "name": "stdout",
     "output_type": "stream",
     "text": [
      "Accuracy score: 0.7162987317989666 \n",
      "\n",
      "Classification report (Logistic regression):\n",
      "\n",
      "               precision    recall  f1-score   support\n",
      "\n",
      "           0       0.88      0.71      0.78      1553\n",
      "           1       0.48      0.74      0.59       576\n",
      "\n",
      "    accuracy                           0.72      2129\n",
      "   macro avg       0.68      0.72      0.69      2129\n",
      "weighted avg       0.77      0.72      0.73      2129\n",
      "\n"
     ]
    }
   ],
   "source": [
    "print('Accuracy score:',accuracy_score(y_test,y_predict),'\\n')\n",
    "print('Classification report (Logistic regression):\\n\\n',classification_report(y_test,y_predict))"
   ]
  },
  {
   "cell_type": "code",
   "execution_count": 19,
   "metadata": {},
   "outputs": [
    {
     "data": {
      "image/png": "[encoded data removed]",
      "text/plain": [
       "<Figure size 432x288 with 1 Axes>"
      ]
     },
     "metadata": {
      "needs_background": "light"
     },
     "output_type": "display_data"
    }
   ],
   "source": [
    "# Logistic regression ROC curve\n",
    "y_scores = lm.predict_proba(X_test)\n",
    "fpr, tpr, threshold = roc_curve(y_test, y_scores[:, 1])\n",
    "roc_auc = auc(fpr, tpr)\n",
    "plt.plot(fpr, tpr, 'b', label = 'AUC_lr = %0.3f' % roc_auc)\n",
    "\n",
    "plt.legend(loc = 'lower right')\n",
    "plt.plot([0, 1], [0, 1],'r--')\n",
    "plt.xlim([0, 1])\n",
    "plt.ylim([0, 1])\n",
    "plt.ylabel('True Positive Rate')\n",
    "plt.xlabel('False Positive Rate')\n",
    "plt.title('ROC Curve of Logistic regression')\n",
    "plt.show()"
   ]
  },
  {
   "cell_type": "code",
   "execution_count": 200,
   "metadata": {},
   "outputs": [
    {
     "data": {
      "image/png": "[encoded data removed]",
      "text/plain": [
       "<Figure size 432x288 with 1 Axes>"
      ]
     },
     "metadata": {
      "needs_background": "light"
     },
     "output_type": "display_data"
    }
   ],
   "source": [
    "# Logistic regression ROC curve\n",
    "y_scores = lm.predict_proba(X_test)\n",
    "fpr, tpr, threshold = roc_curve(y_test, y_scores[:, 1])\n",
    "roc_auc = auc(fpr, tpr)\n",
    "\n",
    "\n",
    "fig, ax = plt.subplots()\n",
    "\n",
    "plt.plot(fpr, tpr, 'cadetblue', linewidth=3, label = 'AUC = %0.3f' % roc_auc)\n",
    "plt.legend(loc = 'lower right')\n",
    "plt.plot([0, 1], [0, 1],'k--')\n",
    "plt.xlim([0, 1])\n",
    "plt.ylim([0, 1])\n",
    "plt.ylabel('True Positive Rate',fontsize=14)\n",
    "plt.xlabel('False Positive Rate',fontsize=14)\n",
    "plt.title('ROC Curve of Logistic regression',fontsize=16)\n",
    "plt.xticks(fontsize=12)\n",
    "plt.yticks(fontsize=12);\n",
    "\n",
    "fig.savefig('../plot/ROC_lr_1.pdf', bbox_inches='tight', transparent=True)"
   ]
  },
  {
   "cell_type": "code",
   "execution_count": null,
   "metadata": {},
   "outputs": [],
   "source": []
  },
  {
   "cell_type": "markdown",
   "metadata": {},
   "source": [
    "#### Grid search cross-validation\n",
    "Logistic regression does not really have hyperparameters to tune.\n",
    "* **solver** : ‘newton-cg’, ‘lbfgs’, ‘liblinear’, ‘sag’, ‘saga’\n",
    "* **penalty** (regularization) : ‘none’, ‘l1’, ‘l2’, ‘elasticnet’\n",
    "* **C** (penalty strength) : 100, 10, 1.0, 0.1, 0.01"
   ]
  },
  {
   "cell_type": "code",
   "execution_count": 114,
   "metadata": {},
   "outputs": [],
   "source": [
    "from sklearn.model_selection import GridSearchCV\n",
    "from sklearn.model_selection import RepeatedStratifiedKFold"
   ]
  },
  {
   "cell_type": "code",
   "execution_count": 169,
   "metadata": {},
   "outputs": [],
   "source": [
    "lm_2=LogisticRegression()\n",
    "solvers = ['newton-cg', 'lbfgs', 'liblinear']\n",
    "penalty = ['none', 'l1', 'l2', 'elasticnet']\n",
    "c_values = [100000000, 10000, 1000, 100, 1.0, 0.1, 0.01]"
   ]
  },
  {
   "cell_type": "code",
   "execution_count": 170,
   "metadata": {},
   "outputs": [
    {
     "name": "stderr",
     "output_type": "stream",
     "text": [
      "/opt/anaconda3/lib/python3.8/site-packages/sklearn/linear_model/_logistic.py:762: ConvergenceWarning: lbfgs failed to converge (status=1):\n",
      "STOP: TOTAL NO. of ITERATIONS REACHED LIMIT.\n",
      "\n",
      "Increase the number of iterations (max_iter) or scale the data as shown in:\n",
      "    https://scikit-learn.org/stable/modules/preprocessing.html\n",
      "Please also refer to the documentation for alternative solver options:\n",
      "    https://scikit-learn.org/stable/modules/linear_model.html#logistic-regression\n",
      "  n_iter_i = _check_optimize_result(\n"
     ]
    }
   ],
   "source": [
    "# Define grid search\n",
    "grid = dict(solver=solvers,penalty=penalty,C=c_values)\n",
    "# cv = RepeatedStratifiedKFold(n_splits=10, n_repeats=3, random_state=1)\n",
    "grid_search = GridSearchCV(estimator=lm_2, param_grid=grid, n_jobs=-1, cv=5, scoring='recall',error_score=0)\n",
    "grid_result = grid_search.fit(X_train, y_train)"
   ]
  },
  {
   "cell_type": "code",
   "execution_count": 171,
   "metadata": {},
   "outputs": [
    {
     "name": "stdout",
     "output_type": "stream",
     "text": [
      "Best: 0.674369 using {'C': 10000, 'penalty': 'l2', 'solver': 'lbfgs'}\n"
     ]
    }
   ],
   "source": [
    "# summarize results\n",
    "print(\"Best: %f using %s\" % (grid_result.best_score_, grid_result.best_params_))\n",
    "means = grid_result.cv_results_['mean_test_score']\n",
    "stds = grid_result.cv_results_['std_test_score']\n",
    "params = grid_result.cv_results_['params']\n",
    "# for mean, stdev, param in zip(means, stds, params):\n",
    "#     print(\"%f (%f) with: %r\" % (mean, stdev, param))\n"
   ]
  },
  {
   "cell_type": "code",
   "execution_count": 172,
   "metadata": {},
   "outputs": [
    {
     "name": "stderr",
     "output_type": "stream",
     "text": [
      "/opt/anaconda3/lib/python3.8/site-packages/sklearn/linear_model/_logistic.py:762: ConvergenceWarning: lbfgs failed to converge (status=1):\n",
      "STOP: TOTAL NO. of ITERATIONS REACHED LIMIT.\n",
      "\n",
      "Increase the number of iterations (max_iter) or scale the data as shown in:\n",
      "    https://scikit-learn.org/stable/modules/preprocessing.html\n",
      "Please also refer to the documentation for alternative solver options:\n",
      "    https://scikit-learn.org/stable/modules/linear_model.html#logistic-regression\n",
      "  n_iter_i = _check_optimize_result(\n"
     ]
    },
    {
     "data": {
      "text/html": [
       "<div>\n",
       "<style scoped>\n",
       "    .dataframe tbody tr th:only-of-type {\n",
       "        vertical-align: middle;\n",
       "    }\n",
       "\n",
       "    .dataframe tbody tr th {\n",
       "        vertical-align: top;\n",
       "    }\n",
       "\n",
       "    .dataframe thead th {\n",
       "        text-align: right;\n",
       "    }\n",
       "</style>\n",
       "<table border=\"1\" class=\"dataframe\">\n",
       "  <thead>\n",
       "    <tr style=\"text-align: right;\">\n",
       "      <th></th>\n",
       "      <th>Predict-not changing (0)</th>\n",
       "      <th>Predict-change (1)</th>\n",
       "    </tr>\n",
       "  </thead>\n",
       "  <tbody>\n",
       "    <tr>\n",
       "      <th>Not changing (0)</th>\n",
       "      <td>1097</td>\n",
       "      <td>456</td>\n",
       "    </tr>\n",
       "    <tr>\n",
       "      <th>Changing (1)</th>\n",
       "      <td>145</td>\n",
       "      <td>431</td>\n",
       "    </tr>\n",
       "  </tbody>\n",
       "</table>\n",
       "</div>"
      ],
      "text/plain": [
       "                  Predict-not changing (0)  Predict-change (1)\n",
       "Not changing (0)                      1097                 456\n",
       "Changing (1)                           145                 431"
      ]
     },
     "execution_count": 172,
     "metadata": {},
     "output_type": "execute_result"
    }
   ],
   "source": [
    "lm_2 = grid_search.best_estimator_\n",
    "# LogisticRegression(solver='lbfgs', C=10000, penalty='l2')\n",
    "lm_2.fit(X_train,y_train)\n",
    "y_predict = lm_2.predict(X_test)\n",
    "pd.DataFrame(confusion_matrix(y_test, y_predict),\\\n",
    "             columns=['Predict-not changing (0)','Predict-change (1)'],\\\n",
    "            index=['Not changing (0)','Changing (1)'])"
   ]
  },
  {
   "cell_type": "code",
   "execution_count": 173,
   "metadata": {},
   "outputs": [
    {
     "name": "stdout",
     "output_type": "stream",
     "text": [
      "Accuracy score: 0.7177078440582433 \n",
      "\n",
      "Classification report (Logistic regression):\n",
      "\n",
      "               precision    recall  f1-score   support\n",
      "\n",
      "           0       0.88      0.71      0.78      1553\n",
      "           1       0.49      0.75      0.59       576\n",
      "\n",
      "    accuracy                           0.72      2129\n",
      "   macro avg       0.68      0.73      0.69      2129\n",
      "weighted avg       0.78      0.72      0.73      2129\n",
      "\n"
     ]
    }
   ],
   "source": [
    "print('Accuracy score:',accuracy_score(y_test,y_predict),'\\n')\n",
    "print('Classification report (Logistic regression):\\n\\n',classification_report(y_test,y_predict))"
   ]
  },
  {
   "cell_type": "code",
   "execution_count": null,
   "metadata": {},
   "outputs": [],
   "source": [
    "# Precision and recall for (1) both improved 0.01..."
   ]
  },
  {
   "cell_type": "code",
   "execution_count": null,
   "metadata": {},
   "outputs": [],
   "source": []
  },
  {
   "cell_type": "markdown",
   "metadata": {},
   "source": [
    "#### Cross-validation"
   ]
  },
  {
   "cell_type": "code",
   "execution_count": 162,
   "metadata": {},
   "outputs": [],
   "source": [
    "from sklearn.model_selection import cross_val_score"
   ]
  },
  {
   "cell_type": "code",
   "execution_count": 165,
   "metadata": {},
   "outputs": [
    {
     "name": "stderr",
     "output_type": "stream",
     "text": [
      "/opt/anaconda3/lib/python3.8/site-packages/sklearn/linear_model/_logistic.py:762: ConvergenceWarning: lbfgs failed to converge (status=1):\n",
      "STOP: TOTAL NO. of ITERATIONS REACHED LIMIT.\n",
      "\n",
      "Increase the number of iterations (max_iter) or scale the data as shown in:\n",
      "    https://scikit-learn.org/stable/modules/preprocessing.html\n",
      "Please also refer to the documentation for alternative solver options:\n",
      "    https://scikit-learn.org/stable/modules/linear_model.html#logistic-regression\n",
      "  n_iter_i = _check_optimize_result(\n",
      "/opt/anaconda3/lib/python3.8/site-packages/sklearn/linear_model/_logistic.py:762: ConvergenceWarning: lbfgs failed to converge (status=1):\n",
      "STOP: TOTAL NO. of ITERATIONS REACHED LIMIT.\n",
      "\n",
      "Increase the number of iterations (max_iter) or scale the data as shown in:\n",
      "    https://scikit-learn.org/stable/modules/preprocessing.html\n",
      "Please also refer to the documentation for alternative solver options:\n",
      "    https://scikit-learn.org/stable/modules/linear_model.html#logistic-regression\n",
      "  n_iter_i = _check_optimize_result(\n",
      "/opt/anaconda3/lib/python3.8/site-packages/sklearn/linear_model/_logistic.py:762: ConvergenceWarning: lbfgs failed to converge (status=1):\n",
      "STOP: TOTAL NO. of ITERATIONS REACHED LIMIT.\n",
      "\n",
      "Increase the number of iterations (max_iter) or scale the data as shown in:\n",
      "    https://scikit-learn.org/stable/modules/preprocessing.html\n",
      "Please also refer to the documentation for alternative solver options:\n",
      "    https://scikit-learn.org/stable/modules/linear_model.html#logistic-regression\n",
      "  n_iter_i = _check_optimize_result(\n",
      "/opt/anaconda3/lib/python3.8/site-packages/sklearn/linear_model/_logistic.py:762: ConvergenceWarning: lbfgs failed to converge (status=1):\n",
      "STOP: TOTAL NO. of ITERATIONS REACHED LIMIT.\n",
      "\n",
      "Increase the number of iterations (max_iter) or scale the data as shown in:\n",
      "    https://scikit-learn.org/stable/modules/preprocessing.html\n",
      "Please also refer to the documentation for alternative solver options:\n",
      "    https://scikit-learn.org/stable/modules/linear_model.html#logistic-regression\n",
      "  n_iter_i = _check_optimize_result(\n",
      "/opt/anaconda3/lib/python3.8/site-packages/sklearn/linear_model/_logistic.py:762: ConvergenceWarning: lbfgs failed to converge (status=1):\n",
      "STOP: TOTAL NO. of ITERATIONS REACHED LIMIT.\n",
      "\n",
      "Increase the number of iterations (max_iter) or scale the data as shown in:\n",
      "    https://scikit-learn.org/stable/modules/preprocessing.html\n",
      "Please also refer to the documentation for alternative solver options:\n",
      "    https://scikit-learn.org/stable/modules/linear_model.html#logistic-regression\n",
      "  n_iter_i = _check_optimize_result(\n"
     ]
    }
   ],
   "source": [
    "recalls = cross_val_score(lm_2, X_train, y_train, cv=5, scoring='recall')"
   ]
  },
  {
   "cell_type": "code",
   "execution_count": 168,
   "metadata": {},
   "outputs": [
    {
     "name": "stdout",
     "output_type": "stream",
     "text": [
      "Mean: 0.6751988931165687\n",
      "All recalls: [0.76582497 0.71705292 0.63161536 0.61674161 0.6447596 ]\n"
     ]
    }
   ],
   "source": [
    "print('Mean:', np.mean(recalls))\n",
    "print('All recalls:', (recalls))"
   ]
  },
  {
   "cell_type": "code",
   "execution_count": null,
   "metadata": {},
   "outputs": [],
   "source": []
  },
  {
   "cell_type": "markdown",
   "metadata": {},
   "source": [
    "### * Adjust threshold"
   ]
  },
  {
   "cell_type": "code",
   "execution_count": 143,
   "metadata": {},
   "outputs": [],
   "source": [
    "def make_confusion_matrix(model, threshold=0.5):\n",
    "    # Predict class 1 if probability of being in class 1 is greater than threshold\n",
    "    # (model.predict(X_test) does this automatically with a threshold of 0.5)\n",
    "    y_predict = (model.predict_proba(X_test)[:, 1] >= threshold)\n",
    "    fraud_confusion = confusion_matrix(y_test, y_predict)\n",
    "    plt.figure(dpi=80)\n",
    "    sns.heatmap(fraud_confusion, cmap=plt.cm.Blues, annot=True, square=True, fmt='d',\n",
    "           xticklabels=['Not Looking', 'Looking'],\n",
    "           yticklabels=['Not Looking', 'Looking']);\n",
    "    plt.xlabel('prediction')\n",
    "    plt.ylabel('actual')"
   ]
  },
  {
   "cell_type": "code",
   "execution_count": 144,
   "metadata": {},
   "outputs": [
    {
     "data": {
      "application/vnd.jupyter.widget-view+json": {
       "model_id": "ddfadcaf56064212a31173bd7f613b6f",
       "version_major": 2,
       "version_minor": 0
      },
      "text/plain": [
       "interactive(children=(FloatSlider(value=0.5, description='threshold', max=1.0, step=0.02), Output()), _dom_cla…"
      ]
     },
     "metadata": {},
     "output_type": "display_data"
    }
   ],
   "source": [
    "# Let's see how our confusion matrix changes with changes to the cutoff! \n",
    "\n",
    "from ipywidgets import interactive, FloatSlider\n",
    "interactive(lambda threshold: make_confusion_matrix(lm_2, threshold), threshold=(0.0,1.0,0.02))"
   ]
  },
  {
   "cell_type": "code",
   "execution_count": 161,
   "metadata": {},
   "outputs": [
    {
     "name": "stdout",
     "output_type": "stream",
     "text": [
      "Classification report (Logistic regression):\n",
      "\n",
      "               precision    recall  f1-score   support\n",
      "\n",
      "           0       0.90      0.56      0.69      1553\n",
      "           1       0.41      0.82      0.55       576\n",
      "\n",
      "    accuracy                           0.63      2129\n",
      "   macro avg       0.65      0.69      0.62      2129\n",
      "weighted avg       0.76      0.63      0.65      2129\n",
      "\n"
     ]
    }
   ],
   "source": [
    "threshold = 0.4\n",
    "y_predict = (lm.predict_proba(X_test)[:, 1] >= threshold)\n",
    "print('Classification report (Logistic regression):\\n\\n',classification_report(y_test,y_predict))"
   ]
  },
  {
   "cell_type": "code",
   "execution_count": null,
   "metadata": {},
   "outputs": [],
   "source": [
    "# Compared to baseline Logistic regression model with 0.41 precision, recall has improved from 0.61 to 0.82!"
   ]
  },
  {
   "cell_type": "code",
   "execution_count": null,
   "metadata": {},
   "outputs": [],
   "source": []
  },
  {
   "cell_type": "markdown",
   "metadata": {},
   "source": [
    "### * Feature Engineering"
   ]
  },
  {
   "cell_type": "code",
   "execution_count": 38,
   "metadata": {},
   "outputs": [],
   "source": [
    "X_train, X_val, y_train, y_val = train_test_split(X_train, y_train, test_size=0.25, random_state=2)"
   ]
  },
  {
   "cell_type": "code",
   "execution_count": 72,
   "metadata": {},
   "outputs": [],
   "source": [
    "X_train['training_hours_experience'] = X_train['training_hours'] * X_train['experience']\n",
    "X_test['training_hours_experience'] = X_test['training_hours'] * X_test['experience']\n",
    "\n",
    "X_train['last_job_experience'] = X_train['experience'] / X_train['last_new_job']\n",
    "X_test['last_job_experience'] = X_test['experience'] / X_test['last_new_job']\n",
    "\n",
    "X_train['last_job_city'] = X_train['last_new_job'] * X_train['city_development_index']\n",
    "X_test['last_job_city'] = X_test['last_new_job'] * X_test['city_development_index']\n",
    "\n",
    "X_train['training_hours_city'] = X_train['training_hours'] * X_train['city_development_index']\n",
    "X_test['training_hours_city'] = X_test['training_hours'] * X_test['city_development_index']"
   ]
  },
  {
   "cell_type": "code",
   "execution_count": 69,
   "metadata": {
    "scrolled": false
   },
   "outputs": [],
   "source": [
    "X_train['last_job_experience'] = scaler.fit_transform(X_train[['last_job_experience']])"
   ]
  },
  {
   "cell_type": "code",
   "execution_count": 70,
   "metadata": {},
   "outputs": [
    {
     "data": {
      "text/html": [
       "<div>\n",
       "<style scoped>\n",
       "    .dataframe tbody tr th:only-of-type {\n",
       "        vertical-align: middle;\n",
       "    }\n",
       "\n",
       "    .dataframe tbody tr th {\n",
       "        vertical-align: top;\n",
       "    }\n",
       "\n",
       "    .dataframe thead th {\n",
       "        text-align: right;\n",
       "    }\n",
       "</style>\n",
       "<table border=\"1\" class=\"dataframe\">\n",
       "  <thead>\n",
       "    <tr style=\"text-align: right;\">\n",
       "      <th></th>\n",
       "      <th>city_development_index</th>\n",
       "      <th>training_hours</th>\n",
       "      <th>experience</th>\n",
       "      <th>last_new_job</th>\n",
       "      <th>relevent_experience_No relevent experience</th>\n",
       "      <th>enrolled_university_Part time course</th>\n",
       "      <th>enrolled_university_no_enrollment</th>\n",
       "      <th>enrolled_university_unknown</th>\n",
       "      <th>education_level_High School</th>\n",
       "      <th>education_level_Masters</th>\n",
       "      <th>...</th>\n",
       "      <th>company_type_Funded Startup</th>\n",
       "      <th>company_type_NGO</th>\n",
       "      <th>company_type_Other</th>\n",
       "      <th>company_type_Public Sector</th>\n",
       "      <th>company_type_Pvt Ltd</th>\n",
       "      <th>company_type_unknown</th>\n",
       "      <th>training_hours_experience</th>\n",
       "      <th>last_job_experience</th>\n",
       "      <th>last_job_city</th>\n",
       "      <th>training_hours_city</th>\n",
       "    </tr>\n",
       "  </thead>\n",
       "  <tbody>\n",
       "    <tr>\n",
       "      <th>0</th>\n",
       "      <td>0.738919</td>\n",
       "      <td>-0.488985</td>\n",
       "      <td>1.793483</td>\n",
       "      <td>-0.588135</td>\n",
       "      <td>0.00000</td>\n",
       "      <td>0.0</td>\n",
       "      <td>1.0</td>\n",
       "      <td>0.0</td>\n",
       "      <td>0.0</td>\n",
       "      <td>0.0</td>\n",
       "      <td>...</td>\n",
       "      <td>0.0</td>\n",
       "      <td>0.0</td>\n",
       "      <td>0.0</td>\n",
       "      <td>0.0</td>\n",
       "      <td>0.0</td>\n",
       "      <td>1.0</td>\n",
       "      <td>-0.876986</td>\n",
       "      <td>-0.116277</td>\n",
       "      <td>-0.434584</td>\n",
       "      <td>-0.361320</td>\n",
       "    </tr>\n",
       "    <tr>\n",
       "      <th>1</th>\n",
       "      <td>-0.428410</td>\n",
       "      <td>-0.305825</td>\n",
       "      <td>0.530812</td>\n",
       "      <td>1.816493</td>\n",
       "      <td>1.00000</td>\n",
       "      <td>0.0</td>\n",
       "      <td>1.0</td>\n",
       "      <td>0.0</td>\n",
       "      <td>0.0</td>\n",
       "      <td>0.0</td>\n",
       "      <td>...</td>\n",
       "      <td>0.0</td>\n",
       "      <td>0.0</td>\n",
       "      <td>0.0</td>\n",
       "      <td>0.0</td>\n",
       "      <td>1.0</td>\n",
       "      <td>0.0</td>\n",
       "      <td>-0.162336</td>\n",
       "      <td>-0.004334</td>\n",
       "      <td>-0.778203</td>\n",
       "      <td>0.131018</td>\n",
       "    </tr>\n",
       "    <tr>\n",
       "      <th>2</th>\n",
       "      <td>-1.660590</td>\n",
       "      <td>0.293607</td>\n",
       "      <td>-0.731859</td>\n",
       "      <td>-1.189292</td>\n",
       "      <td>1.00000</td>\n",
       "      <td>0.0</td>\n",
       "      <td>0.0</td>\n",
       "      <td>0.0</td>\n",
       "      <td>0.0</td>\n",
       "      <td>0.0</td>\n",
       "      <td>...</td>\n",
       "      <td>0.0</td>\n",
       "      <td>0.0</td>\n",
       "      <td>0.0</td>\n",
       "      <td>0.0</td>\n",
       "      <td>0.0</td>\n",
       "      <td>1.0</td>\n",
       "      <td>-0.214879</td>\n",
       "      <td>0.006492</td>\n",
       "      <td>1.974927</td>\n",
       "      <td>-0.487560</td>\n",
       "    </tr>\n",
       "    <tr>\n",
       "      <th>3</th>\n",
       "      <td>-0.323026</td>\n",
       "      <td>-0.222571</td>\n",
       "      <td>-1.300061</td>\n",
       "      <td>-1.189292</td>\n",
       "      <td>1.00000</td>\n",
       "      <td>0.0</td>\n",
       "      <td>0.0</td>\n",
       "      <td>1.0</td>\n",
       "      <td>0.0</td>\n",
       "      <td>0.0</td>\n",
       "      <td>...</td>\n",
       "      <td>0.0</td>\n",
       "      <td>0.0</td>\n",
       "      <td>0.0</td>\n",
       "      <td>0.0</td>\n",
       "      <td>1.0</td>\n",
       "      <td>0.0</td>\n",
       "      <td>0.289355</td>\n",
       "      <td>0.022496</td>\n",
       "      <td>0.384172</td>\n",
       "      <td>0.071896</td>\n",
       "    </tr>\n",
       "    <tr>\n",
       "      <th>4</th>\n",
       "      <td>-0.501368</td>\n",
       "      <td>-0.955209</td>\n",
       "      <td>1.793483</td>\n",
       "      <td>1.215336</td>\n",
       "      <td>0.00000</td>\n",
       "      <td>0.0</td>\n",
       "      <td>1.0</td>\n",
       "      <td>0.0</td>\n",
       "      <td>0.0</td>\n",
       "      <td>1.0</td>\n",
       "      <td>...</td>\n",
       "      <td>1.0</td>\n",
       "      <td>0.0</td>\n",
       "      <td>0.0</td>\n",
       "      <td>0.0</td>\n",
       "      <td>0.0</td>\n",
       "      <td>0.0</td>\n",
       "      <td>-1.713152</td>\n",
       "      <td>0.035312</td>\n",
       "      <td>-0.609331</td>\n",
       "      <td>0.478911</td>\n",
       "    </tr>\n",
       "    <tr>\n",
       "      <th>...</th>\n",
       "      <td>...</td>\n",
       "      <td>...</td>\n",
       "      <td>...</td>\n",
       "      <td>...</td>\n",
       "      <td>...</td>\n",
       "      <td>...</td>\n",
       "      <td>...</td>\n",
       "      <td>...</td>\n",
       "      <td>...</td>\n",
       "      <td>...</td>\n",
       "      <td>...</td>\n",
       "      <td>...</td>\n",
       "      <td>...</td>\n",
       "      <td>...</td>\n",
       "      <td>...</td>\n",
       "      <td>...</td>\n",
       "      <td>...</td>\n",
       "      <td>...</td>\n",
       "      <td>...</td>\n",
       "      <td>...</td>\n",
       "      <td>...</td>\n",
       "    </tr>\n",
       "    <tr>\n",
       "      <th>28831</th>\n",
       "      <td>0.316702</td>\n",
       "      <td>-0.564869</td>\n",
       "      <td>-0.473409</td>\n",
       "      <td>-0.588135</td>\n",
       "      <td>0.00000</td>\n",
       "      <td>0.0</td>\n",
       "      <td>1.0</td>\n",
       "      <td>0.0</td>\n",
       "      <td>0.0</td>\n",
       "      <td>1.0</td>\n",
       "      <td>...</td>\n",
       "      <td>0.0</td>\n",
       "      <td>0.0</td>\n",
       "      <td>0.0</td>\n",
       "      <td>0.0</td>\n",
       "      <td>1.0</td>\n",
       "      <td>0.0</td>\n",
       "      <td>0.267414</td>\n",
       "      <td>0.012842</td>\n",
       "      <td>-0.186264</td>\n",
       "      <td>-0.178895</td>\n",
       "    </tr>\n",
       "    <tr>\n",
       "      <th>28832</th>\n",
       "      <td>0.472487</td>\n",
       "      <td>-0.425288</td>\n",
       "      <td>0.459461</td>\n",
       "      <td>-0.588135</td>\n",
       "      <td>0.78254</td>\n",
       "      <td>0.0</td>\n",
       "      <td>1.0</td>\n",
       "      <td>0.0</td>\n",
       "      <td>0.0</td>\n",
       "      <td>0.0</td>\n",
       "      <td>...</td>\n",
       "      <td>0.0</td>\n",
       "      <td>0.0</td>\n",
       "      <td>0.0</td>\n",
       "      <td>0.0</td>\n",
       "      <td>0.0</td>\n",
       "      <td>1.0</td>\n",
       "      <td>-0.195404</td>\n",
       "      <td>-0.040293</td>\n",
       "      <td>-0.277886</td>\n",
       "      <td>-0.200943</td>\n",
       "    </tr>\n",
       "    <tr>\n",
       "      <th>28833</th>\n",
       "      <td>0.770312</td>\n",
       "      <td>-0.283658</td>\n",
       "      <td>0.430281</td>\n",
       "      <td>1.337864</td>\n",
       "      <td>0.00000</td>\n",
       "      <td>0.0</td>\n",
       "      <td>1.0</td>\n",
       "      <td>0.0</td>\n",
       "      <td>0.0</td>\n",
       "      <td>0.0</td>\n",
       "      <td>...</td>\n",
       "      <td>0.0</td>\n",
       "      <td>0.0</td>\n",
       "      <td>0.0</td>\n",
       "      <td>0.0</td>\n",
       "      <td>0.0</td>\n",
       "      <td>1.0</td>\n",
       "      <td>-0.122053</td>\n",
       "      <td>-0.003349</td>\n",
       "      <td>1.030573</td>\n",
       "      <td>-0.218506</td>\n",
       "    </tr>\n",
       "    <tr>\n",
       "      <th>28834</th>\n",
       "      <td>0.738919</td>\n",
       "      <td>-0.152315</td>\n",
       "      <td>0.445527</td>\n",
       "      <td>1.410450</td>\n",
       "      <td>0.00000</td>\n",
       "      <td>0.0</td>\n",
       "      <td>1.0</td>\n",
       "      <td>0.0</td>\n",
       "      <td>0.0</td>\n",
       "      <td>0.0</td>\n",
       "      <td>...</td>\n",
       "      <td>0.0</td>\n",
       "      <td>0.0</td>\n",
       "      <td>0.0</td>\n",
       "      <td>0.0</td>\n",
       "      <td>0.0</td>\n",
       "      <td>1.0</td>\n",
       "      <td>-0.067860</td>\n",
       "      <td>-0.003541</td>\n",
       "      <td>1.042209</td>\n",
       "      <td>-0.112548</td>\n",
       "    </tr>\n",
       "    <tr>\n",
       "      <th>28835</th>\n",
       "      <td>0.738919</td>\n",
       "      <td>-0.222689</td>\n",
       "      <td>0.400044</td>\n",
       "      <td>1.215336</td>\n",
       "      <td>0.00000</td>\n",
       "      <td>0.0</td>\n",
       "      <td>1.0</td>\n",
       "      <td>0.0</td>\n",
       "      <td>0.0</td>\n",
       "      <td>0.0</td>\n",
       "      <td>...</td>\n",
       "      <td>0.0</td>\n",
       "      <td>0.0</td>\n",
       "      <td>0.0</td>\n",
       "      <td>0.0</td>\n",
       "      <td>0.0</td>\n",
       "      <td>1.0</td>\n",
       "      <td>-0.089085</td>\n",
       "      <td>-0.003096</td>\n",
       "      <td>0.898035</td>\n",
       "      <td>-0.164549</td>\n",
       "    </tr>\n",
       "  </tbody>\n",
       "</table>\n",
       "<p>28836 rows × 36 columns</p>\n",
       "</div>"
      ],
      "text/plain": [
       "       city_development_index  training_hours  experience  last_new_job  \\\n",
       "0                    0.738919       -0.488985    1.793483     -0.588135   \n",
       "1                   -0.428410       -0.305825    0.530812      1.816493   \n",
       "2                   -1.660590        0.293607   -0.731859     -1.189292   \n",
       "3                   -0.323026       -0.222571   -1.300061     -1.189292   \n",
       "4                   -0.501368       -0.955209    1.793483      1.215336   \n",
       "...                       ...             ...         ...           ...   \n",
       "28831                0.316702       -0.564869   -0.473409     -0.588135   \n",
       "28832                0.472487       -0.425288    0.459461     -0.588135   \n",
       "28833                0.770312       -0.283658    0.430281      1.337864   \n",
       "28834                0.738919       -0.152315    0.445527      1.410450   \n",
       "28835                0.738919       -0.222689    0.400044      1.215336   \n",
       "\n",
       "       relevent_experience_No relevent experience  \\\n",
       "0                                         0.00000   \n",
       "1                                         1.00000   \n",
       "2                                         1.00000   \n",
       "3                                         1.00000   \n",
       "4                                         0.00000   \n",
       "...                                           ...   \n",
       "28831                                     0.00000   \n",
       "28832                                     0.78254   \n",
       "28833                                     0.00000   \n",
       "28834                                     0.00000   \n",
       "28835                                     0.00000   \n",
       "\n",
       "       enrolled_university_Part time course  \\\n",
       "0                                       0.0   \n",
       "1                                       0.0   \n",
       "2                                       0.0   \n",
       "3                                       0.0   \n",
       "4                                       0.0   \n",
       "...                                     ...   \n",
       "28831                                   0.0   \n",
       "28832                                   0.0   \n",
       "28833                                   0.0   \n",
       "28834                                   0.0   \n",
       "28835                                   0.0   \n",
       "\n",
       "       enrolled_university_no_enrollment  enrolled_university_unknown  \\\n",
       "0                                    1.0                          0.0   \n",
       "1                                    1.0                          0.0   \n",
       "2                                    0.0                          0.0   \n",
       "3                                    0.0                          1.0   \n",
       "4                                    1.0                          0.0   \n",
       "...                                  ...                          ...   \n",
       "28831                                1.0                          0.0   \n",
       "28832                                1.0                          0.0   \n",
       "28833                                1.0                          0.0   \n",
       "28834                                1.0                          0.0   \n",
       "28835                                1.0                          0.0   \n",
       "\n",
       "       education_level_High School  education_level_Masters  ...  \\\n",
       "0                              0.0                      0.0  ...   \n",
       "1                              0.0                      0.0  ...   \n",
       "2                              0.0                      0.0  ...   \n",
       "3                              0.0                      0.0  ...   \n",
       "4                              0.0                      1.0  ...   \n",
       "...                            ...                      ...  ...   \n",
       "28831                          0.0                      1.0  ...   \n",
       "28832                          0.0                      0.0  ...   \n",
       "28833                          0.0                      0.0  ...   \n",
       "28834                          0.0                      0.0  ...   \n",
       "28835                          0.0                      0.0  ...   \n",
       "\n",
       "       company_type_Funded Startup  company_type_NGO  company_type_Other  \\\n",
       "0                              0.0               0.0                 0.0   \n",
       "1                              0.0               0.0                 0.0   \n",
       "2                              0.0               0.0                 0.0   \n",
       "3                              0.0               0.0                 0.0   \n",
       "4                              1.0               0.0                 0.0   \n",
       "...                            ...               ...                 ...   \n",
       "28831                          0.0               0.0                 0.0   \n",
       "28832                          0.0               0.0                 0.0   \n",
       "28833                          0.0               0.0                 0.0   \n",
       "28834                          0.0               0.0                 0.0   \n",
       "28835                          0.0               0.0                 0.0   \n",
       "\n",
       "       company_type_Public Sector  company_type_Pvt Ltd  company_type_unknown  \\\n",
       "0                             0.0                   0.0                   1.0   \n",
       "1                             0.0                   1.0                   0.0   \n",
       "2                             0.0                   0.0                   1.0   \n",
       "3                             0.0                   1.0                   0.0   \n",
       "4                             0.0                   0.0                   0.0   \n",
       "...                           ...                   ...                   ...   \n",
       "28831                         0.0                   1.0                   0.0   \n",
       "28832                         0.0                   0.0                   1.0   \n",
       "28833                         0.0                   0.0                   1.0   \n",
       "28834                         0.0                   0.0                   1.0   \n",
       "28835                         0.0                   0.0                   1.0   \n",
       "\n",
       "       training_hours_experience  last_job_experience  last_job_city  \\\n",
       "0                      -0.876986            -0.116277      -0.434584   \n",
       "1                      -0.162336            -0.004334      -0.778203   \n",
       "2                      -0.214879             0.006492       1.974927   \n",
       "3                       0.289355             0.022496       0.384172   \n",
       "4                      -1.713152             0.035312      -0.609331   \n",
       "...                          ...                  ...            ...   \n",
       "28831                   0.267414             0.012842      -0.186264   \n",
       "28832                  -0.195404            -0.040293      -0.277886   \n",
       "28833                  -0.122053            -0.003349       1.030573   \n",
       "28834                  -0.067860            -0.003541       1.042209   \n",
       "28835                  -0.089085            -0.003096       0.898035   \n",
       "\n",
       "       training_hours_city  \n",
       "0                -0.361320  \n",
       "1                 0.131018  \n",
       "2                -0.487560  \n",
       "3                 0.071896  \n",
       "4                 0.478911  \n",
       "...                    ...  \n",
       "28831            -0.178895  \n",
       "28832            -0.200943  \n",
       "28833            -0.218506  \n",
       "28834            -0.112548  \n",
       "28835            -0.164549  \n",
       "\n",
       "[28836 rows x 36 columns]"
      ]
     },
     "execution_count": 70,
     "metadata": {},
     "output_type": "execute_result"
    }
   ],
   "source": [
    "X_train"
   ]
  },
  {
   "cell_type": "code",
   "execution_count": 47,
   "metadata": {},
   "outputs": [
    {
     "data": {
      "text/html": [
       "<div>\n",
       "<style scoped>\n",
       "    .dataframe tbody tr th:only-of-type {\n",
       "        vertical-align: middle;\n",
       "    }\n",
       "\n",
       "    .dataframe tbody tr th {\n",
       "        vertical-align: top;\n",
       "    }\n",
       "\n",
       "    .dataframe thead th {\n",
       "        text-align: right;\n",
       "    }\n",
       "</style>\n",
       "<table border=\"1\" class=\"dataframe\">\n",
       "  <thead>\n",
       "    <tr style=\"text-align: right;\">\n",
       "      <th></th>\n",
       "      <th>Predict-not changing (0)</th>\n",
       "      <th>Predict-change (1)</th>\n",
       "    </tr>\n",
       "  </thead>\n",
       "  <tbody>\n",
       "    <tr>\n",
       "      <th>Not changing (0)</th>\n",
       "      <td>1099</td>\n",
       "      <td>454</td>\n",
       "    </tr>\n",
       "    <tr>\n",
       "      <th>Changing (1)</th>\n",
       "      <td>149</td>\n",
       "      <td>427</td>\n",
       "    </tr>\n",
       "  </tbody>\n",
       "</table>\n",
       "</div>"
      ],
      "text/plain": [
       "                  Predict-not changing (0)  Predict-change (1)\n",
       "Not changing (0)                      1099                 454\n",
       "Changing (1)                           149                 427"
      ]
     },
     "execution_count": 47,
     "metadata": {},
     "output_type": "execute_result"
    }
   ],
   "source": [
    "lm = LogisticRegression(solver='newton-cg',  # For comparison, use the same solver as statsmodels default\n",
    "                          C=100000)  # No regularization\n",
    "\n",
    "lm.fit(X_train, y_train)\n",
    "y_predict = lm.predict(X_test)\n",
    "pd.DataFrame(confusion_matrix(y_test, y_predict),\\\n",
    "             columns=['Predict-not changing (0)','Predict-change (1)'],\\\n",
    "            index=['Not changing (0)','Changing (1)'])"
   ]
  },
  {
   "cell_type": "code",
   "execution_count": 51,
   "metadata": {},
   "outputs": [
    {
     "data": {
      "text/html": [
       "<div>\n",
       "<style scoped>\n",
       "    .dataframe tbody tr th:only-of-type {\n",
       "        vertical-align: middle;\n",
       "    }\n",
       "\n",
       "    .dataframe tbody tr th {\n",
       "        vertical-align: top;\n",
       "    }\n",
       "\n",
       "    .dataframe thead th {\n",
       "        text-align: right;\n",
       "    }\n",
       "</style>\n",
       "<table border=\"1\" class=\"dataframe\">\n",
       "  <thead>\n",
       "    <tr style=\"text-align: right;\">\n",
       "      <th></th>\n",
       "      <th>Predict-not changing (0)</th>\n",
       "      <th>Predict-change (1)</th>\n",
       "    </tr>\n",
       "  </thead>\n",
       "  <tbody>\n",
       "    <tr>\n",
       "      <th>Not changing (0)</th>\n",
       "      <td>1092</td>\n",
       "      <td>461</td>\n",
       "    </tr>\n",
       "    <tr>\n",
       "      <th>Changing (1)</th>\n",
       "      <td>151</td>\n",
       "      <td>425</td>\n",
       "    </tr>\n",
       "  </tbody>\n",
       "</table>\n",
       "</div>"
      ],
      "text/plain": [
       "                  Predict-not changing (0)  Predict-change (1)\n",
       "Not changing (0)                      1092                 461\n",
       "Changing (1)                           151                 425"
      ]
     },
     "execution_count": 51,
     "metadata": {},
     "output_type": "execute_result"
    }
   ],
   "source": [
    "lm = LogisticRegression(solver='newton-cg',  # For comparison, use the same solver as statsmodels default\n",
    "                          C=100000)  # No regularization\n",
    "\n",
    "lm.fit(X_train, y_train)\n",
    "y_predict = lm.predict(X_test)\n",
    "pd.DataFrame(confusion_matrix(y_test, y_predict),\\\n",
    "             columns=['Predict-not changing (0)','Predict-change (1)'],\\\n",
    "            index=['Not changing (0)','Changing (1)'])"
   ]
  },
  {
   "cell_type": "code",
   "execution_count": 57,
   "metadata": {},
   "outputs": [
    {
     "data": {
      "text/html": [
       "<div>\n",
       "<style scoped>\n",
       "    .dataframe tbody tr th:only-of-type {\n",
       "        vertical-align: middle;\n",
       "    }\n",
       "\n",
       "    .dataframe tbody tr th {\n",
       "        vertical-align: top;\n",
       "    }\n",
       "\n",
       "    .dataframe thead th {\n",
       "        text-align: right;\n",
       "    }\n",
       "</style>\n",
       "<table border=\"1\" class=\"dataframe\">\n",
       "  <thead>\n",
       "    <tr style=\"text-align: right;\">\n",
       "      <th></th>\n",
       "      <th>Predict-not changing (0)</th>\n",
       "      <th>Predict-change (1)</th>\n",
       "    </tr>\n",
       "  </thead>\n",
       "  <tbody>\n",
       "    <tr>\n",
       "      <th>Not changing (0)</th>\n",
       "      <td>1092</td>\n",
       "      <td>461</td>\n",
       "    </tr>\n",
       "    <tr>\n",
       "      <th>Changing (1)</th>\n",
       "      <td>151</td>\n",
       "      <td>425</td>\n",
       "    </tr>\n",
       "  </tbody>\n",
       "</table>\n",
       "</div>"
      ],
      "text/plain": [
       "                  Predict-not changing (0)  Predict-change (1)\n",
       "Not changing (0)                      1092                 461\n",
       "Changing (1)                           151                 425"
      ]
     },
     "execution_count": 57,
     "metadata": {},
     "output_type": "execute_result"
    }
   ],
   "source": [
    "lm = LogisticRegression(solver='newton-cg',  # For comparison, use the same solver as statsmodels default\n",
    "                          C=100000)  # No regularization\n",
    "\n",
    "lm.fit(X_train, y_train)\n",
    "y_predict = lm.predict(X_test)\n",
    "pd.DataFrame(confusion_matrix(y_test, y_predict),\\\n",
    "             columns=['Predict-not changing (0)','Predict-change (1)'],\\\n",
    "            index=['Not changing (0)','Changing (1)'])"
   ]
  },
  {
   "cell_type": "code",
   "execution_count": 73,
   "metadata": {},
   "outputs": [
    {
     "data": {
      "text/html": [
       "<div>\n",
       "<style scoped>\n",
       "    .dataframe tbody tr th:only-of-type {\n",
       "        vertical-align: middle;\n",
       "    }\n",
       "\n",
       "    .dataframe tbody tr th {\n",
       "        vertical-align: top;\n",
       "    }\n",
       "\n",
       "    .dataframe thead th {\n",
       "        text-align: right;\n",
       "    }\n",
       "</style>\n",
       "<table border=\"1\" class=\"dataframe\">\n",
       "  <thead>\n",
       "    <tr style=\"text-align: right;\">\n",
       "      <th></th>\n",
       "      <th>Predict-not changing (0)</th>\n",
       "      <th>Predict-change (1)</th>\n",
       "    </tr>\n",
       "  </thead>\n",
       "  <tbody>\n",
       "    <tr>\n",
       "      <th>Not changing (0)</th>\n",
       "      <td>1100</td>\n",
       "      <td>453</td>\n",
       "    </tr>\n",
       "    <tr>\n",
       "      <th>Changing (1)</th>\n",
       "      <td>149</td>\n",
       "      <td>427</td>\n",
       "    </tr>\n",
       "  </tbody>\n",
       "</table>\n",
       "</div>"
      ],
      "text/plain": [
       "                  Predict-not changing (0)  Predict-change (1)\n",
       "Not changing (0)                      1100                 453\n",
       "Changing (1)                           149                 427"
      ]
     },
     "execution_count": 73,
     "metadata": {},
     "output_type": "execute_result"
    }
   ],
   "source": [
    "lm = LogisticRegression(solver='newton-cg',  # For comparison, use the same solver as statsmodels default\n",
    "                          C=100000)  # No regularization\n",
    "\n",
    "lm.fit(X_train, y_train)\n",
    "y_predict = lm.predict(X_test)\n",
    "pd.DataFrame(confusion_matrix(y_test, y_predict),\\\n",
    "             columns=['Predict-not changing (0)','Predict-change (1)'],\\\n",
    "            index=['Not changing (0)','Changing (1)'])"
   ]
  },
  {
   "cell_type": "code",
   "execution_count": null,
   "metadata": {},
   "outputs": [],
   "source": [
    "# Interaction terms do not improve the model"
   ]
  },
  {
   "cell_type": "code",
   "execution_count": null,
   "metadata": {},
   "outputs": [],
   "source": []
  },
  {
   "cell_type": "markdown",
   "metadata": {},
   "source": [
    "### 2. KNN"
   ]
  },
  {
   "cell_type": "code",
   "execution_count": 20,
   "metadata": {},
   "outputs": [
    {
     "name": "stdout",
     "output_type": "stream",
     "text": [
      "Accuracy score: 0.6594645373414749 \n",
      "\n",
      "Classification report (kNN, n=3):\n",
      "\n",
      "               precision    recall  f1-score   support\n",
      "\n",
      "           0       0.82      0.68      0.74      1553\n",
      "           1       0.41      0.60      0.49       576\n",
      "\n",
      "    accuracy                           0.66      2129\n",
      "   macro avg       0.62      0.64      0.62      2129\n",
      "weighted avg       0.71      0.66      0.68      2129\n",
      "\n"
     ]
    }
   ],
   "source": [
    "from sklearn.neighbors import KNeighborsClassifier\n",
    "\n",
    "knn_3 = KNeighborsClassifier(n_neighbors=3)\n",
    "knn_3.fit(X_train,y_train)\n",
    "pred = knn_3.predict(X_test)\n",
    "\n",
    "print('Accuracy score:',accuracy_score(y_test,pred),'\\n')\n",
    "print('Classification report (kNN, n=3):\\n\\n',classification_report(y_test,pred))"
   ]
  },
  {
   "cell_type": "code",
   "execution_count": 21,
   "metadata": {},
   "outputs": [
    {
     "name": "stdout",
     "output_type": "stream",
     "text": [
      "Accuracy score: 0.6491310474401127 \n",
      "\n",
      "Classification report (kNN, n=5):\n",
      "\n",
      "               precision    recall  f1-score   support\n",
      "\n",
      "           0       0.84      0.64      0.73      1553\n",
      "           1       0.41      0.67      0.51       576\n",
      "\n",
      "    accuracy                           0.65      2129\n",
      "   macro avg       0.62      0.66      0.62      2129\n",
      "weighted avg       0.72      0.65      0.67      2129\n",
      "\n"
     ]
    }
   ],
   "source": [
    "knn_5 = KNeighborsClassifier(n_neighbors=5)\n",
    "knn_5.fit(X_train,y_train)\n",
    "pred = knn_5.predict(X_test)\n",
    "\n",
    "print('Accuracy score:',accuracy_score(y_test,pred),'\\n')\n",
    "print('Classification report (kNN, n=5):\\n\\n',classification_report(y_test,pred))"
   ]
  },
  {
   "cell_type": "code",
   "execution_count": 22,
   "metadata": {},
   "outputs": [
    {
     "data": {
      "image/png": "[encoded data removed]",
      "text/plain": [
       "<Figure size 432x288 with 1 Axes>"
      ]
     },
     "metadata": {
      "needs_background": "light"
     },
     "output_type": "display_data"
    }
   ],
   "source": [
    "# knn (n=3)\n",
    "y_scores = knn_3.predict_proba(X_test)\n",
    "fpr, tpr, threshold = roc_curve(y_test, y_scores[:, 1])\n",
    "roc_auc = auc(fpr, tpr)\n",
    "plt.plot(fpr, tpr, 'b', label = 'AUC_knn3 = %0.3f' % roc_auc)\n",
    "\n",
    "# knn (n=5)\n",
    "y_scores = knn_5.predict_proba(X_test)\n",
    "fpr, tpr, threshold = roc_curve(y_test, y_scores[:, 1])\n",
    "roc_auc = auc(fpr, tpr)\n",
    "plt.plot(fpr, tpr, 'g', label = 'AUC_knn5 = %0.3f' % roc_auc)\n",
    "\n",
    "plt.legend(loc = 'lower right')\n",
    "plt.plot([0, 1], [0, 1],'r--')\n",
    "plt.xlim([0, 1])\n",
    "plt.ylim([0, 1])\n",
    "plt.ylabel('True Positive Rate')\n",
    "plt.xlabel('False Positive Rate')\n",
    "plt.title('ROC Curve of kNN')\n",
    "plt.show()"
   ]
  },
  {
   "cell_type": "code",
   "execution_count": null,
   "metadata": {},
   "outputs": [],
   "source": []
  },
  {
   "cell_type": "markdown",
   "metadata": {},
   "source": [
    "### 3. Naive Bayes"
   ]
  },
  {
   "cell_type": "code",
   "execution_count": 156,
   "metadata": {},
   "outputs": [
    {
     "name": "stdout",
     "output_type": "stream",
     "text": [
      "Accuracy score: 0.538750587130108 \n",
      "\n",
      "Classification report (Naive Bayes):\n",
      "\n",
      "               precision    recall  f1-score   support\n",
      "\n",
      "           0       0.84      0.45      0.59      1553\n",
      "           1       0.34      0.77      0.48       576\n",
      "\n",
      "    accuracy                           0.54      2129\n",
      "   macro avg       0.59      0.61      0.53      2129\n",
      "weighted avg       0.71      0.54      0.56      2129\n",
      "\n"
     ]
    }
   ],
   "source": [
    "nb = GaussianNB()\n",
    "nb.fit(X_train,y_train)\n",
    "pred = nb.predict(X_test)\n",
    "print('Accuracy score:',accuracy_score(y_test,pred),'\\n')\n",
    "print('Classification report (Naive Bayes):\\n\\n',classification_report(y_test,pred))"
   ]
  },
  {
   "cell_type": "code",
   "execution_count": 157,
   "metadata": {},
   "outputs": [
    {
     "data": {
      "image/png": "[encoded data removed]",
      "text/plain": [
       "<Figure size 432x288 with 1 Axes>"
      ]
     },
     "metadata": {
      "needs_background": "light"
     },
     "output_type": "display_data"
    }
   ],
   "source": [
    "# Naive Bayes ROC curve\n",
    "y_scores = nb.predict_proba(X_test)\n",
    "fpr, tpr, threshold = roc_curve(y_test, y_scores[:, 1])\n",
    "roc_auc = auc(fpr, tpr)\n",
    "plt.plot(fpr, tpr, 'b', label = 'AUC_nb = %0.3f' % roc_auc)\n",
    "\n",
    "plt.legend(loc = 'lower right')\n",
    "plt.plot([0, 1], [0, 1],'r--')\n",
    "plt.xlim([0, 1])\n",
    "plt.ylim([0, 1])\n",
    "plt.ylabel('True Positive Rate')\n",
    "plt.xlabel('False Positive Rate')\n",
    "plt.title('ROC Curve of Naive Bayes')\n",
    "plt.show()"
   ]
  },
  {
   "cell_type": "code",
   "execution_count": 158,
   "metadata": {},
   "outputs": [],
   "source": [
    "# Compared to baseline version, Naive Bayes has higher recall but lower precision."
   ]
  },
  {
   "cell_type": "code",
   "execution_count": null,
   "metadata": {},
   "outputs": [],
   "source": []
  }
 ],
 "metadata": {
  "kernelspec": {
   "display_name": "Python 3",
   "language": "python",
   "name": "python3"
  },
  "language_info": {
   "codemirror_mode": {
    "name": "ipython",
    "version": 3
   },
   "file_extension": ".py",
   "mimetype": "text/x-python",
   "name": "python",
   "nbconvert_exporter": "python",
   "pygments_lexer": "ipython3",
   "version": "3.8.5"
  }
 },
 "nbformat": 4,
 "nbformat_minor": 4
}
