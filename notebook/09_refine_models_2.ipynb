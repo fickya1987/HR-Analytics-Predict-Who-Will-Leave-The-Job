{
 "cells": [
  {
   "cell_type": "code",
   "execution_count": null,
   "metadata": {},
   "outputs": [],
   "source": [
    "\"\"\"\n",
    "Use all variables (continuous, categorical) as features\n",
    "Use X_adasyn and y_adasyn as train data (imbalanced classes handled)\n",
    "\n",
    "Refine models (continued):\n",
    "\n",
    "4. Decision tree - classification\n",
    "    - Grid search CV: max_depth, min_samples_leaf, max_features\n",
    "    - P/R: 0.46/0.75\n",
    "    \n",
    "5. Random Forests\n",
    "    - Grid search CV: n_estimators, max_depth, min_samples_leaf, max_features\n",
    "    - P/R: 0.47/0.78\n",
    "    \n",
    "6. XGBoost\n",
    "    - Grid search CV: n_estimators, max_depth, learning_rate, subsample, min_child_weight, colsample_bytree (?)\n",
    "    - P/R: 0.29/0.98\n",
    "\n",
    "Conclusion:\n",
    "ROC AUC highest - \n",
    "Recall highest - \n",
    "\n",
    "\"\"\""
   ]
  },
  {
   "cell_type": "code",
   "execution_count": 135,
   "metadata": {},
   "outputs": [],
   "source": [
    "import pandas as pd\n",
    "import numpy as np\n",
    "import matplotlib.pyplot as plt\n",
    "import seaborn as sns\n",
    "\n",
    "from sklearn.model_selection import train_test_split\n",
    "from sklearn.linear_model import LogisticRegression\n",
    "from sklearn.preprocessing import StandardScaler, OneHotEncoder\n",
    "from sklearn.metrics import confusion_matrix, accuracy_score, classification_report\n",
    "from sklearn.metrics import roc_curve, auc, roc_auc_score\n",
    "from sklearn.metrics import precision_score, recall_score, precision_recall_curve,f1_score, fbeta_score, log_loss\n",
    "\n",
    "from sklearn.neighbors import KNeighborsClassifier\n",
    "from sklearn.naive_bayes import GaussianNB\n",
    "\n",
    "from sklearn.tree import DecisionTreeClassifier\n",
    "from sklearn.svm import LinearSVC\n",
    "from sklearn.svm import SVC\n",
    "from sklearn.ensemble import RandomForestClassifier\n",
    "from sklearn.linear_model import LogisticRegression\n",
    "\n",
    "from sklearn.model_selection import GridSearchCV\n",
    "from sklearn.model_selection import RepeatedStratifiedKFold\n",
    "\n",
    "import xgboost as xgb\n",
    "from xgboost import XGBClassifier\n",
    "\n",
    "from sklearn.ensemble import (RandomForestClassifier, ExtraTreesClassifier, VotingClassifier, \n",
    "                              AdaBoostClassifier, BaggingRegressor, StackingClassifier)"
   ]
  },
  {
   "cell_type": "code",
   "execution_count": 142,
   "metadata": {},
   "outputs": [],
   "source": [
    "# Load data\n",
    "df_train = pd.read_pickle('../dump/df_train.csv')\n",
    "df_test = pd.read_pickle('../dump/df_test.csv')\n",
    "\n",
    "\n",
    "X_train = pd.read_pickle('../dump/X_adasyn')\n",
    "y_train = pd.read_pickle('../dump/y_adasyn')\n",
    "X_test = pd.read_pickle('../dump/X_test_processed')\n",
    "y_test = df_test['target']"
   ]
  },
  {
   "cell_type": "code",
   "execution_count": 41,
   "metadata": {},
   "outputs": [
    {
     "data": {
      "text/plain": [
       "(28836, 32)"
      ]
     },
     "execution_count": 41,
     "metadata": {},
     "output_type": "execute_result"
    }
   ],
   "source": [
    "X_train.shape"
   ]
  },
  {
   "cell_type": "code",
   "execution_count": 42,
   "metadata": {},
   "outputs": [],
   "source": [
    "def quick_test(model, X_train, y_train, X_test, y_test):\n",
    "    model.fit(X_train, y_train)\n",
    "    return model.score(X_test, y_test)\n",
    "\n",
    "def quick_test_afew_times(model, X_train, y_train, X_test, y_test, n=10):\n",
    "    return np.mean([quick_test(model, X_train, y_train, X_test, y_test) for j in range(n)])"
   ]
  },
  {
   "cell_type": "code",
   "execution_count": 43,
   "metadata": {},
   "outputs": [],
   "source": [
    "# # Linear SVC\n",
    "# linearsvc = LinearSVC()\n",
    "\n",
    "# # Do the test 10 times with a LinearSVC and get the average score\n",
    "# quick_test_afew_times(linearsvc, X_train, y_train, X_test, y_test)"
   ]
  },
  {
   "cell_type": "markdown",
   "metadata": {},
   "source": [
    "### 4. Decision tree - classification"
   ]
  },
  {
   "cell_type": "code",
   "execution_count": 44,
   "metadata": {},
   "outputs": [
    {
     "data": {
      "text/plain": [
       "0.6115547205260687"
      ]
     },
     "execution_count": 44,
     "metadata": {},
     "output_type": "execute_result"
    }
   ],
   "source": [
    "# Decision tree\n",
    "decisiontree = DecisionTreeClassifier(max_depth=4)\n",
    "quick_test_afew_times(decisiontree, X_train, y_train, X_test, y_test)"
   ]
  },
  {
   "cell_type": "code",
   "execution_count": 8,
   "metadata": {},
   "outputs": [
    {
     "name": "stdout",
     "output_type": "stream",
     "text": [
      "Accuracy score: 0.6115547205260686 \n",
      "\n",
      "Classification report (Naive Bayes):\n",
      "\n",
      "               precision    recall  f1-score   support\n",
      "\n",
      "           0       0.88      0.54      0.67      1553\n",
      "           1       0.39      0.81      0.53       576\n",
      "\n",
      "    accuracy                           0.61      2129\n",
      "   macro avg       0.64      0.67      0.60      2129\n",
      "weighted avg       0.75      0.61      0.63      2129\n",
      "\n"
     ]
    }
   ],
   "source": [
    "pred = decisiontree.predict(X_test)\n",
    "print('Accuracy score:',accuracy_score(y_test,pred),'\\n')\n",
    "print('Classification report (Naive Bayes):\\n\\n',classification_report(y_test,pred))"
   ]
  },
  {
   "cell_type": "code",
   "execution_count": 9,
   "metadata": {},
   "outputs": [
    {
     "data": {
      "image/png": "[encoded data removed]",
      "text/plain": [
       "<Figure size 432x288 with 1 Axes>"
      ]
     },
     "metadata": {
      "needs_background": "light"
     },
     "output_type": "display_data"
    }
   ],
   "source": [
    "# Decision Tree ROC curve\n",
    "y_scores = decisiontree.predict_proba(X_test)\n",
    "fpr, tpr, threshold = roc_curve(y_test, y_scores[:, 1])\n",
    "roc_auc = auc(fpr, tpr)\n",
    "plt.plot(fpr, tpr, 'b', label = 'AUC_tree = %0.3f' % roc_auc)\n",
    "\n",
    "plt.legend(loc = 'lower right')\n",
    "plt.plot([0, 1], [0, 1],'r--')\n",
    "plt.xlim([0, 1])\n",
    "plt.ylim([0, 1])\n",
    "plt.ylabel('True Positive Rate')\n",
    "plt.xlabel('False Positive Rate')\n",
    "plt.title('ROC Curve of Decision Tree')\n",
    "plt.show()"
   ]
  },
  {
   "cell_type": "code",
   "execution_count": null,
   "metadata": {},
   "outputs": [],
   "source": []
  },
  {
   "cell_type": "markdown",
   "metadata": {},
   "source": [
    "#### Grid search cross-validation"
   ]
  },
  {
   "cell_type": "code",
   "execution_count": 78,
   "metadata": {},
   "outputs": [
    {
     "data": {
      "text/plain": [
       "{'ccp_alpha': 0.0,\n",
       " 'class_weight': None,\n",
       " 'criterion': 'gini',\n",
       " 'max_depth': None,\n",
       " 'max_features': None,\n",
       " 'max_leaf_nodes': None,\n",
       " 'min_impurity_decrease': 0.0,\n",
       " 'min_impurity_split': None,\n",
       " 'min_samples_leaf': 1,\n",
       " 'min_samples_split': 2,\n",
       " 'min_weight_fraction_leaf': 0.0,\n",
       " 'presort': 'deprecated',\n",
       " 'random_state': None,\n",
       " 'splitter': 'best'}"
      ]
     },
     "execution_count": 78,
     "metadata": {},
     "output_type": "execute_result"
    }
   ],
   "source": [
    "decisiontree_2 = DecisionTreeClassifier()\n",
    "decisiontree_2.get_params()"
   ]
  },
  {
   "cell_type": "code",
   "execution_count": 62,
   "metadata": {},
   "outputs": [],
   "source": [
    "max_depth = [3,4,5,6]\n",
    "min_samples_leaf = [0.04,0.06,0.08]\n",
    "max_features = [0.2,0.4,0.6,0.8]"
   ]
  },
  {
   "cell_type": "code",
   "execution_count": 65,
   "metadata": {},
   "outputs": [
    {
     "name": "stdout",
     "output_type": "stream",
     "text": [
      "Best: 0.718782 using {'max_depth': 6, 'max_features': 0.2, 'min_samples_leaf': 0.08}\n"
     ]
    }
   ],
   "source": [
    "# Define grid search\n",
    "grid = dict(max_depth = max_depth, min_samples_leaf = min_samples_leaf, max_features = max_features)\n",
    "cv = RepeatedStratifiedKFold(n_splits=10, n_repeats=3, random_state=1)\n",
    "grid_search = GridSearchCV(estimator=decisiontree_2, param_grid=grid, n_jobs=-1, cv=5, scoring='recall',error_score=0)\n",
    "grid_result = grid_search.fit(X_train, y_train)\n",
    "# summarize results\n",
    "print(\"Best: %f using %s\" % (grid_result.best_score_, grid_result.best_params_))\n",
    "means = grid_result.cv_results_['mean_test_score']\n",
    "stds = grid_result.cv_results_['std_test_score']\n",
    "params = grid_result.cv_results_['params']"
   ]
  },
  {
   "cell_type": "code",
   "execution_count": 70,
   "metadata": {},
   "outputs": [
    {
     "name": "stdout",
     "output_type": "stream",
     "text": [
      "Accuracy score: 0.6932832315641146 \n",
      "\n",
      "Classification report (Decision Tree):\n",
      "\n",
      "               precision    recall  f1-score   support\n",
      "\n",
      "           0       0.88      0.67      0.76      1553\n",
      "           1       0.46      0.75      0.57       576\n",
      "\n",
      "    accuracy                           0.69      2129\n",
      "   macro avg       0.67      0.71      0.67      2129\n",
      "weighted avg       0.77      0.69      0.71      2129\n",
      "\n"
     ]
    }
   ],
   "source": [
    "decisiontree_3 = grid_search.best_estimator_\n",
    "decisiontree_3.fit(X_train,y_train)\n",
    "pred = decisiontree_3.predict(X_test)\n",
    "print('Accuracy score:',accuracy_score(y_test,pred),'\\n')\n",
    "print('Classification report (Decision Tree):\\n\\n',classification_report(y_test,pred))"
   ]
  },
  {
   "cell_type": "code",
   "execution_count": null,
   "metadata": {},
   "outputs": [],
   "source": [
    "# Decision Tree ROC curve\n",
    "y_scores = decisiontree_3.predict_proba(X_test)\n",
    "fpr, tpr, threshold = roc_curve(y_test, y_scores[:, 1])\n",
    "roc_auc = auc(fpr, tpr)\n",
    "plt.plot(fpr, tpr, 'b', label = 'AUC_tree = %0.3f' % roc_auc)\n",
    "\n",
    "plt.legend(loc = 'lower right')\n",
    "plt.plot([0, 1], [0, 1],'r--')\n",
    "plt.xlim([0, 1])\n",
    "plt.ylim([0, 1])\n",
    "plt.ylabel('True Positive Rate')\n",
    "plt.xlabel('False Positive Rate')\n",
    "plt.title('ROC Curve of Decision Tree')\n",
    "plt.show()"
   ]
  },
  {
   "cell_type": "code",
   "execution_count": null,
   "metadata": {},
   "outputs": [],
   "source": []
  },
  {
   "cell_type": "markdown",
   "metadata": {},
   "source": [
    "### 5. Random Forests"
   ]
  },
  {
   "cell_type": "code",
   "execution_count": 72,
   "metadata": {},
   "outputs": [
    {
     "data": {
      "text/plain": [
       "0.7095819633630813"
      ]
     },
     "execution_count": 72,
     "metadata": {},
     "output_type": "execute_result"
    }
   ],
   "source": [
    "# Random Forests\n",
    "randomforest = RandomForestClassifier(n_estimators=100)\n",
    "quick_test_afew_times(randomforest, X_train, y_train, X_test, y_test)"
   ]
  },
  {
   "cell_type": "code",
   "execution_count": 73,
   "metadata": {},
   "outputs": [
    {
     "name": "stdout",
     "output_type": "stream",
     "text": [
      "Accuracy score: 0.7078440582433068 \n",
      "\n",
      "Classification report (Random Forests):\n",
      "\n",
      "               precision    recall  f1-score   support\n",
      "\n",
      "           0       0.86      0.71      0.78      1553\n",
      "           1       0.47      0.70      0.56       576\n",
      "\n",
      "    accuracy                           0.71      2129\n",
      "   macro avg       0.67      0.71      0.67      2129\n",
      "weighted avg       0.76      0.71      0.72      2129\n",
      "\n"
     ]
    }
   ],
   "source": [
    "pred = randomforest.predict(X_test)\n",
    "print('Accuracy score:',accuracy_score(y_test,pred),'\\n')\n",
    "print('Classification report (Random Forests):\\n\\n',classification_report(y_test,pred))"
   ]
  },
  {
   "cell_type": "code",
   "execution_count": 74,
   "metadata": {},
   "outputs": [
    {
     "data": {
      "image/png": "[encoded data removed]",
      "text/plain": [
       "<Figure size 432x288 with 1 Axes>"
      ]
     },
     "metadata": {
      "needs_background": "light"
     },
     "output_type": "display_data"
    }
   ],
   "source": [
    "# Random Forests ROC curve\n",
    "y_scores = randomforest.predict_proba(X_test)\n",
    "fpr, tpr, threshold = roc_curve(y_test, y_scores[:, 1])\n",
    "roc_auc = auc(fpr, tpr)\n",
    "plt.plot(fpr, tpr, 'b', label = 'AUC_forests = %0.3f' % roc_auc)\n",
    "\n",
    "plt.legend(loc = 'lower right')\n",
    "plt.plot([0, 1], [0, 1],'r--')\n",
    "plt.xlim([0, 1])\n",
    "plt.ylim([0, 1])\n",
    "plt.ylabel('True Positive Rate')\n",
    "plt.xlabel('False Positive Rate')\n",
    "plt.title('ROC Curve of Random Forests')\n",
    "plt.show()"
   ]
  },
  {
   "cell_type": "code",
   "execution_count": 137,
   "metadata": {},
   "outputs": [
    {
     "data": {
      "image/png": "[encoded data removed]",
      "text/plain": [
       "<Figure size 720x720 with 1 Axes>"
      ]
     },
     "metadata": {
      "needs_background": "light"
     },
     "output_type": "display_data"
    }
   ],
   "source": [
    "# Feature importance\n",
    "pd.Series(randomforest.feature_importances_, index = X_train.columns).nlargest(12).\\\n",
    "plot(kind = 'barh',figsize = (10, 10),title = 'Feature importance from Random Forests').invert_yaxis();\n"
   ]
  },
  {
   "cell_type": "code",
   "execution_count": null,
   "metadata": {},
   "outputs": [],
   "source": []
  },
  {
   "cell_type": "markdown",
   "metadata": {},
   "source": [
    "#### Grid search cross-validation"
   ]
  },
  {
   "cell_type": "code",
   "execution_count": 76,
   "metadata": {},
   "outputs": [
    {
     "data": {
      "text/plain": [
       "{'bootstrap': True,\n",
       " 'ccp_alpha': 0.0,\n",
       " 'class_weight': None,\n",
       " 'criterion': 'gini',\n",
       " 'max_depth': None,\n",
       " 'max_features': 'auto',\n",
       " 'max_leaf_nodes': None,\n",
       " 'max_samples': None,\n",
       " 'min_impurity_decrease': 0.0,\n",
       " 'min_impurity_split': None,\n",
       " 'min_samples_leaf': 1,\n",
       " 'min_samples_split': 2,\n",
       " 'min_weight_fraction_leaf': 0.0,\n",
       " 'n_estimators': 100,\n",
       " 'n_jobs': None,\n",
       " 'oob_score': False,\n",
       " 'random_state': None,\n",
       " 'verbose': 0,\n",
       " 'warm_start': False}"
      ]
     },
     "execution_count": 76,
     "metadata": {},
     "output_type": "execute_result"
    }
   ],
   "source": [
    "randomforest_2 = RandomForestClassifier()\n",
    "randomforest_2.get_params()"
   ]
  },
  {
   "cell_type": "code",
   "execution_count": 79,
   "metadata": {},
   "outputs": [],
   "source": [
    "n_estimators = [300,400,500,600]\n",
    "max_depth = [4,6,8]\n",
    "min_samples_leaf = [0.1,0.2,0.3]\n",
    "max_features = ['log2','sqrt']"
   ]
  },
  {
   "cell_type": "code",
   "execution_count": 80,
   "metadata": {},
   "outputs": [
    {
     "name": "stdout",
     "output_type": "stream",
     "text": [
      "Best: 0.726531 using {'max_depth': 4, 'max_features': 'sqrt', 'min_samples_leaf': 0.1, 'n_estimators': 300}\n"
     ]
    }
   ],
   "source": [
    "# Define grid search\n",
    "grid = dict(n_estimators = n_estimators, max_depth = max_depth,\\\n",
    "            min_samples_leaf = min_samples_leaf, max_features = max_features)\n",
    "cv = RepeatedStratifiedKFold(n_splits=10, n_repeats=3, random_state=1)\n",
    "grid_search = GridSearchCV(estimator=randomforest_2, param_grid=grid, n_jobs=-1, cv=5, scoring='recall',error_score=0)\n",
    "grid_result = grid_search.fit(X_train, y_train)\n",
    "# summarize results\n",
    "print(\"Best: %f using %s\" % (grid_result.best_score_, grid_result.best_params_))\n",
    "means = grid_result.cv_results_['mean_test_score']\n",
    "stds = grid_result.cv_results_['std_test_score']\n",
    "params = grid_result.cv_results_['params']"
   ]
  },
  {
   "cell_type": "code",
   "execution_count": 81,
   "metadata": {},
   "outputs": [
    {
     "name": "stdout",
     "output_type": "stream",
     "text": [
      "Accuracy score: 0.7045561296383278 \n",
      "\n",
      "Classification report (Decision Tree):\n",
      "\n",
      "               precision    recall  f1-score   support\n",
      "\n",
      "           0       0.89      0.68      0.77      1553\n",
      "           1       0.47      0.78      0.59       576\n",
      "\n",
      "    accuracy                           0.70      2129\n",
      "   macro avg       0.68      0.73      0.68      2129\n",
      "weighted avg       0.78      0.70      0.72      2129\n",
      "\n"
     ]
    }
   ],
   "source": [
    "randomforest_3 = grid_search.best_estimator_\n",
    "randomforest_3.fit(X_train,y_train)\n",
    "pred = randomforest_3.predict(X_test)\n",
    "print('Accuracy score:',accuracy_score(y_test,pred),'\\n')\n",
    "print('Classification report (Decision Tree):\\n\\n',classification_report(y_test,pred))"
   ]
  },
  {
   "cell_type": "code",
   "execution_count": null,
   "metadata": {},
   "outputs": [],
   "source": [
    "# Random Forests ROC curve\n",
    "y_scores = randomforest_3.predict_proba(X_test)\n",
    "fpr, tpr, threshold = roc_curve(y_test, y_scores[:, 1])\n",
    "roc_auc = auc(fpr, tpr)\n",
    "plt.plot(fpr, tpr, 'b', label = 'AUC_forests = %0.3f' % roc_auc)\n",
    "\n",
    "plt.legend(loc = 'lower right')\n",
    "plt.plot([0, 1], [0, 1],'r--')\n",
    "plt.xlim([0, 1])\n",
    "plt.ylim([0, 1])\n",
    "plt.ylabel('True Positive Rate')\n",
    "plt.xlabel('False Positive Rate')\n",
    "plt.title('ROC Curve of Random Forests')\n",
    "plt.show()"
   ]
  },
  {
   "cell_type": "code",
   "execution_count": null,
   "metadata": {},
   "outputs": [],
   "source": []
  },
  {
   "cell_type": "markdown",
   "metadata": {},
   "source": [
    "### 6. XGBoost"
   ]
  },
  {
   "cell_type": "code",
   "execution_count": 144,
   "metadata": {},
   "outputs": [],
   "source": [
    "X_train.rename(columns={'company_size_<10':'company_size_lessthan10'},inplace=True)\n",
    "X_test.rename(columns={'company_size_<10':'company_size_lessthan10'},inplace=True)"
   ]
  },
  {
   "cell_type": "code",
   "execution_count": 84,
   "metadata": {},
   "outputs": [],
   "source": [
    "# Split train data into 2: 80% train, 20% validation\n",
    "\n",
    "X_train, X_val, y_train, y_val = train_test_split(X_train, y_train, test_size=0.25, random_state=2)"
   ]
  },
  {
   "cell_type": "code",
   "execution_count": 159,
   "metadata": {},
   "outputs": [
    {
     "data": {
      "text/plain": [
       "{'objective': 'binary:logistic',\n",
       " 'use_label_encoder': False,\n",
       " 'base_score': 0.5,\n",
       " 'booster': 'gbtree',\n",
       " 'colsample_bylevel': 1,\n",
       " 'colsample_bynode': 1,\n",
       " 'colsample_bytree': 0.5,\n",
       " 'gamma': 0,\n",
       " 'gpu_id': -1,\n",
       " 'importance_type': 'gain',\n",
       " 'interaction_constraints': '',\n",
       " 'learning_rate': 0.8,\n",
       " 'max_delta_step': 0,\n",
       " 'max_depth': 4,\n",
       " 'min_child_weight': 2,\n",
       " 'missing': nan,\n",
       " 'monotone_constraints': '()',\n",
       " 'n_estimators': 30000,\n",
       " 'n_jobs': 4,\n",
       " 'num_parallel_tree': 1,\n",
       " 'random_state': 0,\n",
       " 'reg_alpha': 0,\n",
       " 'reg_lambda': 1,\n",
       " 'scale_pos_weight': 1,\n",
       " 'subsample': 0.2,\n",
       " 'tree_method': 'exact',\n",
       " 'validate_parameters': 1,\n",
       " 'verbosity': None}"
      ]
     },
     "execution_count": 159,
     "metadata": {},
     "output_type": "execute_result"
    }
   ],
   "source": [
    "xgb.get_params()"
   ]
  },
  {
   "cell_type": "code",
   "execution_count": 85,
   "metadata": {},
   "outputs": [
    {
     "data": {
      "text/plain": [
       "0.34992954438703616"
      ]
     },
     "execution_count": 85,
     "metadata": {},
     "output_type": "execute_result"
    }
   ],
   "source": [
    "xgb = XGBClassifier( \n",
    "        n_estimators=30000,\n",
    "        max_depth=4,\n",
    "        objective='binary:logistic', #new objective\n",
    "        use_label_encoder=False,\n",
    "        learning_rate=.05, \n",
    "        subsample=.2,\n",
    "        min_child_weight=2,\n",
    "        colsample_bytree=.5)\n",
    "\n",
    "eval_set=[(X_train,y_train),(X_val,y_val)]\n",
    "\n",
    "fit_model = xgb.fit(\n",
    "                X_train, y_train, \n",
    "                eval_set=eval_set,\n",
    "                eval_metric='error', #(wrong cases)/(all cases)\n",
    "                early_stopping_rounds=50,\n",
    "                verbose=False)\n",
    "\n",
    "accuracy_score(y_test, xgb.predict(X_test, ntree_limit=xgb.best_ntree_limit)) "
   ]
  },
  {
   "cell_type": "code",
   "execution_count": 160,
   "metadata": {},
   "outputs": [
    {
     "name": "stdout",
     "output_type": "stream",
     "text": [
      "Accuracy score: 0.3001409112259277\n",
      "ROC AUC score: 0.6711673642412536 \n",
      "\n",
      "Classification report (XGBoost):\n",
      "\n",
      "               precision    recall  f1-score   support\n",
      "\n",
      "           0       0.94      0.04      0.08      1553\n",
      "           1       0.28      0.99      0.43       576\n",
      "\n",
      "    accuracy                           0.30      2129\n",
      "   macro avg       0.61      0.52      0.26      2129\n",
      "weighted avg       0.76      0.30      0.18      2129\n",
      "\n"
     ]
    }
   ],
   "source": [
    "xgb = XGBClassifier( \n",
    "        n_estimators=30000,\n",
    "        max_depth=4,\n",
    "        objective='binary:logistic', #new objective\n",
    "        use_label_encoder=False,\n",
    "        learning_rate=.04, \n",
    "        subsample=.2,\n",
    "        min_child_weight=2,\n",
    "        colsample_bytree=.5)\n",
    "\n",
    "eval_set=[(X_train,y_train),(X_val,y_val)]\n",
    "\n",
    "fit_model = xgb.fit(\n",
    "                X_train, y_train, \n",
    "                eval_set=eval_set,\n",
    "                eval_metric='error', #new evaluation metric: classification error (could also use AUC, e.g.)\n",
    "                early_stopping_rounds=100,\n",
    "                verbose=False)\n",
    "\n",
    "accuracy_score(y_test, xgb.predict(X_test, ntree_limit=xgb.best_ntree_limit)) \n",
    "pred = xgb.predict(X_test, ntree_limit=xgb.best_ntree_limit)\n",
    "print('Accuracy score:',accuracy_score(y_test,pred))\n",
    "print('ROC AUC score:',roc_auc_score(y_test,xgb.predict_proba(X_test)[:, 1]),'\\n')\n",
    "print('Classification report (XGBoost):\\n\\n',classification_report(y_test,pred))"
   ]
  },
  {
   "cell_type": "code",
   "execution_count": 161,
   "metadata": {},
   "outputs": [
    {
     "name": "stderr",
     "output_type": "stream",
     "text": [
      "/opt/anaconda3/lib/python3.8/site-packages/xgboost/sklearn.py:888: UserWarning: The use of label encoder in XGBClassifier is deprecated and will be removed in a future release. To remove this warning, do the following: 1) Pass option use_label_encoder=False when constructing XGBClassifier object; and 2) Encode your labels (y) as integers starting with 0, i.e. 0, 1, 2, ..., [num_class - 1].\n",
      "  warnings.warn(label_encoder_deprecation_msg, UserWarning)\n"
     ]
    },
    {
     "name": "stdout",
     "output_type": "stream",
     "text": [
      "[18:59:23] WARNING: /Users/runner/miniforge3/conda-bld/xgboost_1607604592557/work/src/learner.cc:1061: Starting in XGBoost 1.3.0, the default evaluation metric used with the objective 'binary:logistic' was changed from 'error' to 'logloss'. Explicitly set eval_metric if you'd like to restore the old behavior.\n"
     ]
    },
    {
     "data": {
      "image/png": "[encoded data removed]",
      "text/plain": [
       "<Figure size 720x720 with 1 Axes>"
      ]
     },
     "metadata": {
      "needs_background": "light"
     },
     "output_type": "display_data"
    }
   ],
   "source": [
    "from xgboost import XGBClassifier\n",
    "\n",
    "xgb_clf = XGBClassifier(max_depth=12, learning_rate=1e-4,n_estimators=500)\n",
    "xgb_clf.fit(X_train, y_train)\n",
    "xgb_y_pred = xgb_clf.predict(X_val)\n",
    "\n",
    "pd.Series(xgb_clf.feature_importances_, index = X_train.columns).nlargest(12).plot(kind = 'barh',\n",
    "                                                                               figsize = (10, 10),\n",
    "                                                                              title = 'Feature importance from XGBoost').invert_yaxis();"
   ]
  },
  {
   "cell_type": "code",
   "execution_count": 173,
   "metadata": {},
   "outputs": [
    {
     "name": "stdout",
     "output_type": "stream",
     "text": [
      "Accuracy score: 0.4579614842649131\n",
      "ROC AUC score: 0.6184490591686342 \n",
      "\n",
      "Classification report (XGBoost):\n",
      "\n",
      "               precision    recall  f1-score   support\n",
      "\n",
      "           0       0.86      0.31      0.45      1553\n",
      "           1       0.32      0.86      0.46       576\n",
      "\n",
      "    accuracy                           0.46      2129\n",
      "   macro avg       0.59      0.58      0.46      2129\n",
      "weighted avg       0.71      0.46      0.46      2129\n",
      "\n"
     ]
    }
   ],
   "source": [
    "pred = xgb_clf.predict(X_test, ntree_limit=xgb.best_ntree_limit)\n",
    "print('Accuracy score:',accuracy_score(y_test,pred))\n",
    "print('ROC AUC score:',roc_auc_score(y_test,xgb_clf.predict_proba(X_test)[:, 1]),'\\n')\n",
    "print('Classification report (XGBoost):\\n\\n',classification_report(y_test,pred))"
   ]
  },
  {
   "cell_type": "code",
   "execution_count": 134,
   "metadata": {},
   "outputs": [
    {
     "name": "stdout",
     "output_type": "stream",
     "text": [
      "Accuracy score: 0.31423203381869425\n",
      "ROC AUC score: 0.6919721909207985 \n",
      "\n",
      "Classification report (XGBoost):\n",
      "\n",
      "               precision    recall  f1-score   support\n",
      "\n",
      "           0       0.94      0.06      0.12      1553\n",
      "           1       0.28      0.99      0.44       576\n",
      "\n",
      "    accuracy                           0.31      2129\n",
      "   macro avg       0.61      0.53      0.28      2129\n",
      "weighted avg       0.76      0.31      0.21      2129\n",
      "\n"
     ]
    }
   ],
   "source": [
    "xgb.fit(\n",
    "                X_train, y_train, \n",
    "                eval_set=eval_set,\n",
    "                eval_metric='error', #new evaluation metric: classification error (could also use AUC, e.g.)\n",
    "                early_stopping_rounds=50,\n",
    "                verbose=False)\n",
    "pred = xgb.predict(X_test, ntree_limit=xgb.best_ntree_limit)\n",
    "print('Accuracy score:',accuracy_score(y_test,pred))\n",
    "print('ROC AUC score:',roc_auc_score(y_test,xgb.predict_proba(X_test)[:, 1]),'\\n')\n",
    "print('Classification report (XGBoost):\\n\\n',classification_report(y_test,pred))"
   ]
  },
  {
   "cell_type": "code",
   "execution_count": 86,
   "metadata": {},
   "outputs": [
    {
     "name": "stdout",
     "output_type": "stream",
     "text": [
      "Accuracy score: 0.34992954438703616\n",
      "ROC AUC score: 0.7415329648708592 \n",
      "\n",
      "Classification report (XGBoost):\n",
      "\n",
      "               precision    recall  f1-score   support\n",
      "\n",
      "           0       0.93      0.12      0.21      1553\n",
      "           1       0.29      0.98      0.45       576\n",
      "\n",
      "    accuracy                           0.35      2129\n",
      "   macro avg       0.61      0.55      0.33      2129\n",
      "weighted avg       0.76      0.35      0.27      2129\n",
      "\n"
     ]
    }
   ],
   "source": [
    "pred = xgb.predict(X_test)\n",
    "print('Accuracy score:',accuracy_score(y_test,pred))\n",
    "print('ROC AUC score:',roc_auc_score(y_test,xgb.predict_proba(X_test)[:, 1]),'\\n')\n",
    "print('Classification report (XGBoost):\\n\\n',classification_report(y_test,pred))"
   ]
  },
  {
   "cell_type": "code",
   "execution_count": 87,
   "metadata": {},
   "outputs": [
    {
     "data": {
      "image/png": "[encoded data removed]",
      "text/plain": [
       "<Figure size 432x288 with 1 Axes>"
      ]
     },
     "metadata": {
      "needs_background": "light"
     },
     "output_type": "display_data"
    }
   ],
   "source": [
    "# XGBoost ROC curve\n",
    "y_scores = xgb.predict_proba(X_test)\n",
    "fpr, tpr, threshold = roc_curve(y_test, y_scores[:, 1])\n",
    "roc_auc = auc(fpr, tpr)\n",
    "plt.plot(fpr, tpr, 'b', label = 'AUC_xgb = %0.3f' % roc_auc)\n",
    "\n",
    "plt.legend(loc = 'lower right')\n",
    "plt.plot([0, 1], [0, 1],'r--')\n",
    "plt.xlim([0, 1])\n",
    "plt.ylim([0, 1])\n",
    "plt.ylabel('True Positive Rate')\n",
    "plt.xlabel('False Positive Rate')\n",
    "plt.title('ROC Curve of XGBoost')\n",
    "plt.show()"
   ]
  },
  {
   "cell_type": "code",
   "execution_count": 145,
   "metadata": {},
   "outputs": [
    {
     "name": "stderr",
     "output_type": "stream",
     "text": [
      "/opt/anaconda3/lib/python3.8/site-packages/xgboost/sklearn.py:888: UserWarning: The use of label encoder in XGBClassifier is deprecated and will be removed in a future release. To remove this warning, do the following: 1) Pass option use_label_encoder=False when constructing XGBClassifier object; and 2) Encode your labels (y) as integers starting with 0, i.e. 0, 1, 2, ..., [num_class - 1].\n",
      "  warnings.warn(label_encoder_deprecation_msg, UserWarning)\n"
     ]
    },
    {
     "name": "stdout",
     "output_type": "stream",
     "text": [
      "[15:08:07] WARNING: /Users/runner/miniforge3/conda-bld/xgboost_1607604592557/work/src/learner.cc:1061: Starting in XGBoost 1.3.0, the default evaluation metric used with the objective 'binary:logistic' was changed from 'error' to 'logloss'. Explicitly set eval_metric if you'd like to restore the old behavior.\n"
     ]
    },
    {
     "data": {
      "image/png": "[encoded data removed]",
      "text/plain": [
       "<Figure size 720x720 with 1 Axes>"
      ]
     },
     "metadata": {
      "needs_background": "light"
     },
     "output_type": "display_data"
    }
   ],
   "source": [
    "from xgboost import XGBClassifier\n",
    "\n",
    "xgb_clf = XGBClassifier(max_depth=12, learning_rate=1e-4,n_estimators=500)\n",
    "xgb_clf.fit(X_train, y_train)\n",
    "xgb_y_pred = xgb_clf.predict(X_val)\n",
    "\n",
    "pd.Series(xgb_clf.feature_importances_, index = X_train.columns).nlargest(12).plot(kind = 'barh',\n",
    "                                                                               figsize = (10, 10),\n",
    "                                                                              title = 'Feature importance from XGBoost').invert_yaxis();\n"
   ]
  },
  {
   "cell_type": "code",
   "execution_count": null,
   "metadata": {},
   "outputs": [],
   "source": []
  },
  {
   "cell_type": "markdown",
   "metadata": {},
   "source": [
    "#### Grid search cross-validation"
   ]
  },
  {
   "cell_type": "code",
   "execution_count": 88,
   "metadata": {},
   "outputs": [
    {
     "data": {
      "text/plain": [
       "{'objective': 'binary:logistic',\n",
       " 'use_label_encoder': True,\n",
       " 'base_score': None,\n",
       " 'booster': None,\n",
       " 'colsample_bylevel': None,\n",
       " 'colsample_bynode': None,\n",
       " 'colsample_bytree': None,\n",
       " 'gamma': None,\n",
       " 'gpu_id': None,\n",
       " 'importance_type': 'gain',\n",
       " 'interaction_constraints': None,\n",
       " 'learning_rate': None,\n",
       " 'max_delta_step': None,\n",
       " 'max_depth': None,\n",
       " 'min_child_weight': None,\n",
       " 'missing': nan,\n",
       " 'monotone_constraints': None,\n",
       " 'n_estimators': 100,\n",
       " 'n_jobs': None,\n",
       " 'num_parallel_tree': None,\n",
       " 'random_state': None,\n",
       " 'reg_alpha': None,\n",
       " 'reg_lambda': None,\n",
       " 'scale_pos_weight': None,\n",
       " 'subsample': None,\n",
       " 'tree_method': None,\n",
       " 'validate_parameters': None,\n",
       " 'verbosity': None}"
      ]
     },
     "execution_count": 88,
     "metadata": {},
     "output_type": "execute_result"
    }
   ],
   "source": [
    "xgb_2 = XGBClassifier()\n",
    "xgb_2.get_params()"
   ]
  },
  {
   "cell_type": "code",
   "execution_count": 89,
   "metadata": {},
   "outputs": [],
   "source": [
    "n_estimators= [1000, 10000, 30000, 50000]\n",
    "max_depth= [3,4,5,6]\n",
    "learning_rate= [.025, .05, .1]\n",
    "subsample= [.1, .2, .3]\n",
    "min_child_weight= [1, 2, 3]\n",
    "colsample_bytree= [.25, .5, 1]"
   ]
  },
  {
   "cell_type": "code",
   "execution_count": null,
   "metadata": {},
   "outputs": [],
   "source": [
    "# Define grid search\n",
    "grid = dict(n_estimators = n_estimators, max_depth = max_depth, learning_rate = learning_rate,\\\n",
    "            subsample = subsample, min_child_weight = min_child_weight, colsample_bytree = colsample_bytree)\n",
    "cv = RepeatedStratifiedKFold(n_splits=10, n_repeats=3, random_state=1)\n",
    "grid_search = GridSearchCV(estimator=xgb_2, param_grid=grid, n_jobs=-1, cv=5, scoring='recall',error_score=0)\n",
    "grid_result = grid_search.fit(X_train, y_train)\n",
    "# summarize results\n",
    "print(\"Best: %f using %s\" % (grid_result.best_score_, grid_result.best_params_))\n",
    "means = grid_result.cv_results_['mean_test_score']\n",
    "stds = grid_result.cv_results_['std_test_score']\n",
    "params = grid_result.cv_results_['params']"
   ]
  },
  {
   "cell_type": "code",
   "execution_count": null,
   "metadata": {},
   "outputs": [],
   "source": [
    "xgb_3 = grid_search.best_estimator_\n",
    "xgb_3.fit(X_train,y_train)\n",
    "pred = xgb_3.predict(X_test)\n",
    "print('Accuracy score:',accuracy_score(y_test,pred),'\\n')\n",
    "print('Classification report (Decision Tree):\\n\\n',classification_report(y_test,pred))"
   ]
  },
  {
   "cell_type": "code",
   "execution_count": null,
   "metadata": {},
   "outputs": [],
   "source": [
    "# XGBoost ROC curve\n",
    "y_scores = xgb_3.predict_proba(X_test)\n",
    "fpr, tpr, threshold = roc_curve(y_test, y_scores[:, 1])\n",
    "roc_auc = auc(fpr, tpr)\n",
    "plt.plot(fpr, tpr, 'b', label = 'AUC_xgb = %0.3f' % roc_auc)\n",
    "\n",
    "plt.legend(loc = 'lower right')\n",
    "plt.plot([0, 1], [0, 1],'r--')\n",
    "plt.xlim([0, 1])\n",
    "plt.ylim([0, 1])\n",
    "plt.ylabel('True Positive Rate')\n",
    "plt.xlabel('False Positive Rate')\n",
    "plt.title('ROC Curve of XGBoost')\n",
    "plt.show()"
   ]
  },
  {
   "cell_type": "code",
   "execution_count": 167,
   "metadata": {},
   "outputs": [],
   "source": [
    "# Use data before Adasyn treatment\n",
    "X_train = pd.read_pickle('../dump/X_train_processed')\n",
    "y_train = df_train['target']\n",
    "X_test = pd.read_pickle('../dump/X_test_processed')\n",
    "y_test = df_test['target']\n",
    "\n",
    "X_train.rename(columns={'company_size_<10':'company_size_lessthan10'},inplace=True)\n",
    "X_test.rename(columns={'company_size_<10':'company_size_lessthan10'},inplace=True)\n",
    "\n",
    "X_train, X_val, y_train, y_val = train_test_split(X_train, y_train, test_size=0.25, random_state=2)"
   ]
  },
  {
   "cell_type": "code",
   "execution_count": 172,
   "metadata": {},
   "outputs": [
    {
     "name": "stdout",
     "output_type": "stream",
     "text": [
      "Accuracy score: 0.7482386096759042\n",
      "ROC AUC score: 0.7863946125778064 \n",
      "\n",
      "Classification report (XGBoost):\n",
      "\n",
      "               precision    recall  f1-score   support\n",
      "\n",
      "           0       0.75      0.98      0.85      1553\n",
      "           1       0.73      0.11      0.19       576\n",
      "\n",
      "    accuracy                           0.75      2129\n",
      "   macro avg       0.74      0.55      0.52      2129\n",
      "weighted avg       0.74      0.75      0.67      2129\n",
      "\n"
     ]
    }
   ],
   "source": [
    "xgb = XGBClassifier( \n",
    "        n_estimators=30000,\n",
    "        max_depth=4,\n",
    "        objective='binary:logistic', #new objective\n",
    "        use_label_encoder=False,\n",
    "        learning_rate=.04, \n",
    "        subsample=.2,\n",
    "        min_child_weight=2,\n",
    "        colsample_bytree=.5)\n",
    "\n",
    "eval_set=[(X_train,y_train),(X_val,y_val)]\n",
    "\n",
    "fit_model = xgb.fit(\n",
    "                X_train, y_train, \n",
    "                eval_set=eval_set,\n",
    "                eval_metric='aucpr', #new evaluation metric: classification error (could also use AUC, e.g.)\n",
    "                early_stopping_rounds=100,\n",
    "                verbose=False)\n",
    "\n",
    "accuracy_score(y_test, xgb.predict(X_test, ntree_limit=xgb.best_ntree_limit)) \n",
    "pred = xgb.predict(X_test, ntree_limit=xgb.best_ntree_limit)\n",
    "print('Accuracy score:',accuracy_score(y_test,pred))\n",
    "print('ROC AUC score:',roc_auc_score(y_test,xgb.predict_proba(X_test)[:, 1]),'\\n')\n",
    "print('Classification report (XGBoost):\\n\\n',classification_report(y_test,pred))"
   ]
  },
  {
   "cell_type": "code",
   "execution_count": null,
   "metadata": {},
   "outputs": [],
   "source": []
  }
 ],
 "metadata": {
  "kernelspec": {
   "display_name": "Python 3",
   "language": "python",
   "name": "python3"
  },
  "language_info": {
   "codemirror_mode": {
    "name": "ipython",
    "version": 3
   },
   "file_extension": ".py",
   "mimetype": "text/x-python",
   "name": "python",
   "nbconvert_exporter": "python",
   "pygments_lexer": "ipython3",
   "version": "3.8.5"
  }
 },
 "nbformat": 4,
 "nbformat_minor": 4
}
